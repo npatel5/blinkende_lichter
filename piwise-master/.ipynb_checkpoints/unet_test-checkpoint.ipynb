{
 "cells": [
  {
   "cell_type": "markdown",
   "metadata": {},
   "source": [
    "## Import them all"
   ]
  },
  {
   "cell_type": "code",
   "execution_count": 2,
   "metadata": {},
   "outputs": [],
   "source": [
    "import numpy as np\n",
    "import torch\n",
    "\n",
    "from PIL import Image\n",
    "from argparse import ArgumentParser\n",
    "\n",
    "from torch.optim import SGD, Adam\n",
    "from torch.autograd import Variable\n",
    "from torch.utils.data import DataLoader, TensorDataset\n",
    "from torchvision.transforms import Compose, CenterCrop, Normalize\n",
    "from torchvision.transforms import ToTensor, ToPILImage\n",
    "\n",
    "\n",
    "from piwise.network import UNet\n",
    "from piwise.criterion import CrossEntropyLoss2d\n",
    "from piwise.transform import Relabel, ToLabel, Colorize"
   ]
  },
  {
   "cell_type": "markdown",
   "metadata": {},
   "source": [
    "## Setup the model"
   ]
  },
  {
   "cell_type": "code",
   "execution_count": 20,
   "metadata": {
    "collapsed": true
   },
   "outputs": [],
   "source": [
    "NUM_CHANNELS = 2\n",
    "NUM_CLASSES = 2\n",
    "\n",
    "Net = UNet\n",
    "model = Net(NUM_CLASSES)\n",
    "model = model.cuda()\n",
    "\n",
    "\n"
   ]
  },
  {
   "cell_type": "markdown",
   "metadata": {},
   "source": [
    "# Load the Data"
   ]
  },
  {
   "cell_type": "code",
   "execution_count": 50,
   "metadata": {
    "collapsed": true
   },
   "outputs": [],
   "source": [
    "in_vals = torch.from_numpy(np.load('data/inputs.npy'))\n",
    "out_vals = torch.from_numpy(np.load('data/outputs.npy')).long()\n",
    "out_vals[out_vals==2]=0\n",
    "loader = DataLoader(TensorDataset(in_vals,out_vals), shuffle=True)"
   ]
  },
  {
   "cell_type": "code",
   "execution_count": 7,
   "metadata": {},
   "outputs": [],
   "source": [
    "images, labels = next(iter(loader))"
   ]
  },
  {
   "cell_type": "code",
   "execution_count": 9,
   "metadata": {},
   "outputs": [
    {
     "data": {
      "text/plain": [
       "torch.Size([1, 2, 512, 512])"
      ]
     },
     "execution_count": 9,
     "metadata": {},
     "output_type": "execute_result"
    }
   ],
   "source": [
    "images.size()"
   ]
  },
  {
   "cell_type": "code",
   "execution_count": 10,
   "metadata": {},
   "outputs": [
    {
     "data": {
      "text/plain": [
       "torch.Size([1, 512, 512])"
      ]
     },
     "execution_count": 10,
     "metadata": {},
     "output_type": "execute_result"
    }
   ],
   "source": [
    "labels.size()"
   ]
  },
  {
   "cell_type": "code",
   "execution_count": 15,
   "metadata": {},
   "outputs": [
    {
     "data": {
      "text/plain": [
       "0"
      ]
     },
     "execution_count": 15,
     "metadata": {},
     "output_type": "execute_result"
    }
   ],
   "source": [
    "labels.min()"
   ]
  },
  {
   "cell_type": "code",
   "execution_count": 11,
   "metadata": {},
   "outputs": [
    {
     "data": {
      "text/plain": [
       "\n",
       "( 0 ,.,.) = \n",
       "   0   0   0  ...    0   0   0\n",
       "   0   0   0  ...    0   0   0\n",
       "   0   0   0  ...    0   0   0\n",
       "     ...       ⋱       ...    \n",
       "   0   0   0  ...    0   0   0\n",
       "   0   0   0  ...    0   0   0\n",
       "   0   0   0  ...    0   0   0\n",
       "[torch.LongTensor of size 1x512x512]"
      ]
     },
     "execution_count": 11,
     "metadata": {},
     "output_type": "execute_result"
    }
   ],
   "source": []
  },
  {
   "cell_type": "markdown",
   "metadata": {},
   "source": [
    "## Train the model"
   ]
  },
  {
   "cell_type": "code",
   "execution_count": 91,
   "metadata": {},
   "outputs": [
    {
     "name": "stderr",
     "output_type": "stream",
     "text": [
      "/opt/conda/envs/pytorch-py36/lib/python3.6/site-packages/torch/nn/functional.py:807: UserWarning: nn.functional.upsample_bilinear is deprecated. Use nn.functional.upsample instead.\n",
      "  warnings.warn(\"nn.functional.upsample_bilinear is deprecated. Use nn.functional.upsample instead.\")\n"
     ]
    },
    {
     "ename": "TypeError",
     "evalue": "'float' object is not iterable",
     "output_type": "error",
     "traceback": [
      "\u001b[0;31m---------------------------------------------------------------------------\u001b[0m",
      "\u001b[0;31mTypeError\u001b[0m                                 Traceback (most recent call last)",
      "\u001b[0;32m<ipython-input-91-c529d0502335>\u001b[0m in \u001b[0;36m<module>\u001b[0;34m()\u001b[0m\n\u001b[1;32m     22\u001b[0m         \u001b[0moptimizer\u001b[0m\u001b[0;34m.\u001b[0m\u001b[0mstep\u001b[0m\u001b[0;34m(\u001b[0m\u001b[0;34m)\u001b[0m\u001b[0;34m\u001b[0m\u001b[0m\n\u001b[1;32m     23\u001b[0m \u001b[0;34m\u001b[0m\u001b[0m\n\u001b[0;32m---> 24\u001b[0;31m         \u001b[0mepoch_loss\u001b[0m\u001b[0;34m.\u001b[0m\u001b[0mappend\u001b[0m\u001b[0;34m(\u001b[0m\u001b[0msum\u001b[0m\u001b[0;34m(\u001b[0m\u001b[0mloss\u001b[0m\u001b[0;34m.\u001b[0m\u001b[0mdata\u001b[0m\u001b[0;34m[\u001b[0m\u001b[0;36m0\u001b[0m\u001b[0;34m]\u001b[0m\u001b[0;34m)\u001b[0m\u001b[0;34m/\u001b[0m\u001b[0mlen\u001b[0m\u001b[0;34m(\u001b[0m\u001b[0mloss\u001b[0m\u001b[0;34m.\u001b[0m\u001b[0mdata\u001b[0m\u001b[0;34m[\u001b[0m\u001b[0;36m0\u001b[0m\u001b[0;34m]\u001b[0m\u001b[0;34m)\u001b[0m\u001b[0;34m)\u001b[0m\u001b[0;34m\u001b[0m\u001b[0m\n\u001b[0m\u001b[1;32m     25\u001b[0m \u001b[0;34m\u001b[0m\u001b[0m\n\u001b[1;32m     26\u001b[0m \u001b[0mprint\u001b[0m\u001b[0;34m(\u001b[0m\u001b[0mepoch_loss\u001b[0m\u001b[0;34m)\u001b[0m\u001b[0;34m\u001b[0m\u001b[0m\n",
      "\u001b[0;31mTypeError\u001b[0m: 'float' object is not iterable"
     ]
    }
   ],
   "source": [
    "model.train()\n",
    "weight = torch.ones(NUM_CLASSES)\n",
    "weight[0] = 0      \n",
    "criterion = CrossEntropyLoss2d()\n",
    "optimizer = Adam(model.parameters())\n",
    "epoch_loss = []\n",
    "for epoch in range(1, 21):\n",
    "    \n",
    "\n",
    "    for step, (images, labels) in enumerate(loader):\n",
    "        images = images.cuda()\n",
    "        labels = labels.cuda()\n",
    "\n",
    "        inputs = Variable(images)\n",
    "        targets = Variable(labels)\n",
    "        optimizer.zero_grad()\n",
    "        outputs = model(inputs)\n",
    "\n",
    "        loss = criterion(outputs, targets)\n",
    "\n",
    "        loss.backward()\n",
    "        optimizer.step()\n",
    "        \n",
    "        epoch_loss.append([(loss.data[0])])\n",
    "        \n",
    "print(epoch_loss)\n",
    "\n",
    "\n"
   ]
  },
  {
   "cell_type": "code",
   "execution_count": 56,
   "metadata": {},
   "outputs": [
    {
     "data": {
      "text/plain": [
       "Variable containing:\n",
       " 0.2890\n",
       "[torch.cuda.FloatTensor of size 1 (GPU 0)]"
      ]
     },
     "execution_count": 56,
     "metadata": {},
     "output_type": "execute_result"
    }
   ],
   "source": [
    "loss"
   ]
  },
  {
   "cell_type": "code",
   "execution_count": 57,
   "metadata": {},
   "outputs": [
    {
     "data": {
      "text/plain": [
       "Variable containing:\n",
       "( 0 , 0 ,.,.) = \n",
       " -0.0801 -0.0814 -0.0812  ...  -0.0808 -0.0810 -0.0821\n",
       " -0.0801 -0.0806 -0.0810  ...  -0.0799 -0.0807 -0.0810\n",
       " -0.0804 -0.0815 -0.0814  ...  -0.0808 -0.0811 -0.0821\n",
       "           ...             ⋱             ...          \n",
       " -0.0814 -0.0818 -0.0817  ...  -0.0802 -0.0809 -0.0811\n",
       " -0.0815 -0.0826 -0.0819  ...  -0.0809 -0.0810 -0.0820\n",
       " -0.0810 -0.0811 -0.0811  ...  -0.0797 -0.0804 -0.0805\n",
       "\n",
       "( 0 , 1 ,.,.) = \n",
       " -2.5645 -2.5488 -2.5514  ...  -2.5558 -2.5541 -2.5404\n",
       " -2.5645 -2.5584 -2.5531  ...  -2.5670 -2.5569 -2.5530\n",
       " -2.5612 -2.5473 -2.5489  ...  -2.5558 -2.5525 -2.5406\n",
       "           ...             ⋱             ...          \n",
       " -2.5489 -2.5446 -2.5451  ...  -2.5634 -2.5549 -2.5520\n",
       " -2.5475 -2.5353 -2.5434  ...  -2.5544 -2.5532 -2.5422\n",
       " -2.5538 -2.5518 -2.5518  ...  -2.5693 -2.5602 -2.5594\n",
       "[torch.cuda.FloatTensor of size 1x2x512x512 (GPU 0)]"
      ]
     },
     "execution_count": 57,
     "metadata": {},
     "output_type": "execute_result"
    }
   ],
   "source": [
    "outputs"
   ]
  },
  {
   "cell_type": "code",
   "execution_count": 58,
   "metadata": {},
   "outputs": [
    {
     "data": {
      "text/plain": [
       "Variable containing:\n",
       "( 0 ,.,.) = \n",
       "   0   0   0  ...    0   0   0\n",
       "   0   0   0  ...    0   0   0\n",
       "   0   0   0  ...    0   0   0\n",
       "     ...       ⋱       ...    \n",
       "   0   0   0  ...    0   0   0\n",
       "   0   0   0  ...    0   0   0\n",
       "   0   0   0  ...    0   0   0\n",
       "[torch.cuda.LongTensor of size 1x512x512 (GPU 0)]"
      ]
     },
     "execution_count": 58,
     "metadata": {},
     "output_type": "execute_result"
    }
   ],
   "source": [
    "targets"
   ]
  },
  {
   "cell_type": "code",
   "execution_count": 59,
   "metadata": {},
   "outputs": [
    {
     "data": {
      "text/plain": [
       "\n",
       "( 0 , 0 ,.,.) = \n",
       "  0.1589  0.1705  0.1662  ...   0.1267  0.1235  0.1225\n",
       "  0.1637  0.1674  0.1904  ...   0.1250  0.1320  0.1277\n",
       "  0.1640  0.1789  0.2128  ...   0.1491  0.1235  0.1280\n",
       "           ...             ⋱             ...          \n",
       "  0.1641  0.1701  0.1740  ...   0.1600  0.1476  0.1374\n",
       "  0.1647  0.1715  0.1728  ...   0.1405  0.1533  0.1296\n",
       "  0.1645  0.1688  0.1731  ...   0.1470  0.1447  0.1413\n",
       "\n",
       "( 0 , 1 ,.,.) = \n",
       "  0.4860  0.4687  0.4967  ...   0.5057  0.5056  0.4886\n",
       "  0.4874  0.3967  0.3581  ...   0.3457  0.3638  0.4207\n",
       "  0.5884  0.4652  0.3381  ...   0.2232  0.3661  0.4659\n",
       "           ...             ⋱             ...          \n",
       "  0.5557  0.4003  0.2948  ...   0.2454  0.3123  0.4652\n",
       "  0.5691  0.4141  0.3407  ...   0.3395  0.3520  0.5009\n",
       "  0.5670  0.4884  0.4769  ...   0.4551  0.4887  0.5289\n",
       "      ⋮  \n",
       "\n",
       "( 1 , 0 ,.,.) = \n",
       "  0.1774  0.1816  0.1840  ...   0.1430  0.1630  0.1547\n",
       "  0.1865  0.1790  0.2060  ...   0.1510  0.1487  0.1463\n",
       "  0.1844  0.1748  0.1944  ...   0.1541  0.1449  0.1631\n",
       "           ...             ⋱             ...          \n",
       "  0.1759  0.1816  0.1803  ...   0.1634  0.1585  0.1402\n",
       "  0.1776  0.1803  0.1823  ...   0.1502  0.1527  0.1448\n",
       "  0.1754  0.1829  0.1790  ...   0.1573  0.1514  0.1460\n",
       "\n",
       "( 1 , 1 ,.,.) = \n",
       "  0.5530  0.4756  0.4279  ...   0.4024  0.3559  0.4379\n",
       "  0.5272  0.3764  0.2330  ...   0.1501  0.2411  0.4143\n",
       "  0.5673  0.4295  0.2360  ...   0.1167  0.2565  0.4472\n",
       "           ...             ⋱             ...          \n",
       "  0.5094  0.3035  0.1571  ...   0.1123  0.2038  0.4522\n",
       "  0.4944  0.3502  0.2277  ...   0.2952  0.2830  0.4764\n",
       "  0.5275  0.4318  0.4000  ...   0.4685  0.4372  0.4983\n",
       "      ⋮  \n",
       "\n",
       "( 2 , 0 ,.,.) = \n",
       "  0.1576  0.1609  0.1595  ...   0.1527  0.1221  0.1210\n",
       "  0.1669  0.1743  0.1718  ...   0.1393  0.1431  0.1475\n",
       "  0.1637  0.1859  0.2019  ...   0.1319  0.1333  0.1397\n",
       "           ...             ⋱             ...          \n",
       "  0.1550  0.1594  0.1661  ...   0.1297  0.1332  0.1329\n",
       "  0.1543  0.1581  0.1646  ...   0.1502  0.1586  0.1269\n",
       "  0.1567  0.1609  0.1619  ...   0.1492  0.1265  0.1195\n",
       "\n",
       "( 2 , 1 ,.,.) = \n",
       "  0.5196  0.5322  0.5758  ...   0.5475  0.5194  0.5164\n",
       "  0.4797  0.4327  0.4592  ...   0.4437  0.4377  0.4773\n",
       "  0.5348  0.4103  0.3350  ...   0.4139  0.4511  0.5360\n",
       "           ...             ⋱             ...          \n",
       "  0.5367  0.3762  0.2431  ...   0.3807  0.4151  0.5322\n",
       "  0.5775  0.4369  0.3519  ...   0.4785  0.4472  0.5495\n",
       "  0.5831  0.5019  0.4792  ...   0.5653  0.5218  0.5676\n",
       "...     \n",
       "      ⋮  \n",
       "\n",
       "( 9 , 0 ,.,.) = \n",
       "  0.1037  0.1151  0.1362  ...   0.1206  0.0836  0.0855\n",
       "  0.1005  0.1103  0.1311  ...   0.2006  0.0630  0.0870\n",
       "  0.1209  0.1062  0.1503  ...   0.0933  0.0981  0.1827\n",
       "           ...             ⋱             ...          \n",
       "  0.1079  0.1118  0.1107  ...   0.0910  0.1035  0.0877\n",
       "  0.1096  0.1111  0.1145  ...   0.0980  0.0972  0.0881\n",
       "  0.1073  0.1093  0.1127  ...   0.0883  0.0915  0.0918\n",
       "\n",
       "( 9 , 1 ,.,.) = \n",
       "  0.5196  0.4538  0.4866  ...   0.4882  0.3890  0.4940\n",
       "  0.5231  0.3681  0.3182  ...   0.4128  0.2898  0.3649\n",
       "  0.5282  0.4272  0.3103  ...   0.5954  0.5871  0.4861\n",
       "           ...             ⋱             ...          \n",
       "  0.5151  0.3842  0.3604  ...   0.4537  0.4068  0.5654\n",
       "  0.4986  0.4193  0.3864  ...   0.4237  0.4700  0.5572\n",
       "  0.5042  0.4532  0.5130  ...   0.5745  0.5811  0.5975\n",
       "      ⋮  \n",
       "\n",
       "(10 , 0 ,.,.) = \n",
       "  0.1586  0.1590  0.1593  ...   0.1476  0.1476  0.1472\n",
       "  0.1620  0.1626  0.1630  ...   0.1490  0.1490  0.1485\n",
       "  0.1765  0.1759  0.1913  ...   0.1591  0.1680  0.1528\n",
       "           ...             ⋱             ...          \n",
       "  0.1605  0.1602  0.1654  ...   0.1522  0.1484  0.1579\n",
       "  0.1604  0.1654  0.1639  ...   0.1552  0.1498  0.1495\n",
       "  0.1607  0.1599  0.1734  ...   0.1650  0.1483  0.1461\n",
       "\n",
       "(10 , 1 ,.,.) = \n",
       "  0.6506  0.6723  0.6905  ...   0.6727  0.6184  0.5789\n",
       "  0.4205  0.4517  0.4636  ...   0.4386  0.4120  0.3924\n",
       "  0.3566  0.3286  0.3540  ...   0.3875  0.3554  0.3786\n",
       "           ...             ⋱             ...          \n",
       "  0.3938  0.1833  0.1292  ...   0.4688  0.5441  0.5431\n",
       "  0.4540  0.2238  0.2205  ...   0.4714  0.5256  0.5615\n",
       "  0.4802  0.3263  0.2547  ...   0.4570  0.5173  0.5372\n",
       "      ⋮  \n",
       "\n",
       "(11 , 0 ,.,.) = \n",
       "  0.1365  0.1410  0.1548  ...   0.1258  0.1241  0.1213\n",
       "  0.1420  0.1641  0.1792  ...   0.1242  0.1281  0.1276\n",
       "  0.1420  0.1482  0.1561  ...   0.1309  0.1286  0.1187\n",
       "           ...             ⋱             ...          \n",
       "  0.1407  0.1429  0.1435  ...   0.1370  0.1271  0.1311\n",
       "  0.1400  0.1461  0.1462  ...   0.1326  0.1288  0.1197\n",
       "  0.1393  0.1417  0.1688  ...   0.1264  0.1269  0.1148\n",
       "\n",
       "(11 , 1 ,.,.) = \n",
       "  0.4728  0.3297  0.2895  ...   0.4636  0.5429  0.5981\n",
       "  0.4916  0.2677  0.0827  ...   0.4410  0.4984  0.6014\n",
       "  0.5041  0.2810  0.1076  ...   0.4044  0.5288  0.6386\n",
       "           ...             ⋱             ...          \n",
       "  0.5499  0.4384  0.4433  ...   0.4897  0.5338  0.5574\n",
       "  0.5579  0.4444  0.4734  ...   0.4875  0.4891  0.5053\n",
       "  0.5867  0.5645  0.4992  ...   0.5473  0.5415  0.5284\n",
       "[torch.FloatTensor of size 12x2x512x512]"
      ]
     },
     "execution_count": 59,
     "metadata": {},
     "output_type": "execute_result"
    }
   ],
   "source": [
    "in_vals"
   ]
  },
  {
   "cell_type": "code",
   "execution_count": 61,
   "metadata": {},
   "outputs": [
    {
     "data": {
      "text/plain": [
       "Variable containing:\n",
       "( 0 , 0 ,.,.) = \n",
       " -0.0332 -0.0490 -0.0602  ...  -0.0443 -0.0246 -0.0082\n",
       " -0.0389 -0.0594 -0.0745  ...  -0.0529 -0.0309 -0.0105\n",
       " -0.0395 -0.0623 -0.0802  ...  -0.0568 -0.0341 -0.0115\n",
       "           ...             ⋱             ...          \n",
       " -0.0673 -0.0856 -0.0946  ...  -0.0565 -0.0318 -0.0113\n",
       " -0.0623 -0.0806 -0.0912  ...  -0.0549 -0.0305 -0.0106\n",
       " -0.0512 -0.0695 -0.0820  ...  -0.0517 -0.0274 -0.0093\n",
       "\n",
       "( 0 , 1 ,.,.) = \n",
       " -3.4225 -3.0412 -2.8395  ...  -3.1392 -3.7187 -4.8109\n",
       " -3.2673 -2.8528 -2.6334  ...  -2.9664 -3.4914 -4.5654\n",
       " -3.2517 -2.8075 -2.5631  ...  -2.8971 -3.3945 -4.4700\n",
       "           ...             ⋱             ...          \n",
       " -2.7327 -2.5008 -2.4048  ...  -2.9022 -3.4627 -4.4905\n",
       " -2.8074 -2.5579 -2.4404  ...  -2.9296 -3.5056 -4.5507\n",
       " -2.9968 -2.7006 -2.5421  ...  -2.9888 -3.6102 -4.6877\n",
       "[torch.cuda.FloatTensor of size 1x2x512x512 (GPU 0)]"
      ]
     },
     "execution_count": 61,
     "metadata": {},
     "output_type": "execute_result"
    }
   ],
   "source": [
    "outputs"
   ]
  },
  {
   "cell_type": "code",
   "execution_count": 62,
   "metadata": {},
   "outputs": [
    {
     "data": {
      "text/plain": [
       "Variable containing:\n",
       "( 0 ,.,.) = \n",
       "   0   0   0  ...    0   0   0\n",
       "   0   0   0  ...    0   0   0\n",
       "   0   0   0  ...    0   0   0\n",
       "     ...       ⋱       ...    \n",
       "   0   0   0  ...    0   0   0\n",
       "   0   0   0  ...    0   0   0\n",
       "   0   0   0  ...    0   0   0\n",
       "[torch.cuda.LongTensor of size 1x512x512 (GPU 0)]"
      ]
     },
     "execution_count": 62,
     "metadata": {},
     "output_type": "execute_result"
    }
   ],
   "source": [
    "targets"
   ]
  },
  {
   "cell_type": "code",
   "execution_count": 68,
   "metadata": {},
   "outputs": [
    {
     "data": {
      "text/plain": [
       "0.35759130120277405"
      ]
     },
     "execution_count": 68,
     "metadata": {},
     "output_type": "execute_result"
    }
   ],
   "source": [
    "loss.data[0]"
   ]
  },
  {
   "cell_type": "code",
   "execution_count": 69,
   "metadata": {},
   "outputs": [
    {
     "data": {
      "text/plain": [
       "12"
      ]
     },
     "execution_count": 69,
     "metadata": {},
     "output_type": "execute_result"
    }
   ],
   "source": [
    "len(epoch_loss)"
   ]
  },
  {
   "cell_type": "code",
   "execution_count": 75,
   "metadata": {},
   "outputs": [
    {
     "data": {
      "text/plain": [
       "0.2962223291397095"
      ]
     },
     "execution_count": 75,
     "metadata": {},
     "output_type": "execute_result"
    }
   ],
   "source": [
    "loss.data[0]"
   ]
  },
  {
   "cell_type": "code",
   "execution_count": 76,
   "metadata": {},
   "outputs": [
    {
     "data": {
      "text/plain": [
       "\n",
       " 0.2962\n",
       "[torch.cuda.FloatTensor of size 1 (GPU 0)]"
      ]
     },
     "execution_count": 76,
     "metadata": {},
     "output_type": "execute_result"
    }
   ],
   "source": [
    "loss.data"
   ]
  },
  {
   "cell_type": "code",
   "execution_count": 77,
   "metadata": {},
   "outputs": [
    {
     "data": {
      "text/plain": [
       "[0.2747865319252014,\n",
       " 0.26698577404022217,\n",
       " 0.25487640500068665,\n",
       " 0.31645238399505615,\n",
       " 0.33215874433517456,\n",
       " 0.325788676738739,\n",
       " 0.2646508514881134,\n",
       " 0.23842588067054749,\n",
       " 0.33556920289993286,\n",
       " 0.25147393345832825,\n",
       " 0.3311058282852173,\n",
       " 0.2962223291397095]"
      ]
     },
     "execution_count": 77,
     "metadata": {},
     "output_type": "execute_result"
    }
   ],
   "source": [
    "epoch_loss"
   ]
  },
  {
   "cell_type": "code",
   "execution_count": 78,
   "metadata": {},
   "outputs": [
    {
     "data": {
      "text/plain": [
       "3.4884965419769287"
      ]
     },
     "execution_count": 78,
     "metadata": {},
     "output_type": "execute_result"
    }
   ],
   "source": [
    "sum(epoch_loss)"
   ]
  },
  {
   "cell_type": "code",
   "execution_count": 79,
   "metadata": {},
   "outputs": [
    {
     "data": {
      "text/plain": [
       "0.2907080451647441"
      ]
     },
     "execution_count": 79,
     "metadata": {},
     "output_type": "execute_result"
    }
   ],
   "source": [
    "sum(epoch_loss)/len(epoch_loss)"
   ]
  },
  {
   "cell_type": "code",
   "execution_count": 84,
   "metadata": {},
   "outputs": [
    {
     "data": {
      "text/plain": [
       "240"
      ]
     },
     "execution_count": 84,
     "metadata": {},
     "output_type": "execute_result"
    }
   ],
   "source": [
    "len(epoch_loss)"
   ]
  },
  {
   "cell_type": "code",
   "execution_count": 85,
   "metadata": {
    "collapsed": true
   },
   "outputs": [],
   "source": [
    "import matplotlib.pyplot as plt"
   ]
  },
  {
   "cell_type": "code",
   "execution_count": 86,
   "metadata": {},
   "outputs": [
    {
     "data": {
      "text/plain": [
       "[<matplotlib.lines.Line2D at 0x7f81797f0ef0>]"
      ]
     },
     "execution_count": 86,
     "metadata": {},
     "output_type": "execute_result"
    }
   ],
   "source": [
    "plt.plot(epoch_loss)"
   ]
  },
  {
   "cell_type": "code",
   "execution_count": 87,
   "metadata": {},
   "outputs": [
    {
     "data": {
      "image/png": "[encoded data removed]",
      "text/plain": [
       "<matplotlib.figure.Figure at 0x7f81d22425c0>"
      ]
     },
     "metadata": {},
     "output_type": "display_data"
    }
   ],
   "source": [
    "plt.show()"
   ]
  },
  {
   "cell_type": "code",
   "execution_count": 88,
   "metadata": {
    "collapsed": true
   },
   "outputs": [],
   "source": [
    "plt.close()"
   ]
  },
  {
   "cell_type": "code",
   "execution_count": 89,
   "metadata": {},
   "outputs": [
    {
     "data": {
      "text/plain": [
       "<module 'matplotlib.pyplot' from '/opt/conda/envs/pytorch-py36/lib/python3.6/site-packages/matplotlib/pyplot.py'>"
      ]
     },
     "execution_count": 89,
     "metadata": {},
     "output_type": "execute_result"
    }
   ],
   "source": [
    "plt"
   ]
  },
  {
   "cell_type": "code",
   "execution_count": 90,
   "metadata": {
    "collapsed": true
   },
   "outputs": [],
   "source": [
    "plt.show()"
   ]
  },
  {
   "cell_type": "code",
   "execution_count": null,
   "metadata": {
    "collapsed": true
   },
   "outputs": [],
   "source": []
  }
 ],
 "metadata": {
  "kernelspec": {
   "display_name": "Python 3",
   "language": "python",
   "name": "python3"
  }
 },
 "nbformat": 4,
 "nbformat_minor": 2
}
