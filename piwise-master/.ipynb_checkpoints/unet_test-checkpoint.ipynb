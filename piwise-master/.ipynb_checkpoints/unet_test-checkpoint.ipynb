{
 "cells": [
  {
   "cell_type": "markdown",
   "metadata": {},
   "source": [
    "## Import them all"
   ]
  },
  {
   "cell_type": "code",
   "execution_count": 1,
   "metadata": {
    "collapsed": true
   },
   "outputs": [],
   "source": [
    "import numpy as np\n",
    "import torch\n",
    "\n",
    "from PIL import Image\n",
    "from argparse import ArgumentParser\n",
    "\n",
    "from torch.optim import SGD, Adam\n",
    "from torch.autograd import Variable\n",
    "from torch.utils.data import DataLoader, TensorDataset\n",
    "from torchvision.transforms import Compose, CenterCrop, Normalize\n",
    "from torchvision.transforms import ToTensor, ToPILImage\n",
    "\n",
    "\n",
    "from piwise.network import UNet\n",
    "from piwise.criterion import CrossEntropyLoss2d\n",
    "from piwise.transform import Relabel, ToLabel, Colorize"
   ]
  },
  {
   "cell_type": "markdown",
   "metadata": {},
   "source": [
    "## Setup the model"
   ]
  },
  {
   "cell_type": "code",
   "execution_count": 2,
   "metadata": {
    "collapsed": true
   },
   "outputs": [],
   "source": [
    "NUM_CHANNELS = 2\n",
    "NUM_CLASSES = 2\n",
    "\n",
    "Net = UNet\n",
    "model = Net(NUM_CLASSES)\n",
    "model = model.cuda()\n",
    "\n",
    "\n"
   ]
  },
  {
   "cell_type": "markdown",
   "metadata": {},
   "source": [
    "# Load the Data"
   ]
  },
  {
   "cell_type": "code",
   "execution_count": 3,
   "metadata": {
    "collapsed": true
   },
   "outputs": [],
   "source": [
    "in_vals = torch.from_numpy(np.load('data/inputs.npy'))\n",
    "out_vals = torch.from_numpy(np.load('data/outputs.npy')).long()\n",
    "out_vals[out_vals==2]=0\n",
    "loader = DataLoader(TensorDataset(in_vals,out_vals), shuffle=True)"
   ]
  },
  {
   "cell_type": "code",
   "execution_count": 7,
   "metadata": {
    "collapsed": true
   },
   "outputs": [],
   "source": [
    "images, labels = next(iter(loader))"
   ]
  },
  {
   "cell_type": "code",
   "execution_count": 9,
   "metadata": {},
   "outputs": [
    {
     "data": {
      "text/plain": [
       "torch.Size([1, 2, 512, 512])"
      ]
     },
     "execution_count": 9,
     "metadata": {},
     "output_type": "execute_result"
    }
   ],
   "source": [
    "images.size()"
   ]
  },
  {
   "cell_type": "code",
   "execution_count": 10,
   "metadata": {},
   "outputs": [
    {
     "data": {
      "text/plain": [
       "torch.Size([1, 512, 512])"
      ]
     },
     "execution_count": 10,
     "metadata": {},
     "output_type": "execute_result"
    }
   ],
   "source": [
    "labels.size()"
   ]
  },
  {
   "cell_type": "code",
   "execution_count": 15,
   "metadata": {},
   "outputs": [
    {
     "data": {
      "text/plain": [
       "0"
      ]
     },
     "execution_count": 15,
     "metadata": {},
     "output_type": "execute_result"
    }
   ],
   "source": [
    "labels.min()"
   ]
  },
  {
   "cell_type": "code",
   "execution_count": 11,
   "metadata": {},
   "outputs": [
    {
     "data": {
      "text/plain": [
       "\n",
       "( 0 ,.,.) = \n",
       "   0   0   0  ...    0   0   0\n",
       "   0   0   0  ...    0   0   0\n",
       "   0   0   0  ...    0   0   0\n",
       "     ...       ⋱       ...    \n",
       "   0   0   0  ...    0   0   0\n",
       "   0   0   0  ...    0   0   0\n",
       "   0   0   0  ...    0   0   0\n",
       "[torch.LongTensor of size 1x512x512]"
      ]
     },
     "execution_count": 11,
     "metadata": {},
     "output_type": "execute_result"
    }
   ],
   "source": []
  },
  {
   "cell_type": "markdown",
   "metadata": {},
   "source": [
    "## Train the model"
   ]
  },
  {
   "cell_type": "code",
   "execution_count": 4,
   "metadata": {},
   "outputs": [
    {
     "name": "stderr",
     "output_type": "stream",
     "text": [
      "/opt/conda/envs/pytorch-py36/lib/python3.6/site-packages/torch/nn/functional.py:807: UserWarning: nn.functional.upsample_bilinear is deprecated. Use nn.functional.upsample instead.\n",
      "  warnings.warn(\"nn.functional.upsample_bilinear is deprecated. Use nn.functional.upsample instead.\")\n"
     ]
    },
    {
     "name": "stdout",
     "output_type": "stream",
     "text": [
      "Training complete.\n"
     ]
    }
   ],
   "source": [
    "model.train()\n",
    "weight = torch.ones(NUM_CLASSES)\n",
    "weight[0] = 0      \n",
    "criterion = CrossEntropyLoss2d()\n",
    "optimizer = Adam(model.parameters())\n",
    "epoch_loss = []\n",
    "for epoch in range(1, 201):\n",
    "    \n",
    "\n",
    "    for step, (images, labels) in enumerate(loader):\n",
    "        images = images.cuda()\n",
    "        labels = labels.cuda()\n",
    "\n",
    "        inputs = Variable(images)\n",
    "        targets = Variable(labels)\n",
    "        optimizer.zero_grad()\n",
    "        outputs = model(inputs)\n",
    "\n",
    "        loss = criterion(outputs, targets)\n",
    "\n",
    "        loss.backward()\n",
    "        optimizer.step()\n",
    "        \n",
    "        epoch_loss.append((loss.data[0]))\n",
    "print(\"Training complete.\")"
   ]
  },
  {
   "cell_type": "code",
   "execution_count": 85,
   "metadata": {
    "collapsed": true
   },
   "outputs": [],
   "source": [
    "import matplotlib.pyplot as plt"
   ]
  },
  {
   "cell_type": "code",
   "execution_count": 101,
   "metadata": {},
   "outputs": [
    {
     "data": {
      "text/plain": [
       "[<matplotlib.lines.Line2D at 0x7f81798812e8>]"
      ]
     },
     "execution_count": 101,
     "metadata": {},
     "output_type": "execute_result"
    }
   ],
   "source": [
    "plt.plot(epoch_loss)"
   ]
  },
  {
   "cell_type": "code",
   "execution_count": 102,
   "metadata": {},
   "outputs": [
    {
     "data": {
      "image/png": "[encoded data removed]",
      "text/plain": [
       "<matplotlib.figure.Figure at 0x7f8179b09fd0>"
      ]
     },
     "metadata": {},
     "output_type": "display_data"
    }
   ],
   "source": [
    "plt.show()"
   ]
  },
  {
   "cell_type": "code",
   "execution_count": 88,
   "metadata": {
    "collapsed": true
   },
   "outputs": [],
   "source": [
    "plt.close()"
   ]
  },
  {
   "cell_type": "code",
   "execution_count": 89,
   "metadata": {},
   "outputs": [
    {
     "data": {
      "text/plain": [
       "<module 'matplotlib.pyplot' from '/opt/conda/envs/pytorch-py36/lib/python3.6/site-packages/matplotlib/pyplot.py'>"
      ]
     },
     "execution_count": 89,
     "metadata": {},
     "output_type": "execute_result"
    }
   ],
   "source": [
    "plt"
   ]
  },
  {
   "cell_type": "code",
   "execution_count": 90,
   "metadata": {
    "collapsed": true
   },
   "outputs": [],
   "source": [
    "plt.show()"
   ]
  },
  {
   "cell_type": "code",
   "execution_count": 93,
   "metadata": {},
   "outputs": [
    {
     "data": {
      "text/plain": [
       "[0.3048296570777893,\n",
       " 0.26992830634117126,\n",
       " 0.21971377730369568,\n",
       " 0.3078896999359131,\n",
       " 0.25278031826019287,\n",
       " 0.315354585647583,\n",
       " 0.32046425342559814,\n",
       " 0.2827519178390503,\n",
       " 0.2295074164867401,\n",
       " 0.24371883273124695,\n",
       " 0.24803948402404785,\n",
       " 0.3288705050945282]"
      ]
     },
     "execution_count": 93,
     "metadata": {},
     "output_type": "execute_result"
    }
   ],
   "source": [
    "total_loss[0]"
   ]
  },
  {
   "cell_type": "code",
   "execution_count": 95,
   "metadata": {
    "collapsed": true
   },
   "outputs": [],
   "source": [
    "for data in total_loss:\n",
    "    total_loss[total_loss.index(data)]=(sum(data)/len(data))"
   ]
  },
  {
   "cell_type": "code",
   "execution_count": 96,
   "metadata": {},
   "outputs": [
    {
     "data": {
      "text/plain": [
       "[0.27698739618062973,\n",
       " 0.27698739618062973,\n",
       " 0.27698739618062973,\n",
       " 0.27698739618062973,\n",
       " 0.27698739618062973,\n",
       " 0.27698739618062973,\n",
       " 0.27698739618062973,\n",
       " 0.27698739618062973,\n",
       " 0.27698739618062973,\n",
       " 0.27698739618062973,\n",
       " 0.27698739618062973,\n",
       " 0.27698739618062973,\n",
       " 0.278233269850413,\n",
       " 0.278233269850413,\n",
       " 0.278233269850413,\n",
       " 0.278233269850413,\n",
       " 0.278233269850413,\n",
       " 0.278233269850413,\n",
       " 0.278233269850413,\n",
       " 0.278233269850413,\n",
       " 0.278233269850413,\n",
       " 0.278233269850413,\n",
       " 0.278233269850413,\n",
       " 0.278233269850413,\n",
       " 0.2756763584911823,\n",
       " 0.2756763584911823,\n",
       " 0.2756763584911823,\n",
       " 0.2756763584911823,\n",
       " 0.2756763584911823,\n",
       " 0.2756763584911823,\n",
       " 0.2756763584911823,\n",
       " 0.2756763584911823,\n",
       " 0.2756763584911823,\n",
       " 0.2756763584911823,\n",
       " 0.2756763584911823,\n",
       " 0.2756763584911823,\n",
       " 0.2734686682621638,\n",
       " 0.2734686682621638,\n",
       " 0.2734686682621638,\n",
       " 0.2734686682621638,\n",
       " 0.2734686682621638,\n",
       " 0.2734686682621638,\n",
       " 0.2734686682621638,\n",
       " 0.2734686682621638,\n",
       " 0.2734686682621638,\n",
       " 0.2734686682621638,\n",
       " 0.2734686682621638,\n",
       " 0.2734686682621638,\n",
       " 0.27060598880052567,\n",
       " 0.27060598880052567,\n",
       " 0.27060598880052567,\n",
       " 0.27060598880052567,\n",
       " 0.27060598880052567,\n",
       " 0.27060598880052567,\n",
       " 0.27060598880052567,\n",
       " 0.27060598880052567,\n",
       " 0.27060598880052567,\n",
       " 0.27060598880052567,\n",
       " 0.27060598880052567,\n",
       " 0.27060598880052567,\n",
       " 0.26610640560587245,\n",
       " 0.26610640560587245,\n",
       " 0.26610640560587245,\n",
       " 0.26610640560587245,\n",
       " 0.26610640560587245,\n",
       " 0.26610640560587245,\n",
       " 0.26610640560587245,\n",
       " 0.26610640560587245,\n",
       " 0.26610640560587245,\n",
       " 0.26610640560587245,\n",
       " 0.26610640560587245,\n",
       " 0.26610640560587245,\n",
       " 0.26305073872208595,\n",
       " 0.26305073872208595,\n",
       " 0.26305073872208595,\n",
       " 0.26305073872208595,\n",
       " 0.26305073872208595,\n",
       " 0.26305073872208595,\n",
       " 0.26305073872208595,\n",
       " 0.26305073872208595,\n",
       " 0.26305073872208595,\n",
       " 0.26305073872208595,\n",
       " 0.26305073872208595,\n",
       " 0.26305073872208595,\n",
       " 0.2598077915608883,\n",
       " 0.2598077915608883,\n",
       " 0.2598077915608883,\n",
       " 0.2598077915608883,\n",
       " 0.2598077915608883,\n",
       " 0.2598077915608883,\n",
       " 0.2598077915608883,\n",
       " 0.2598077915608883,\n",
       " 0.2598077915608883,\n",
       " 0.2598077915608883,\n",
       " 0.2598077915608883,\n",
       " 0.2598077915608883,\n",
       " 0.2615939478079478,\n",
       " 0.2615939478079478,\n",
       " 0.2615939478079478,\n",
       " 0.2615939478079478,\n",
       " 0.2615939478079478,\n",
       " 0.2615939478079478,\n",
       " 0.2615939478079478,\n",
       " 0.2615939478079478,\n",
       " 0.2615939478079478,\n",
       " 0.2615939478079478,\n",
       " 0.2615939478079478,\n",
       " 0.2615939478079478,\n",
       " 0.25822287797927856,\n",
       " 0.25822287797927856,\n",
       " 0.25822287797927856,\n",
       " 0.25822287797927856,\n",
       " 0.25822287797927856,\n",
       " 0.25822287797927856,\n",
       " 0.25822287797927856,\n",
       " 0.25822287797927856,\n",
       " 0.25822287797927856,\n",
       " 0.25822287797927856,\n",
       " 0.25822287797927856,\n",
       " 0.25822287797927856,\n",
       " 0.2608414441347122,\n",
       " 0.2608414441347122,\n",
       " 0.2608414441347122,\n",
       " 0.2608414441347122,\n",
       " 0.2608414441347122,\n",
       " 0.2608414441347122,\n",
       " 0.2608414441347122,\n",
       " 0.2608414441347122,\n",
       " 0.2608414441347122,\n",
       " 0.2608414441347122,\n",
       " 0.2608414441347122,\n",
       " 0.2608414441347122,\n",
       " 0.26043666402498883,\n",
       " 0.26043666402498883,\n",
       " 0.26043666402498883,\n",
       " 0.26043666402498883,\n",
       " 0.26043666402498883,\n",
       " 0.26043666402498883,\n",
       " 0.26043666402498883,\n",
       " 0.26043666402498883,\n",
       " 0.26043666402498883,\n",
       " 0.26043666402498883,\n",
       " 0.26043666402498883,\n",
       " 0.26043666402498883,\n",
       " 0.26501258462667465,\n",
       " 0.26501258462667465,\n",
       " 0.26501258462667465,\n",
       " 0.26501258462667465,\n",
       " 0.26501258462667465,\n",
       " 0.26501258462667465,\n",
       " 0.26501258462667465,\n",
       " 0.26501258462667465,\n",
       " 0.26501258462667465,\n",
       " 0.26501258462667465,\n",
       " 0.26501258462667465,\n",
       " 0.26501258462667465,\n",
       " 0.26835499455531436,\n",
       " 0.26835499455531436,\n",
       " 0.26835499455531436,\n",
       " 0.26835499455531436,\n",
       " 0.26835499455531436,\n",
       " 0.26835499455531436,\n",
       " 0.26835499455531436,\n",
       " 0.26835499455531436,\n",
       " 0.26835499455531436,\n",
       " 0.26835499455531436,\n",
       " 0.26835499455531436,\n",
       " 0.26835499455531436,\n",
       " 0.2664024531841278,\n",
       " 0.2664024531841278,\n",
       " 0.2664024531841278,\n",
       " 0.2664024531841278,\n",
       " 0.2664024531841278,\n",
       " 0.2664024531841278,\n",
       " 0.2664024531841278,\n",
       " 0.2664024531841278,\n",
       " 0.2664024531841278,\n",
       " 0.2664024531841278,\n",
       " 0.2664024531841278,\n",
       " 0.2664024531841278,\n",
       " 0.27464418237408,\n",
       " 0.27464418237408,\n",
       " 0.27464418237408,\n",
       " 0.27464418237408,\n",
       " 0.27464418237408,\n",
       " 0.27464418237408,\n",
       " 0.27464418237408,\n",
       " 0.27464418237408,\n",
       " 0.27464418237408,\n",
       " 0.27464418237408,\n",
       " 0.27464418237408,\n",
       " 0.27464418237408,\n",
       " 0.265799834082524,\n",
       " 0.265799834082524,\n",
       " 0.265799834082524,\n",
       " 0.265799834082524,\n",
       " 0.265799834082524,\n",
       " 0.265799834082524,\n",
       " 0.265799834082524,\n",
       " 0.265799834082524,\n",
       " 0.265799834082524,\n",
       " 0.265799834082524,\n",
       " 0.265799834082524,\n",
       " 0.265799834082524,\n",
       " 0.25886478647589684,\n",
       " 0.25886478647589684,\n",
       " 0.25886478647589684,\n",
       " 0.25886478647589684,\n",
       " 0.25886478647589684,\n",
       " 0.25886478647589684,\n",
       " 0.25886478647589684,\n",
       " 0.25886478647589684,\n",
       " 0.25886478647589684,\n",
       " 0.25886478647589684,\n",
       " 0.25886478647589684,\n",
       " 0.25886478647589684,\n",
       " 0.25496280814210576,\n",
       " 0.25496280814210576,\n",
       " 0.25496280814210576,\n",
       " 0.25496280814210576,\n",
       " 0.25496280814210576,\n",
       " 0.25496280814210576,\n",
       " 0.25496280814210576,\n",
       " 0.25496280814210576,\n",
       " 0.25496280814210576,\n",
       " 0.25496280814210576,\n",
       " 0.25496280814210576,\n",
       " 0.25496280814210576,\n",
       " 0.25365552057822544,\n",
       " 0.25365552057822544,\n",
       " 0.25365552057822544,\n",
       " 0.25365552057822544,\n",
       " 0.25365552057822544,\n",
       " 0.25365552057822544,\n",
       " 0.25365552057822544,\n",
       " 0.25365552057822544,\n",
       " 0.25365552057822544,\n",
       " 0.25365552057822544,\n",
       " 0.25365552057822544,\n",
       " 0.25365552057822544]"
      ]
     },
     "execution_count": 96,
     "metadata": {},
     "output_type": "execute_result"
    }
   ],
   "source": [
    "total_loss"
   ]
  },
  {
   "cell_type": "code",
   "execution_count": 97,
   "metadata": {},
   "outputs": [
    {
     "data": {
      "text/plain": [
       "240"
      ]
     },
     "execution_count": 97,
     "metadata": {},
     "output_type": "execute_result"
    }
   ],
   "source": [
    "len(total_loss)"
   ]
  },
  {
   "cell_type": "code",
   "execution_count": 100,
   "metadata": {},
   "outputs": [
    {
     "data": {
      "text/plain": [
       "2400"
      ]
     },
     "execution_count": 100,
     "metadata": {},
     "output_type": "execute_result"
    }
   ],
   "source": [
    "len(epoch_loss)"
   ]
  },
  {
   "cell_type": "code",
   "execution_count": 103,
   "metadata": {
    "collapsed": true
   },
   "outputs": [],
   "source": [
    "plt.close()"
   ]
  },
  {
   "cell_type": "code",
   "execution_count": 1,
   "metadata": {},
   "outputs": [
    {
     "name": "stdout",
     "output_type": "stream",
     "text": [
      "\n"
     ]
    }
   ],
   "source": [
    "print(\"\")"
   ]
  },
  {
   "cell_type": "code",
   "execution_count": 2,
   "metadata": {},
   "outputs": [
    {
     "ename": "NameError",
     "evalue": "name 'outputs' is not defined",
     "output_type": "error",
     "traceback": [
      "\u001b[0;31m---------------------------------------------------------------------------\u001b[0m",
      "\u001b[0;31mNameError\u001b[0m                                 Traceback (most recent call last)",
      "\u001b[0;32m<ipython-input-2-5673ceae2bf6>\u001b[0m in \u001b[0;36m<module>\u001b[0;34m()\u001b[0m\n\u001b[0;32m----> 1\u001b[0;31m \u001b[0moutputs\u001b[0m\u001b[0;34m\u001b[0m\u001b[0m\n\u001b[0m",
      "\u001b[0;31mNameError\u001b[0m: name 'outputs' is not defined"
     ]
    }
   ],
   "source": [
    "outputs"
   ]
  },
  {
   "cell_type": "code",
   "execution_count": 8,
   "metadata": {},
   "outputs": [
    {
     "data": {
      "text/plain": [
       "Variable containing:\n",
       " 0.2872\n",
       "[torch.cuda.FloatTensor of size 1 (GPU 0)]"
      ]
     },
     "execution_count": 8,
     "metadata": {},
     "output_type": "execute_result"
    }
   ],
   "source": [
    "loss"
   ]
  },
  {
   "cell_type": "code",
   "execution_count": 9,
   "metadata": {},
   "outputs": [
    {
     "data": {
      "text/plain": [
       "1"
      ]
     },
     "execution_count": 9,
     "metadata": {},
     "output_type": "execute_result"
    }
   ],
   "source": [
    "len(outputs)"
   ]
  },
  {
   "cell_type": "code",
   "execution_count": 10,
   "metadata": {},
   "outputs": [
    {
     "data": {
      "text/plain": [
       "Variable containing:\n",
       "( 0 , 0 ,.,.) = \n",
       "    0.0000    0.0000    0.0000  ...    -0.0001   -0.0003   -0.0002\n",
       "    0.0000    0.0000    0.0000  ...    -0.0001   -0.0003   -0.0002\n",
       "    0.0000    0.0000    0.0000  ...    -0.0002   -0.0004   -0.0002\n",
       "              ...                ⋱                ...             \n",
       "    0.0000    0.0000   -0.0099  ...    -0.0006   -0.0001   -0.0000\n",
       "    0.0000    0.0000   -0.0058  ...    -0.0005   -0.0001   -0.0000\n",
       "    0.0000    0.0000   -0.0027  ...    -0.0006   -0.0001   -0.0000\n",
       "\n",
       "( 0 , 1 ,.,.) = \n",
       " -130.6586 -141.0657 -134.0111  ...    -9.1870   -8.1220   -8.5708\n",
       " -137.8547 -152.5382 -145.0304  ...    -9.2002   -8.0936   -8.4820\n",
       " -135.6483 -151.1954 -140.7107  ...    -8.6472   -7.8555   -8.6487\n",
       "              ...                ⋱                ...             \n",
       "  -19.7559  -15.4810   -4.6197  ...    -7.5016   -9.6865  -11.3605\n",
       "  -19.7216  -15.4697   -5.1476  ...    -7.6631   -9.7064  -11.1755\n",
       "  -21.6215  -16.5262   -5.9275  ...    -7.4841   -9.7662  -11.1235\n",
       "[torch.cuda.FloatTensor of size 1x2x512x512 (GPU 0)]"
      ]
     },
     "execution_count": 10,
     "metadata": {},
     "output_type": "execute_result"
    }
   ],
   "source": [
    "outputs"
   ]
  },
  {
   "cell_type": "code",
   "execution_count": 11,
   "metadata": {},
   "outputs": [
    {
     "data": {
      "text/plain": [
       "1"
      ]
     },
     "execution_count": 11,
     "metadata": {},
     "output_type": "execute_result"
    }
   ],
   "source": [
    "len(inputs)"
   ]
  },
  {
   "cell_type": "code",
   "execution_count": 12,
   "metadata": {},
   "outputs": [
    {
     "data": {
      "text/plain": [
       "Variable containing:\n",
       "( 0 , 0 ,.,.) = \n",
       "  0.1632  0.1664  0.1764  ...   0.1536  0.1438  0.1428\n",
       "  0.1538  0.1632  0.1749  ...   0.1408  0.1446  0.1372\n",
       "  0.1586  0.1630  0.1641  ...   0.1696  0.1510  0.1520\n",
       "           ...             ⋱             ...          \n",
       "  0.1668  0.1710  0.1720  ...   0.1564  0.1589  0.1511\n",
       "  0.1673  0.1688  0.1823  ...   0.1557  0.1536  0.1516\n",
       "  0.1672  0.1700  0.1710  ...   0.1542  0.1555  0.1530\n",
       "\n",
       "( 0 , 1 ,.,.) = \n",
       "  0.4783  0.4233  0.4500  ...   0.4545  0.4249  0.4490\n",
       "  0.4639  0.3432  0.3035  ...   0.3488  0.3121  0.3701\n",
       "  0.5631  0.4173  0.4311  ...   0.3310  0.3266  0.4557\n",
       "           ...             ⋱             ...          \n",
       "  0.4726  0.2140  0.1481  ...   0.1745  0.1864  0.3762\n",
       "  0.4949  0.3478  0.2687  ...   0.3350  0.3699  0.4450\n",
       "  0.5542  0.4825  0.4621  ...   0.5327  0.5453  0.5602\n",
       "[torch.cuda.FloatTensor of size 1x2x512x512 (GPU 0)]"
      ]
     },
     "execution_count": 12,
     "metadata": {},
     "output_type": "execute_result"
    }
   ],
   "source": [
    "inputs"
   ]
  },
  {
   "cell_type": "code",
   "execution_count": 13,
   "metadata": {},
   "outputs": [
    {
     "data": {
      "text/plain": [
       "Variable containing:\n",
       "( 0 ,.,.) = \n",
       "   0   0   0  ...    0   0   0\n",
       "   0   0   0  ...    0   0   0\n",
       "   0   0   0  ...    0   0   0\n",
       "     ...       ⋱       ...    \n",
       "   0   0   0  ...    0   0   0\n",
       "   0   0   0  ...    0   0   0\n",
       "   0   0   0  ...    0   0   0\n",
       "[torch.cuda.LongTensor of size 1x512x512 (GPU 0)]"
      ]
     },
     "execution_count": 13,
     "metadata": {},
     "output_type": "execute_result"
    }
   ],
   "source": [
    "targets"
   ]
  },
  {
   "cell_type": "code",
   "execution_count": 14,
   "metadata": {
    "collapsed": true
   },
   "outputs": [],
   "source": [
    "import matplotlib.pyplot as plt"
   ]
  },
  {
   "cell_type": "code",
   "execution_count": 5,
   "metadata": {},
   "outputs": [
    {
     "data": {
      "text/plain": [
       "Variable containing:\n",
       "( 0 , 0 ,.,.) = \n",
       "  0.1632  0.1664  0.1764  ...   0.1536  0.1438  0.1428\n",
       "  0.1538  0.1632  0.1749  ...   0.1408  0.1446  0.1372\n",
       "  0.1586  0.1630  0.1641  ...   0.1696  0.1510  0.1520\n",
       "           ...             ⋱             ...          \n",
       "  0.1668  0.1710  0.1720  ...   0.1564  0.1589  0.1511\n",
       "  0.1673  0.1688  0.1823  ...   0.1557  0.1536  0.1516\n",
       "  0.1672  0.1700  0.1710  ...   0.1542  0.1555  0.1530\n",
       "\n",
       "( 0 , 1 ,.,.) = \n",
       "  0.4783  0.4233  0.4500  ...   0.4545  0.4249  0.4490\n",
       "  0.4639  0.3432  0.3035  ...   0.3488  0.3121  0.3701\n",
       "  0.5631  0.4173  0.4311  ...   0.3310  0.3266  0.4557\n",
       "           ...             ⋱             ...          \n",
       "  0.4726  0.2140  0.1481  ...   0.1745  0.1864  0.3762\n",
       "  0.4949  0.3478  0.2687  ...   0.3350  0.3699  0.4450\n",
       "  0.5542  0.4825  0.4621  ...   0.5327  0.5453  0.5602\n",
       "[torch.cuda.FloatTensor of size 1x2x512x512 (GPU 0)]"
      ]
     },
     "execution_count": 5,
     "metadata": {},
     "output_type": "execute_result"
    }
   ],
   "source": [
    "inputs"
   ]
  },
  {
   "cell_type": "code",
   "execution_count": 6,
   "metadata": {},
   "outputs": [
    {
     "data": {
      "text/plain": [
       "Variable containing:\n",
       "( 0 ,.,.) = \n",
       "  0.1632  0.1664  0.1764  ...   0.1536  0.1438  0.1428\n",
       "  0.1538  0.1632  0.1749  ...   0.1408  0.1446  0.1372\n",
       "  0.1586  0.1630  0.1641  ...   0.1696  0.1510  0.1520\n",
       "           ...             ⋱             ...          \n",
       "  0.1668  0.1710  0.1720  ...   0.1564  0.1589  0.1511\n",
       "  0.1673  0.1688  0.1823  ...   0.1557  0.1536  0.1516\n",
       "  0.1672  0.1700  0.1710  ...   0.1542  0.1555  0.1530\n",
       "\n",
       "( 1 ,.,.) = \n",
       "  0.4783  0.4233  0.4500  ...   0.4545  0.4249  0.4490\n",
       "  0.4639  0.3432  0.3035  ...   0.3488  0.3121  0.3701\n",
       "  0.5631  0.4173  0.4311  ...   0.3310  0.3266  0.4557\n",
       "           ...             ⋱             ...          \n",
       "  0.4726  0.2140  0.1481  ...   0.1745  0.1864  0.3762\n",
       "  0.4949  0.3478  0.2687  ...   0.3350  0.3699  0.4450\n",
       "  0.5542  0.4825  0.4621  ...   0.5327  0.5453  0.5602\n",
       "[torch.cuda.FloatTensor of size 2x512x512 (GPU 0)]"
      ]
     },
     "execution_count": 6,
     "metadata": {},
     "output_type": "execute_result"
    }
   ],
   "source": [
    "inputs[0]"
   ]
  },
  {
   "cell_type": "code",
   "execution_count": 7,
   "metadata": {},
   "outputs": [
    {
     "data": {
      "text/plain": [
       "Variable containing:\n",
       " 0.1632  0.1664  0.1764  ...   0.1536  0.1438  0.1428\n",
       " 0.1538  0.1632  0.1749  ...   0.1408  0.1446  0.1372\n",
       " 0.1586  0.1630  0.1641  ...   0.1696  0.1510  0.1520\n",
       "          ...             ⋱             ...          \n",
       " 0.1668  0.1710  0.1720  ...   0.1564  0.1589  0.1511\n",
       " 0.1673  0.1688  0.1823  ...   0.1557  0.1536  0.1516\n",
       " 0.1672  0.1700  0.1710  ...   0.1542  0.1555  0.1530\n",
       "[torch.cuda.FloatTensor of size 512x512 (GPU 0)]"
      ]
     },
     "execution_count": 7,
     "metadata": {},
     "output_type": "execute_result"
    }
   ],
   "source": [
    "inputs[0][0]"
   ]
  },
  {
   "cell_type": "code",
   "execution_count": 11,
   "metadata": {},
   "outputs": [
    {
     "ename": "AttributeError",
     "evalue": "numpy",
     "output_type": "error",
     "traceback": [
      "\u001b[0;31m---------------------------------------------------------------------------\u001b[0m",
      "\u001b[0;31mAttributeError\u001b[0m                            Traceback (most recent call last)",
      "\u001b[0;32m<ipython-input-11-98d55659274b>\u001b[0m in \u001b[0;36m<module>\u001b[0;34m()\u001b[0m\n\u001b[0;32m----> 1\u001b[0;31m \u001b[0minputs\u001b[0m\u001b[0;34m.\u001b[0m\u001b[0mnumpy\u001b[0m\u001b[0;34m(\u001b[0m\u001b[0;34m)\u001b[0m\u001b[0;34m\u001b[0m\u001b[0m\n\u001b[0m",
      "\u001b[0;32m/opt/conda/envs/pytorch-py36/lib/python3.6/site-packages/torch/autograd/variable.py\u001b[0m in \u001b[0;36m__getattr__\u001b[0;34m(self, name)\u001b[0m\n\u001b[1;32m     62\u001b[0m         \u001b[0;32mif\u001b[0m \u001b[0mname\u001b[0m \u001b[0;32min\u001b[0m \u001b[0mself\u001b[0m\u001b[0;34m.\u001b[0m\u001b[0m_fallthrough_methods\u001b[0m\u001b[0;34m:\u001b[0m\u001b[0;34m\u001b[0m\u001b[0m\n\u001b[1;32m     63\u001b[0m             \u001b[0;32mreturn\u001b[0m \u001b[0mgetattr\u001b[0m\u001b[0;34m(\u001b[0m\u001b[0mself\u001b[0m\u001b[0;34m.\u001b[0m\u001b[0mdata\u001b[0m\u001b[0;34m,\u001b[0m \u001b[0mname\u001b[0m\u001b[0;34m)\u001b[0m\u001b[0;34m\u001b[0m\u001b[0m\n\u001b[0;32m---> 64\u001b[0;31m         \u001b[0;32mraise\u001b[0m \u001b[0mAttributeError\u001b[0m\u001b[0;34m(\u001b[0m\u001b[0mname\u001b[0m\u001b[0;34m)\u001b[0m\u001b[0;34m\u001b[0m\u001b[0m\n\u001b[0m\u001b[1;32m     65\u001b[0m \u001b[0;34m\u001b[0m\u001b[0m\n\u001b[1;32m     66\u001b[0m     \u001b[0;32mdef\u001b[0m \u001b[0m__getitem__\u001b[0m\u001b[0;34m(\u001b[0m\u001b[0mself\u001b[0m\u001b[0;34m,\u001b[0m \u001b[0mkey\u001b[0m\u001b[0;34m)\u001b[0m\u001b[0;34m:\u001b[0m\u001b[0;34m\u001b[0m\u001b[0m\n",
      "\u001b[0;31mAttributeError\u001b[0m: numpy"
     ]
    }
   ],
   "source": [
    "inputs.numpy()"
   ]
  },
  {
   "cell_type": "code",
   "execution_count": 12,
   "metadata": {},
   "outputs": [
    {
     "data": {
      "text/plain": [
       "list"
      ]
     },
     "execution_count": 12,
     "metadata": {},
     "output_type": "execute_result"
    }
   ],
   "source": [
    "type(epoch_loss)"
   ]
  },
  {
   "cell_type": "code",
   "execution_count": 14,
   "metadata": {},
   "outputs": [],
   "source": [
    "import torchvision.transforms as transforms"
   ]
  },
  {
   "cell_type": "code",
   "execution_count": 15,
   "metadata": {},
   "outputs": [
    {
     "data": {
      "text/plain": [
       "torch.autograd.variable.Variable"
      ]
     },
     "execution_count": 15,
     "metadata": {},
     "output_type": "execute_result"
    }
   ],
   "source": [
    "type(inputs)"
   ]
  },
  {
   "cell_type": "code",
   "execution_count": 16,
   "metadata": {},
   "outputs": [
    {
     "data": {
      "text/plain": [
       "\n",
       "( 0 , 0 ,.,.) = \n",
       "  0.1632  0.1664  0.1764  ...   0.1536  0.1438  0.1428\n",
       "  0.1538  0.1632  0.1749  ...   0.1408  0.1446  0.1372\n",
       "  0.1586  0.1630  0.1641  ...   0.1696  0.1510  0.1520\n",
       "           ...             ⋱             ...          \n",
       "  0.1668  0.1710  0.1720  ...   0.1564  0.1589  0.1511\n",
       "  0.1673  0.1688  0.1823  ...   0.1557  0.1536  0.1516\n",
       "  0.1672  0.1700  0.1710  ...   0.1542  0.1555  0.1530\n",
       "\n",
       "( 0 , 1 ,.,.) = \n",
       "  0.4783  0.4233  0.4500  ...   0.4545  0.4249  0.4490\n",
       "  0.4639  0.3432  0.3035  ...   0.3488  0.3121  0.3701\n",
       "  0.5631  0.4173  0.4311  ...   0.3310  0.3266  0.4557\n",
       "           ...             ⋱             ...          \n",
       "  0.4726  0.2140  0.1481  ...   0.1745  0.1864  0.3762\n",
       "  0.4949  0.3478  0.2687  ...   0.3350  0.3699  0.4450\n",
       "  0.5542  0.4825  0.4621  ...   0.5327  0.5453  0.5602\n",
       "[torch.cuda.FloatTensor of size 1x2x512x512 (GPU 0)]"
      ]
     },
     "execution_count": 16,
     "metadata": {},
     "output_type": "execute_result"
    }
   ],
   "source": [
    "inputs.data"
   ]
  },
  {
   "cell_type": "code",
   "execution_count": 17,
   "metadata": {
    "collapsed": true
   },
   "outputs": [],
   "source": [
    "in_data = inputs.data"
   ]
  },
  {
   "cell_type": "code",
   "execution_count": 18,
   "metadata": {},
   "outputs": [
    {
     "data": {
      "text/plain": [
       "\n",
       "( 0 ,.,.) = \n",
       "  0.1632  0.1664  0.1764  ...   0.1536  0.1438  0.1428\n",
       "  0.1538  0.1632  0.1749  ...   0.1408  0.1446  0.1372\n",
       "  0.1586  0.1630  0.1641  ...   0.1696  0.1510  0.1520\n",
       "           ...             ⋱             ...          \n",
       "  0.1668  0.1710  0.1720  ...   0.1564  0.1589  0.1511\n",
       "  0.1673  0.1688  0.1823  ...   0.1557  0.1536  0.1516\n",
       "  0.1672  0.1700  0.1710  ...   0.1542  0.1555  0.1530\n",
       "\n",
       "( 1 ,.,.) = \n",
       "  0.4783  0.4233  0.4500  ...   0.4545  0.4249  0.4490\n",
       "  0.4639  0.3432  0.3035  ...   0.3488  0.3121  0.3701\n",
       "  0.5631  0.4173  0.4311  ...   0.3310  0.3266  0.4557\n",
       "           ...             ⋱             ...          \n",
       "  0.4726  0.2140  0.1481  ...   0.1745  0.1864  0.3762\n",
       "  0.4949  0.3478  0.2687  ...   0.3350  0.3699  0.4450\n",
       "  0.5542  0.4825  0.4621  ...   0.5327  0.5453  0.5602\n",
       "[torch.cuda.FloatTensor of size 2x512x512 (GPU 0)]"
      ]
     },
     "execution_count": 18,
     "metadata": {},
     "output_type": "execute_result"
    }
   ],
   "source": [
    "in_data[0]"
   ]
  },
  {
   "cell_type": "code",
   "execution_count": 20,
   "metadata": {},
   "outputs": [],
   "source": [
    "in_data = in_data.cpu().numpy()"
   ]
  },
  {
   "cell_type": "code",
   "execution_count": 21,
   "metadata": {},
   "outputs": [
    {
     "data": {
      "text/plain": [
       "array([[[ 0.16316062,  0.16635096,  0.17639376, ...,  0.15360597,\n",
       "          0.14382622,  0.14283477],\n",
       "        [ 0.15378946,  0.16316502,  0.17489046, ...,  0.14080514,\n",
       "          0.14458518,  0.13715032],\n",
       "        [ 0.15859944,  0.16304576,  0.16409355, ...,  0.16956688,\n",
       "          0.15097506,  0.15197003],\n",
       "        ..., \n",
       "        [ 0.16679515,  0.17097092,  0.17198054, ...,  0.15644141,\n",
       "          0.1589486 ,  0.15108033],\n",
       "        [ 0.16733174,  0.16876887,  0.18233101, ...,  0.15569478,\n",
       "          0.15361907,  0.15164891],\n",
       "        [ 0.16717061,  0.17001158,  0.17098331, ...,  0.1542408 ,\n",
       "          0.15545598,  0.15299416]],\n",
       "\n",
       "       [[ 0.47826493,  0.42326367,  0.450001  , ...,  0.45447284,\n",
       "          0.42492807,  0.44899014],\n",
       "        [ 0.46386907,  0.34324229,  0.30350161, ...,  0.34880888,\n",
       "          0.31208694,  0.37008175],\n",
       "        [ 0.56308478,  0.41729066,  0.43107864, ...,  0.33095342,\n",
       "          0.32663727,  0.45566463],\n",
       "        ..., \n",
       "        [ 0.47259474,  0.21403037,  0.14805916, ...,  0.17454506,\n",
       "          0.18640901,  0.37621588],\n",
       "        [ 0.49490204,  0.34776437,  0.2687442 , ...,  0.33502641,\n",
       "          0.3698715 ,  0.44495702],\n",
       "        [ 0.55422443,  0.48249346,  0.46206778, ...,  0.53268647,\n",
       "          0.54525238,  0.56019479]]], dtype=float32)"
      ]
     },
     "execution_count": 21,
     "metadata": {},
     "output_type": "execute_result"
    }
   ],
   "source": [
    "in_data[0]"
   ]
  },
  {
   "cell_type": "code",
   "execution_count": 25,
   "metadata": {},
   "outputs": [],
   "source": [
    "in_data = in_data[0]"
   ]
  },
  {
   "cell_type": "code",
   "execution_count": 26,
   "metadata": {},
   "outputs": [
    {
     "data": {
      "text/plain": [
       "(2, 512, 512)"
      ]
     },
     "execution_count": 26,
     "metadata": {},
     "output_type": "execute_result"
    }
   ],
   "source": [
    "in_data.shape"
   ]
  },
  {
   "cell_type": "code",
   "execution_count": 28,
   "metadata": {},
   "outputs": [
    {
     "data": {
      "text/plain": [
       "(512, 512)"
      ]
     },
     "execution_count": 28,
     "metadata": {},
     "output_type": "execute_result"
    }
   ],
   "source": [
    "in_data[0].shape"
   ]
  },
  {
   "cell_type": "code",
   "execution_count": 29,
   "metadata": {
    "collapsed": true
   },
   "outputs": [],
   "source": [
    "in_data_avg = in_data[0]\n",
    "in_data_corr = in_data[1]"
   ]
  },
  {
   "cell_type": "code",
   "execution_count": 30,
   "metadata": {
    "collapsed": true
   },
   "outputs": [],
   "source": [
    "import matplotlib.pyplot as plt"
   ]
  },
  {
   "cell_type": "code",
   "execution_count": 31,
   "metadata": {},
   "outputs": [
    {
     "data": {
      "text/plain": [
       "(512, 512)"
      ]
     },
     "execution_count": 31,
     "metadata": {},
     "output_type": "execute_result"
    }
   ],
   "source": [
    "in_data_avg.shape"
   ]
  },
  {
   "cell_type": "code",
   "execution_count": 32,
   "metadata": {},
   "outputs": [
    {
     "data": {
      "text/plain": [
       "[<matplotlib.lines.Line2D at 0x7f92fb7acb38>,\n",
       " <matplotlib.lines.Line2D at 0x7f92fb7acf28>,\n",
       " <matplotlib.lines.Line2D at 0x7f92fb7ac198>,\n",
       " <matplotlib.lines.Line2D at 0x7f92fb7ac390>,\n",
       " <matplotlib.lines.Line2D at 0x7f92fb7acc18>,\n",
       " <matplotlib.lines.Line2D at 0x7f92fb7ac668>,\n",
       " <matplotlib.lines.Line2D at 0x7f92fb7ac978>,\n",
       " <matplotlib.lines.Line2D at 0x7f92fb79abe0>,\n",
       " <matplotlib.lines.Line2D at 0x7f92fb79aa90>,\n",
       " <matplotlib.lines.Line2D at 0x7f92fb79a240>,\n",
       " <matplotlib.lines.Line2D at 0x7f9349d984a8>,\n",
       " <matplotlib.lines.Line2D at 0x7f92fb79a5c0>,\n",
       " <matplotlib.lines.Line2D at 0x7f92fb79a9e8>,\n",
       " <matplotlib.lines.Line2D at 0x7f92fb79a780>,\n",
       " <matplotlib.lines.Line2D at 0x7f92fb79aa58>,\n",
       " <matplotlib.lines.Line2D at 0x7f92fb79fbe0>,\n",
       " <matplotlib.lines.Line2D at 0x7f92fb79f6a0>,\n",
       " <matplotlib.lines.Line2D at 0x7f92fb79f898>,\n",
       " <matplotlib.lines.Line2D at 0x7f92fb79fcf8>,\n",
       " <matplotlib.lines.Line2D at 0x7f92fb79f588>,\n",
       " <matplotlib.lines.Line2D at 0x7f92fb797588>,\n",
       " <matplotlib.lines.Line2D at 0x7f9301da5898>,\n",
       " <matplotlib.lines.Line2D at 0x7f9301da5dd8>,\n",
       " <matplotlib.lines.Line2D at 0x7f93020effd0>,\n",
       " <matplotlib.lines.Line2D at 0x7f93020efd68>,\n",
       " <matplotlib.lines.Line2D at 0x7f93020ef470>,\n",
       " <matplotlib.lines.Line2D at 0x7f93020ef080>,\n",
       " <matplotlib.lines.Line2D at 0x7f93020efac8>,\n",
       " <matplotlib.lines.Line2D at 0x7f93020ef438>,\n",
       " <matplotlib.lines.Line2D at 0x7f9349da6c18>,\n",
       " <matplotlib.lines.Line2D at 0x7f92ec8cf908>,\n",
       " <matplotlib.lines.Line2D at 0x7f92ec8cfb00>,\n",
       " <matplotlib.lines.Line2D at 0x7f92ec8cfcf8>,\n",
       " <matplotlib.lines.Line2D at 0x7f92ec8cfef0>,\n",
       " <matplotlib.lines.Line2D at 0x7f92ec609128>,\n",
       " <matplotlib.lines.Line2D at 0x7f92ec609320>,\n",
       " <matplotlib.lines.Line2D at 0x7f92ec609518>,\n",
       " <matplotlib.lines.Line2D at 0x7f92ec609710>,\n",
       " <matplotlib.lines.Line2D at 0x7f92ec609908>,\n",
       " <matplotlib.lines.Line2D at 0x7f92ec609b00>,\n",
       " <matplotlib.lines.Line2D at 0x7f92ec609cf8>,\n",
       " <matplotlib.lines.Line2D at 0x7f92ec609ef0>,\n",
       " <matplotlib.lines.Line2D at 0x7f92ec60c128>,\n",
       " <matplotlib.lines.Line2D at 0x7f92ec60c320>,\n",
       " <matplotlib.lines.Line2D at 0x7f92ec60c518>,\n",
       " <matplotlib.lines.Line2D at 0x7f92ec60c710>,\n",
       " <matplotlib.lines.Line2D at 0x7f92ec60c908>,\n",
       " <matplotlib.lines.Line2D at 0x7f92ec60cb00>,\n",
       " <matplotlib.lines.Line2D at 0x7f92ec60ccf8>,\n",
       " <matplotlib.lines.Line2D at 0x7f92ec60cef0>,\n",
       " <matplotlib.lines.Line2D at 0x7f92ec60e128>,\n",
       " <matplotlib.lines.Line2D at 0x7f92ec60e320>,\n",
       " <matplotlib.lines.Line2D at 0x7f92ec60e518>,\n",
       " <matplotlib.lines.Line2D at 0x7f92ec60e710>,\n",
       " <matplotlib.lines.Line2D at 0x7f92ec60e908>,\n",
       " <matplotlib.lines.Line2D at 0x7f92ec60eb00>,\n",
       " <matplotlib.lines.Line2D at 0x7f92ec60ecf8>,\n",
       " <matplotlib.lines.Line2D at 0x7f92ec60eef0>,\n",
       " <matplotlib.lines.Line2D at 0x7f92ec610128>,\n",
       " <matplotlib.lines.Line2D at 0x7f92ec610320>,\n",
       " <matplotlib.lines.Line2D at 0x7f92ec610518>,\n",
       " <matplotlib.lines.Line2D at 0x7f92ec610710>,\n",
       " <matplotlib.lines.Line2D at 0x7f92ec610908>,\n",
       " <matplotlib.lines.Line2D at 0x7f92ec610b00>,\n",
       " <matplotlib.lines.Line2D at 0x7f92ec610cf8>,\n",
       " <matplotlib.lines.Line2D at 0x7f92ec610ef0>,\n",
       " <matplotlib.lines.Line2D at 0x7f92ec613128>,\n",
       " <matplotlib.lines.Line2D at 0x7f92ec613320>,\n",
       " <matplotlib.lines.Line2D at 0x7f92ec613518>,\n",
       " <matplotlib.lines.Line2D at 0x7f92ec613710>,\n",
       " <matplotlib.lines.Line2D at 0x7f92ec613908>,\n",
       " <matplotlib.lines.Line2D at 0x7f92ec613b00>,\n",
       " <matplotlib.lines.Line2D at 0x7f92ec613cf8>,\n",
       " <matplotlib.lines.Line2D at 0x7f92ec613ef0>,\n",
       " <matplotlib.lines.Line2D at 0x7f92ec617128>,\n",
       " <matplotlib.lines.Line2D at 0x7f92ec617320>,\n",
       " <matplotlib.lines.Line2D at 0x7f92ec617518>,\n",
       " <matplotlib.lines.Line2D at 0x7f92ec617710>,\n",
       " <matplotlib.lines.Line2D at 0x7f92ec617908>,\n",
       " <matplotlib.lines.Line2D at 0x7f92ec617b00>,\n",
       " <matplotlib.lines.Line2D at 0x7f92ec617cf8>,\n",
       " <matplotlib.lines.Line2D at 0x7f92ec617ef0>,\n",
       " <matplotlib.lines.Line2D at 0x7f92ec61c128>,\n",
       " <matplotlib.lines.Line2D at 0x7f92ec61c320>,\n",
       " <matplotlib.lines.Line2D at 0x7f92ec61c518>,\n",
       " <matplotlib.lines.Line2D at 0x7f92ec61c710>,\n",
       " <matplotlib.lines.Line2D at 0x7f92ec61c908>,\n",
       " <matplotlib.lines.Line2D at 0x7f92ec61cb00>,\n",
       " <matplotlib.lines.Line2D at 0x7f92ec61ccf8>,\n",
       " <matplotlib.lines.Line2D at 0x7f92ec61cef0>,\n",
       " <matplotlib.lines.Line2D at 0x7f92ec621128>,\n",
       " <matplotlib.lines.Line2D at 0x7f92ec621320>,\n",
       " <matplotlib.lines.Line2D at 0x7f92ec621518>,\n",
       " <matplotlib.lines.Line2D at 0x7f92ec621710>,\n",
       " <matplotlib.lines.Line2D at 0x7f92ec621908>,\n",
       " <matplotlib.lines.Line2D at 0x7f92ec621b00>,\n",
       " <matplotlib.lines.Line2D at 0x7f92ec621cf8>,\n",
       " <matplotlib.lines.Line2D at 0x7f92ec621ef0>,\n",
       " <matplotlib.lines.Line2D at 0x7f92ec629128>,\n",
       " <matplotlib.lines.Line2D at 0x7f92ec629320>,\n",
       " <matplotlib.lines.Line2D at 0x7f92ec629518>,\n",
       " <matplotlib.lines.Line2D at 0x7f92ec629710>,\n",
       " <matplotlib.lines.Line2D at 0x7f92ec629908>,\n",
       " <matplotlib.lines.Line2D at 0x7f92ec629b00>,\n",
       " <matplotlib.lines.Line2D at 0x7f92ec629cf8>,\n",
       " <matplotlib.lines.Line2D at 0x7f92ec629ef0>,\n",
       " <matplotlib.lines.Line2D at 0x7f92ec62c128>,\n",
       " <matplotlib.lines.Line2D at 0x7f92ec62c320>,\n",
       " <matplotlib.lines.Line2D at 0x7f92ec62c518>,\n",
       " <matplotlib.lines.Line2D at 0x7f92ec62c710>,\n",
       " <matplotlib.lines.Line2D at 0x7f92ec62c908>,\n",
       " <matplotlib.lines.Line2D at 0x7f92ec62cb00>,\n",
       " <matplotlib.lines.Line2D at 0x7f92ec62ccf8>,\n",
       " <matplotlib.lines.Line2D at 0x7f92ec62cef0>,\n",
       " <matplotlib.lines.Line2D at 0x7f92ec5f3128>,\n",
       " <matplotlib.lines.Line2D at 0x7f92ec5f3320>,\n",
       " <matplotlib.lines.Line2D at 0x7f92ec5f3518>,\n",
       " <matplotlib.lines.Line2D at 0x7f92ec5f3710>,\n",
       " <matplotlib.lines.Line2D at 0x7f92ec5f3908>,\n",
       " <matplotlib.lines.Line2D at 0x7f92ec5f3b00>,\n",
       " <matplotlib.lines.Line2D at 0x7f92ec5f3cf8>,\n",
       " <matplotlib.lines.Line2D at 0x7f92ec5f3ef0>,\n",
       " <matplotlib.lines.Line2D at 0x7f92ec800128>,\n",
       " <matplotlib.lines.Line2D at 0x7f92ec800320>,\n",
       " <matplotlib.lines.Line2D at 0x7f92ec800518>,\n",
       " <matplotlib.lines.Line2D at 0x7f92ec800710>,\n",
       " <matplotlib.lines.Line2D at 0x7f92fb701cf8>,\n",
       " <matplotlib.lines.Line2D at 0x7f92fb7011d0>,\n",
       " <matplotlib.lines.Line2D at 0x7f93020fcf98>,\n",
       " <matplotlib.lines.Line2D at 0x7f92fb57f588>,\n",
       " <matplotlib.lines.Line2D at 0x7f92fb771a20>,\n",
       " <matplotlib.lines.Line2D at 0x7f9349d98048>,\n",
       " <matplotlib.lines.Line2D at 0x7f9349d8d6d8>,\n",
       " <matplotlib.lines.Line2D at 0x7f9349d27208>,\n",
       " <matplotlib.lines.Line2D at 0x7f9349d272e8>,\n",
       " <matplotlib.lines.Line2D at 0x7f9349d27198>,\n",
       " <matplotlib.lines.Line2D at 0x7f9349d275f8>,\n",
       " <matplotlib.lines.Line2D at 0x7f9349d9b4a8>,\n",
       " <matplotlib.lines.Line2D at 0x7f9349d9e940>,\n",
       " <matplotlib.lines.Line2D at 0x7f9349d9e160>,\n",
       " <matplotlib.lines.Line2D at 0x7f92ec8009b0>,\n",
       " <matplotlib.lines.Line2D at 0x7f92ec800b70>,\n",
       " <matplotlib.lines.Line2D at 0x7f92ec800d30>,\n",
       " <matplotlib.lines.Line2D at 0x7f92ec800ef0>,\n",
       " <matplotlib.lines.Line2D at 0x7f92ec8040f0>,\n",
       " <matplotlib.lines.Line2D at 0x7f92ec8042b0>,\n",
       " <matplotlib.lines.Line2D at 0x7f92ec804470>,\n",
       " <matplotlib.lines.Line2D at 0x7f92ec804630>,\n",
       " <matplotlib.lines.Line2D at 0x7f92ec8047f0>,\n",
       " <matplotlib.lines.Line2D at 0x7f92ec8049b0>,\n",
       " <matplotlib.lines.Line2D at 0x7f92ec804b70>,\n",
       " <matplotlib.lines.Line2D at 0x7f92ec804d30>,\n",
       " <matplotlib.lines.Line2D at 0x7f92ec804ef0>,\n",
       " <matplotlib.lines.Line2D at 0x7f92ec7ee0f0>,\n",
       " <matplotlib.lines.Line2D at 0x7f92ec7ee2b0>,\n",
       " <matplotlib.lines.Line2D at 0x7f92ec7ee470>,\n",
       " <matplotlib.lines.Line2D at 0x7f92ec7ee630>,\n",
       " <matplotlib.lines.Line2D at 0x7f92ec7ee7f0>,\n",
       " <matplotlib.lines.Line2D at 0x7f92ec7ee9b0>,\n",
       " <matplotlib.lines.Line2D at 0x7f92ec7eeb70>,\n",
       " <matplotlib.lines.Line2D at 0x7f92ec7eed30>,\n",
       " <matplotlib.lines.Line2D at 0x7f92ec7eeef0>,\n",
       " <matplotlib.lines.Line2D at 0x7f92ec809128>,\n",
       " <matplotlib.lines.Line2D at 0x7f92ec809320>,\n",
       " <matplotlib.lines.Line2D at 0x7f92ec809518>,\n",
       " <matplotlib.lines.Line2D at 0x7f92ec809710>,\n",
       " <matplotlib.lines.Line2D at 0x7f92ec809908>,\n",
       " <matplotlib.lines.Line2D at 0x7f92ec809b00>,\n",
       " <matplotlib.lines.Line2D at 0x7f92ec809cf8>,\n",
       " <matplotlib.lines.Line2D at 0x7f92ec809ef0>,\n",
       " <matplotlib.lines.Line2D at 0x7f92ec80e128>,\n",
       " <matplotlib.lines.Line2D at 0x7f92ec80e320>,\n",
       " <matplotlib.lines.Line2D at 0x7f92ec80e518>,\n",
       " <matplotlib.lines.Line2D at 0x7f92ec80e710>,\n",
       " <matplotlib.lines.Line2D at 0x7f92ec80e908>,\n",
       " <matplotlib.lines.Line2D at 0x7f92ec80eb00>,\n",
       " <matplotlib.lines.Line2D at 0x7f92ec80ecf8>,\n",
       " <matplotlib.lines.Line2D at 0x7f92ec80eef0>,\n",
       " <matplotlib.lines.Line2D at 0x7f92ec815128>,\n",
       " <matplotlib.lines.Line2D at 0x7f92ec815320>,\n",
       " <matplotlib.lines.Line2D at 0x7f92ec815518>,\n",
       " <matplotlib.lines.Line2D at 0x7f92ec815710>,\n",
       " <matplotlib.lines.Line2D at 0x7f92ec815908>,\n",
       " <matplotlib.lines.Line2D at 0x7f92ec815b00>,\n",
       " <matplotlib.lines.Line2D at 0x7f92ec815cf8>,\n",
       " <matplotlib.lines.Line2D at 0x7f92ec815ef0>,\n",
       " <matplotlib.lines.Line2D at 0x7f92ec81b128>,\n",
       " <matplotlib.lines.Line2D at 0x7f92ec81b320>,\n",
       " <matplotlib.lines.Line2D at 0x7f92ec81b518>,\n",
       " <matplotlib.lines.Line2D at 0x7f92ec81b710>,\n",
       " <matplotlib.lines.Line2D at 0x7f92ec81b908>,\n",
       " <matplotlib.lines.Line2D at 0x7f92ec81bb00>,\n",
       " <matplotlib.lines.Line2D at 0x7f92ec81bcf8>,\n",
       " <matplotlib.lines.Line2D at 0x7f92ec81bef0>,\n",
       " <matplotlib.lines.Line2D at 0x7f92ec81e128>,\n",
       " <matplotlib.lines.Line2D at 0x7f92ec81e320>,\n",
       " <matplotlib.lines.Line2D at 0x7f92ec81e518>,\n",
       " <matplotlib.lines.Line2D at 0x7f92ec81e710>,\n",
       " <matplotlib.lines.Line2D at 0x7f92ec81e908>,\n",
       " <matplotlib.lines.Line2D at 0x7f92ec81eb00>,\n",
       " <matplotlib.lines.Line2D at 0x7f92ec81ecf8>,\n",
       " <matplotlib.lines.Line2D at 0x7f92ec81eef0>,\n",
       " <matplotlib.lines.Line2D at 0x7f92ec823128>,\n",
       " <matplotlib.lines.Line2D at 0x7f92ec823320>,\n",
       " <matplotlib.lines.Line2D at 0x7f92ec823518>,\n",
       " <matplotlib.lines.Line2D at 0x7f92ec823710>,\n",
       " <matplotlib.lines.Line2D at 0x7f92ec823908>,\n",
       " <matplotlib.lines.Line2D at 0x7f92ec823b00>,\n",
       " <matplotlib.lines.Line2D at 0x7f92ec823cf8>,\n",
       " <matplotlib.lines.Line2D at 0x7f92ec823ef0>,\n",
       " <matplotlib.lines.Line2D at 0x7f92ec828128>,\n",
       " <matplotlib.lines.Line2D at 0x7f92ec828320>,\n",
       " <matplotlib.lines.Line2D at 0x7f92ec828518>,\n",
       " <matplotlib.lines.Line2D at 0x7f92ec828710>,\n",
       " <matplotlib.lines.Line2D at 0x7f92ec828908>,\n",
       " <matplotlib.lines.Line2D at 0x7f92ec828b00>,\n",
       " <matplotlib.lines.Line2D at 0x7f92ec828cf8>,\n",
       " <matplotlib.lines.Line2D at 0x7f92ec828ef0>,\n",
       " <matplotlib.lines.Line2D at 0x7f92ec82c128>,\n",
       " <matplotlib.lines.Line2D at 0x7f92ec82c320>,\n",
       " <matplotlib.lines.Line2D at 0x7f92ec82c518>,\n",
       " <matplotlib.lines.Line2D at 0x7f92ec82c710>,\n",
       " <matplotlib.lines.Line2D at 0x7f92ec82c908>,\n",
       " <matplotlib.lines.Line2D at 0x7f92ec82cb00>,\n",
       " <matplotlib.lines.Line2D at 0x7f92ec82ccf8>,\n",
       " <matplotlib.lines.Line2D at 0x7f92ec82cef0>,\n",
       " <matplotlib.lines.Line2D at 0x7f92ec7f7128>,\n",
       " <matplotlib.lines.Line2D at 0x7f92ec7f7320>,\n",
       " <matplotlib.lines.Line2D at 0x7f92ec7f7518>,\n",
       " <matplotlib.lines.Line2D at 0x7f92ec7f7710>,\n",
       " <matplotlib.lines.Line2D at 0x7f92ec7f7908>,\n",
       " <matplotlib.lines.Line2D at 0x7f92ec7f7b00>,\n",
       " <matplotlib.lines.Line2D at 0x7f92ec7f7cf8>,\n",
       " <matplotlib.lines.Line2D at 0x7f92ec7f7ef0>,\n",
       " <matplotlib.lines.Line2D at 0x7f92ec501128>,\n",
       " <matplotlib.lines.Line2D at 0x7f92ec501320>,\n",
       " <matplotlib.lines.Line2D at 0x7f92ec501518>,\n",
       " <matplotlib.lines.Line2D at 0x7f92ec501710>,\n",
       " <matplotlib.lines.Line2D at 0x7f92ec501908>,\n",
       " <matplotlib.lines.Line2D at 0x7f92ec501b00>,\n",
       " <matplotlib.lines.Line2D at 0x7f92ec501cf8>,\n",
       " <matplotlib.lines.Line2D at 0x7f92ec501ef0>,\n",
       " <matplotlib.lines.Line2D at 0x7f92ec52c128>,\n",
       " <matplotlib.lines.Line2D at 0x7f92ec52c320>,\n",
       " <matplotlib.lines.Line2D at 0x7f92ec52c518>,\n",
       " <matplotlib.lines.Line2D at 0x7f92ec52c710>,\n",
       " <matplotlib.lines.Line2D at 0x7f92ec52c908>,\n",
       " <matplotlib.lines.Line2D at 0x7f92ec52cb00>,\n",
       " <matplotlib.lines.Line2D at 0x7f92ec52ccf8>,\n",
       " <matplotlib.lines.Line2D at 0x7f92ec52cef0>,\n",
       " <matplotlib.lines.Line2D at 0x7f92ec511128>,\n",
       " <matplotlib.lines.Line2D at 0x7f92ec511320>,\n",
       " <matplotlib.lines.Line2D at 0x7f92ec511518>,\n",
       " <matplotlib.lines.Line2D at 0x7f92ec511710>,\n",
       " <matplotlib.lines.Line2D at 0x7f92ec511908>,\n",
       " <matplotlib.lines.Line2D at 0x7f92ec511b00>,\n",
       " <matplotlib.lines.Line2D at 0x7f92ec511cf8>,\n",
       " <matplotlib.lines.Line2D at 0x7f92ec511ef0>,\n",
       " <matplotlib.lines.Line2D at 0x7f92ec4f0128>,\n",
       " <matplotlib.lines.Line2D at 0x7f92ec4f0320>,\n",
       " <matplotlib.lines.Line2D at 0x7f92ec4f0518>,\n",
       " <matplotlib.lines.Line2D at 0x7f92ec4f0710>,\n",
       " <matplotlib.lines.Line2D at 0x7f92ec4f0908>,\n",
       " <matplotlib.lines.Line2D at 0x7f92ec4f0b00>,\n",
       " <matplotlib.lines.Line2D at 0x7f92ec4f0cf8>,\n",
       " <matplotlib.lines.Line2D at 0x7f92ec4f0ef0>,\n",
       " <matplotlib.lines.Line2D at 0x7f92ec513128>,\n",
       " <matplotlib.lines.Line2D at 0x7f92ec513320>,\n",
       " <matplotlib.lines.Line2D at 0x7f92ec513518>,\n",
       " <matplotlib.lines.Line2D at 0x7f92ec513710>,\n",
       " <matplotlib.lines.Line2D at 0x7f92ec513908>,\n",
       " <matplotlib.lines.Line2D at 0x7f92ec513b00>,\n",
       " <matplotlib.lines.Line2D at 0x7f92ec513cf8>,\n",
       " <matplotlib.lines.Line2D at 0x7f92ec513ef0>,\n",
       " <matplotlib.lines.Line2D at 0x7f92ec4f3128>,\n",
       " <matplotlib.lines.Line2D at 0x7f92ec4f3320>,\n",
       " <matplotlib.lines.Line2D at 0x7f92ec4f3518>,\n",
       " <matplotlib.lines.Line2D at 0x7f92ec4f3710>,\n",
       " <matplotlib.lines.Line2D at 0x7f92ec4f3908>,\n",
       " <matplotlib.lines.Line2D at 0x7f92ec4f3b00>,\n",
       " <matplotlib.lines.Line2D at 0x7f92ec4f3cf8>,\n",
       " <matplotlib.lines.Line2D at 0x7f92ec4f3ef0>,\n",
       " <matplotlib.lines.Line2D at 0x7f92ec522128>,\n",
       " <matplotlib.lines.Line2D at 0x7f92ec522320>,\n",
       " <matplotlib.lines.Line2D at 0x7f92ec522518>,\n",
       " <matplotlib.lines.Line2D at 0x7f92ec522710>,\n",
       " <matplotlib.lines.Line2D at 0x7f92ec522908>,\n",
       " <matplotlib.lines.Line2D at 0x7f92ec522b00>,\n",
       " <matplotlib.lines.Line2D at 0x7f92ec522cf8>,\n",
       " <matplotlib.lines.Line2D at 0x7f92ec522ef0>,\n",
       " <matplotlib.lines.Line2D at 0x7f92ec526128>,\n",
       " <matplotlib.lines.Line2D at 0x7f92ec526320>,\n",
       " <matplotlib.lines.Line2D at 0x7f92ec526518>,\n",
       " <matplotlib.lines.Line2D at 0x7f92ec526710>,\n",
       " <matplotlib.lines.Line2D at 0x7f92ec526908>,\n",
       " <matplotlib.lines.Line2D at 0x7f92ec526b00>,\n",
       " <matplotlib.lines.Line2D at 0x7f92ec526cf8>,\n",
       " <matplotlib.lines.Line2D at 0x7f92ec526ef0>,\n",
       " <matplotlib.lines.Line2D at 0x7f92ec51c128>,\n",
       " <matplotlib.lines.Line2D at 0x7f92ec51c320>,\n",
       " <matplotlib.lines.Line2D at 0x7f92ec51c518>,\n",
       " <matplotlib.lines.Line2D at 0x7f92ec51c710>,\n",
       " <matplotlib.lines.Line2D at 0x7f92ec51c908>,\n",
       " <matplotlib.lines.Line2D at 0x7f92ec51cb00>,\n",
       " <matplotlib.lines.Line2D at 0x7f92ec51ccf8>,\n",
       " <matplotlib.lines.Line2D at 0x7f92ec51cef0>,\n",
       " <matplotlib.lines.Line2D at 0x7f92ec51e128>,\n",
       " <matplotlib.lines.Line2D at 0x7f92ec51e320>,\n",
       " <matplotlib.lines.Line2D at 0x7f92ec51e518>,\n",
       " <matplotlib.lines.Line2D at 0x7f92ec51e710>,\n",
       " <matplotlib.lines.Line2D at 0x7f92ec51e908>,\n",
       " <matplotlib.lines.Line2D at 0x7f92ec51eb00>,\n",
       " <matplotlib.lines.Line2D at 0x7f92ec51ecf8>,\n",
       " <matplotlib.lines.Line2D at 0x7f92ec51eef0>,\n",
       " <matplotlib.lines.Line2D at 0x7f92ec521128>,\n",
       " <matplotlib.lines.Line2D at 0x7f92ec521320>,\n",
       " <matplotlib.lines.Line2D at 0x7f92ec521518>,\n",
       " <matplotlib.lines.Line2D at 0x7f92ec521710>,\n",
       " <matplotlib.lines.Line2D at 0x7f92ec521908>,\n",
       " <matplotlib.lines.Line2D at 0x7f92ec521b00>,\n",
       " <matplotlib.lines.Line2D at 0x7f92ec521cf8>,\n",
       " <matplotlib.lines.Line2D at 0x7f92ec521ef0>,\n",
       " <matplotlib.lines.Line2D at 0x7f92ec4ff128>,\n",
       " <matplotlib.lines.Line2D at 0x7f92ec4ff320>,\n",
       " <matplotlib.lines.Line2D at 0x7f92ec4ff518>,\n",
       " <matplotlib.lines.Line2D at 0x7f92ec4ff710>,\n",
       " <matplotlib.lines.Line2D at 0x7f92ec4ff908>,\n",
       " <matplotlib.lines.Line2D at 0x7f92ec4ffb00>,\n",
       " <matplotlib.lines.Line2D at 0x7f92ec4ffcf8>,\n",
       " <matplotlib.lines.Line2D at 0x7f92ec4ffef0>,\n",
       " <matplotlib.lines.Line2D at 0x7f92ec451128>,\n",
       " <matplotlib.lines.Line2D at 0x7f92ec451320>,\n",
       " <matplotlib.lines.Line2D at 0x7f92ec451518>,\n",
       " <matplotlib.lines.Line2D at 0x7f92ec451710>,\n",
       " <matplotlib.lines.Line2D at 0x7f92ec451908>,\n",
       " <matplotlib.lines.Line2D at 0x7f92ec451b00>,\n",
       " <matplotlib.lines.Line2D at 0x7f92ec451cf8>,\n",
       " <matplotlib.lines.Line2D at 0x7f92ec451ef0>,\n",
       " <matplotlib.lines.Line2D at 0x7f92ec433128>,\n",
       " <matplotlib.lines.Line2D at 0x7f92ec433320>,\n",
       " <matplotlib.lines.Line2D at 0x7f92ec433518>,\n",
       " <matplotlib.lines.Line2D at 0x7f92ec433710>,\n",
       " <matplotlib.lines.Line2D at 0x7f92ec433908>,\n",
       " <matplotlib.lines.Line2D at 0x7f92ec433b00>,\n",
       " <matplotlib.lines.Line2D at 0x7f92ec433cf8>,\n",
       " <matplotlib.lines.Line2D at 0x7f92ec433ef0>,\n",
       " <matplotlib.lines.Line2D at 0x7f92ec457128>,\n",
       " <matplotlib.lines.Line2D at 0x7f92ec457320>,\n",
       " <matplotlib.lines.Line2D at 0x7f92ec457518>,\n",
       " <matplotlib.lines.Line2D at 0x7f92ec457710>,\n",
       " <matplotlib.lines.Line2D at 0x7f92ec457908>,\n",
       " <matplotlib.lines.Line2D at 0x7f92ec457b00>,\n",
       " <matplotlib.lines.Line2D at 0x7f92ec457cf8>,\n",
       " <matplotlib.lines.Line2D at 0x7f92ec457ef0>,\n",
       " <matplotlib.lines.Line2D at 0x7f92ec45c128>,\n",
       " <matplotlib.lines.Line2D at 0x7f92ec45c320>,\n",
       " <matplotlib.lines.Line2D at 0x7f92ec45c518>,\n",
       " <matplotlib.lines.Line2D at 0x7f92ec45c710>,\n",
       " <matplotlib.lines.Line2D at 0x7f92ec45c908>,\n",
       " <matplotlib.lines.Line2D at 0x7f92ec45cb00>,\n",
       " <matplotlib.lines.Line2D at 0x7f92ec45ccf8>,\n",
       " <matplotlib.lines.Line2D at 0x7f92ec45cef0>,\n",
       " <matplotlib.lines.Line2D at 0x7f92ec438128>,\n",
       " <matplotlib.lines.Line2D at 0x7f92ec438320>,\n",
       " <matplotlib.lines.Line2D at 0x7f92ec438518>,\n",
       " <matplotlib.lines.Line2D at 0x7f92ec438710>,\n",
       " <matplotlib.lines.Line2D at 0x7f92ec438908>,\n",
       " <matplotlib.lines.Line2D at 0x7f92ec438b00>,\n",
       " <matplotlib.lines.Line2D at 0x7f92ec438cf8>,\n",
       " <matplotlib.lines.Line2D at 0x7f92ec438ef0>,\n",
       " <matplotlib.lines.Line2D at 0x7f92ec45f128>,\n",
       " <matplotlib.lines.Line2D at 0x7f92ec45f320>,\n",
       " <matplotlib.lines.Line2D at 0x7f92ec45f518>,\n",
       " <matplotlib.lines.Line2D at 0x7f92ec45f710>,\n",
       " <matplotlib.lines.Line2D at 0x7f92ec45f908>,\n",
       " <matplotlib.lines.Line2D at 0x7f92ec45fb00>,\n",
       " <matplotlib.lines.Line2D at 0x7f92ec45fcf8>,\n",
       " <matplotlib.lines.Line2D at 0x7f92ec45fef0>,\n",
       " <matplotlib.lines.Line2D at 0x7f92ec443128>,\n",
       " <matplotlib.lines.Line2D at 0x7f92ec443320>,\n",
       " <matplotlib.lines.Line2D at 0x7f92ec443518>,\n",
       " <matplotlib.lines.Line2D at 0x7f92ec443710>,\n",
       " <matplotlib.lines.Line2D at 0x7f92ec443908>,\n",
       " <matplotlib.lines.Line2D at 0x7f92ec443b00>,\n",
       " <matplotlib.lines.Line2D at 0x7f92ec443cf8>,\n",
       " <matplotlib.lines.Line2D at 0x7f92ec443ef0>,\n",
       " <matplotlib.lines.Line2D at 0x7f92ec461128>,\n",
       " <matplotlib.lines.Line2D at 0x7f92ec461320>,\n",
       " <matplotlib.lines.Line2D at 0x7f92ec461518>,\n",
       " <matplotlib.lines.Line2D at 0x7f92ec461710>,\n",
       " <matplotlib.lines.Line2D at 0x7f92ec461908>,\n",
       " <matplotlib.lines.Line2D at 0x7f92ec461b00>,\n",
       " <matplotlib.lines.Line2D at 0x7f92ec461cf8>,\n",
       " <matplotlib.lines.Line2D at 0x7f92ec461ef0>,\n",
       " <matplotlib.lines.Line2D at 0x7f92ec44c128>,\n",
       " <matplotlib.lines.Line2D at 0x7f92ec44c320>,\n",
       " <matplotlib.lines.Line2D at 0x7f92ec44c518>,\n",
       " <matplotlib.lines.Line2D at 0x7f92ec44c710>,\n",
       " <matplotlib.lines.Line2D at 0x7f92ec44c908>,\n",
       " <matplotlib.lines.Line2D at 0x7f92ec44cb00>,\n",
       " <matplotlib.lines.Line2D at 0x7f92ec44ccf8>,\n",
       " <matplotlib.lines.Line2D at 0x7f92ec44cef0>,\n",
       " <matplotlib.lines.Line2D at 0x7f92ec464128>,\n",
       " <matplotlib.lines.Line2D at 0x7f92ec464320>,\n",
       " <matplotlib.lines.Line2D at 0x7f92ec464518>,\n",
       " <matplotlib.lines.Line2D at 0x7f92ec464710>,\n",
       " <matplotlib.lines.Line2D at 0x7f92ec464908>,\n",
       " <matplotlib.lines.Line2D at 0x7f92ec464b00>,\n",
       " <matplotlib.lines.Line2D at 0x7f92ec464cf8>,\n",
       " <matplotlib.lines.Line2D at 0x7f92ec464ef0>,\n",
       " <matplotlib.lines.Line2D at 0x7f92ec46b128>,\n",
       " <matplotlib.lines.Line2D at 0x7f92ec46b320>,\n",
       " <matplotlib.lines.Line2D at 0x7f92ec46b518>,\n",
       " <matplotlib.lines.Line2D at 0x7f92ec46b710>,\n",
       " <matplotlib.lines.Line2D at 0x7f92ec46b908>,\n",
       " <matplotlib.lines.Line2D at 0x7f92ec46bb00>,\n",
       " <matplotlib.lines.Line2D at 0x7f92ec46bcf8>,\n",
       " <matplotlib.lines.Line2D at 0x7f92ec46bef0>,\n",
       " <matplotlib.lines.Line2D at 0x7f92ec7e2128>,\n",
       " <matplotlib.lines.Line2D at 0x7f92ec7e2320>,\n",
       " <matplotlib.lines.Line2D at 0x7f92ec7e2518>,\n",
       " <matplotlib.lines.Line2D at 0x7f92ec7e2710>,\n",
       " <matplotlib.lines.Line2D at 0x7f92ec7e2908>,\n",
       " <matplotlib.lines.Line2D at 0x7f92ec7e2b00>,\n",
       " <matplotlib.lines.Line2D at 0x7f92ec7e2cf8>,\n",
       " <matplotlib.lines.Line2D at 0x7f92ec7e2ef0>,\n",
       " <matplotlib.lines.Line2D at 0x7f92ec7ed128>,\n",
       " <matplotlib.lines.Line2D at 0x7f92ec7ed320>,\n",
       " <matplotlib.lines.Line2D at 0x7f92ec7ed518>,\n",
       " <matplotlib.lines.Line2D at 0x7f92ec7ed710>,\n",
       " <matplotlib.lines.Line2D at 0x7f92ec7ed908>,\n",
       " <matplotlib.lines.Line2D at 0x7f92ec7edb00>,\n",
       " <matplotlib.lines.Line2D at 0x7f92ec7edcf8>,\n",
       " <matplotlib.lines.Line2D at 0x7f92ec7edef0>,\n",
       " <matplotlib.lines.Line2D at 0x7f92ec7dd128>,\n",
       " <matplotlib.lines.Line2D at 0x7f92ec7dd320>,\n",
       " <matplotlib.lines.Line2D at 0x7f92ec7dd518>,\n",
       " <matplotlib.lines.Line2D at 0x7f92ec7dd710>,\n",
       " <matplotlib.lines.Line2D at 0x7f92ec7dd908>,\n",
       " <matplotlib.lines.Line2D at 0x7f92ec7ddb00>,\n",
       " <matplotlib.lines.Line2D at 0x7f92ec7ddcf8>,\n",
       " <matplotlib.lines.Line2D at 0x7f92ec7ddef0>,\n",
       " <matplotlib.lines.Line2D at 0x7f92ec7d0128>,\n",
       " <matplotlib.lines.Line2D at 0x7f92ec7d0320>,\n",
       " <matplotlib.lines.Line2D at 0x7f92ec7d0518>,\n",
       " <matplotlib.lines.Line2D at 0x7f92ec7d0710>,\n",
       " <matplotlib.lines.Line2D at 0x7f92ec7d0908>,\n",
       " <matplotlib.lines.Line2D at 0x7f92ec7d0b00>,\n",
       " <matplotlib.lines.Line2D at 0x7f92ec7d0cf8>,\n",
       " <matplotlib.lines.Line2D at 0x7f92ec7d0ef0>,\n",
       " <matplotlib.lines.Line2D at 0x7f92ec7b0128>,\n",
       " <matplotlib.lines.Line2D at 0x7f92ec7b0320>,\n",
       " <matplotlib.lines.Line2D at 0x7f92ec7b0518>,\n",
       " <matplotlib.lines.Line2D at 0x7f92ec7b0710>,\n",
       " <matplotlib.lines.Line2D at 0x7f92ec7b0908>,\n",
       " <matplotlib.lines.Line2D at 0x7f92ec7b0b00>,\n",
       " <matplotlib.lines.Line2D at 0x7f92ec7b0cf8>,\n",
       " <matplotlib.lines.Line2D at 0x7f92ec7b0ef0>,\n",
       " <matplotlib.lines.Line2D at 0x7f92ec7cd128>,\n",
       " <matplotlib.lines.Line2D at 0x7f92ec7cd320>,\n",
       " <matplotlib.lines.Line2D at 0x7f92ec7cd518>,\n",
       " <matplotlib.lines.Line2D at 0x7f92ec7cd710>,\n",
       " <matplotlib.lines.Line2D at 0x7f92ec7cd908>,\n",
       " <matplotlib.lines.Line2D at 0x7f92ec7cdb00>,\n",
       " <matplotlib.lines.Line2D at 0x7f92ec7cdcf8>,\n",
       " <matplotlib.lines.Line2D at 0x7f92ec7cdef0>,\n",
       " <matplotlib.lines.Line2D at 0x7f92ec7e7128>,\n",
       " <matplotlib.lines.Line2D at 0x7f92ec7e7320>,\n",
       " <matplotlib.lines.Line2D at 0x7f92ec7e7518>,\n",
       " <matplotlib.lines.Line2D at 0x7f92ec7e7710>,\n",
       " <matplotlib.lines.Line2D at 0x7f92ec7e7908>,\n",
       " <matplotlib.lines.Line2D at 0x7f92ec7e7b00>,\n",
       " <matplotlib.lines.Line2D at 0x7f92ec7e7cf8>,\n",
       " <matplotlib.lines.Line2D at 0x7f92ec7e7ef0>,\n",
       " <matplotlib.lines.Line2D at 0x7f92ec7c5128>,\n",
       " <matplotlib.lines.Line2D at 0x7f92ec7c5320>,\n",
       " <matplotlib.lines.Line2D at 0x7f92ec7c5518>,\n",
       " <matplotlib.lines.Line2D at 0x7f92ec7c5710>,\n",
       " <matplotlib.lines.Line2D at 0x7f92ec7c5908>,\n",
       " <matplotlib.lines.Line2D at 0x7f92ec7c5b00>,\n",
       " <matplotlib.lines.Line2D at 0x7f92ec7c5cf8>,\n",
       " <matplotlib.lines.Line2D at 0x7f92ec7c5ef0>,\n",
       " <matplotlib.lines.Line2D at 0x7f92ec7d4128>,\n",
       " <matplotlib.lines.Line2D at 0x7f92ec7d4320>,\n",
       " <matplotlib.lines.Line2D at 0x7f92ec7d4518>,\n",
       " <matplotlib.lines.Line2D at 0x7f92ec7d4710>,\n",
       " <matplotlib.lines.Line2D at 0x7f92ec7d4908>,\n",
       " <matplotlib.lines.Line2D at 0x7f92ec7d4b00>,\n",
       " <matplotlib.lines.Line2D at 0x7f92ec7d4cf8>,\n",
       " <matplotlib.lines.Line2D at 0x7f92ec7d4ef0>,\n",
       " <matplotlib.lines.Line2D at 0x7f92ec7c2128>,\n",
       " <matplotlib.lines.Line2D at 0x7f92ec7c2320>,\n",
       " <matplotlib.lines.Line2D at 0x7f92ec7c2518>,\n",
       " <matplotlib.lines.Line2D at 0x7f92ec7c2710>,\n",
       " <matplotlib.lines.Line2D at 0x7f92ec7c2908>,\n",
       " <matplotlib.lines.Line2D at 0x7f92ec7c2b00>,\n",
       " <matplotlib.lines.Line2D at 0x7f92ec7c2cf8>,\n",
       " <matplotlib.lines.Line2D at 0x7f92ec7c2ef0>,\n",
       " <matplotlib.lines.Line2D at 0x7f92ec7d9128>,\n",
       " <matplotlib.lines.Line2D at 0x7f92ec7d9320>,\n",
       " <matplotlib.lines.Line2D at 0x7f92ec7d9518>,\n",
       " <matplotlib.lines.Line2D at 0x7f92ec7d9710>,\n",
       " <matplotlib.lines.Line2D at 0x7f92ec7d9908>,\n",
       " <matplotlib.lines.Line2D at 0x7f92ec7d9b00>,\n",
       " <matplotlib.lines.Line2D at 0x7f92ec7d9cf8>,\n",
       " <matplotlib.lines.Line2D at 0x7f92ec7d9ef0>,\n",
       " <matplotlib.lines.Line2D at 0x7f92ec588128>,\n",
       " <matplotlib.lines.Line2D at 0x7f92ec588320>,\n",
       " <matplotlib.lines.Line2D at 0x7f92ec588518>,\n",
       " <matplotlib.lines.Line2D at 0x7f92ec588710>,\n",
       " <matplotlib.lines.Line2D at 0x7f92ec588908>,\n",
       " <matplotlib.lines.Line2D at 0x7f92ec588b00>]"
      ]
     },
     "execution_count": 32,
     "metadata": {},
     "output_type": "execute_result"
    }
   ],
   "source": [
    "plt.plot(in_data_avg)"
   ]
  },
  {
   "cell_type": "code",
   "execution_count": 40,
   "metadata": {},
   "outputs": [
    {
     "data": {
      "text/plain": [
       "<matplotlib.image.AxesImage at 0x7f92ec0ebef0>"
      ]
     },
     "execution_count": 40,
     "metadata": {},
     "output_type": "execute_result"
    }
   ],
   "source": [
    "plt.imshow(in_data_avg)"
   ]
  },
  {
   "cell_type": "code",
   "execution_count": 41,
   "metadata": {},
   "outputs": [
    {
     "data": {
      "image/png": "[encoded data removed]",
      "text/plain": [
       "<matplotlib.figure.Figure at 0x7f92d4e11908>"
      ]
     },
     "metadata": {},
     "output_type": "display_data"
    }
   ],
   "source": [
    "plt.show()"
   ]
  },
  {
   "cell_type": "code",
   "execution_count": 35,
   "metadata": {},
   "outputs": [
    {
     "ename": "TypeError",
     "evalue": "scatter() missing 1 required positional argument: 'y'",
     "output_type": "error",
     "traceback": [
      "\u001b[0;31m---------------------------------------------------------------------------\u001b[0m",
      "\u001b[0;31mTypeError\u001b[0m                                 Traceback (most recent call last)",
      "\u001b[0;32m<ipython-input-35-898cc06d82cc>\u001b[0m in \u001b[0;36m<module>\u001b[0;34m()\u001b[0m\n\u001b[0;32m----> 1\u001b[0;31m \u001b[0mplt\u001b[0m\u001b[0;34m.\u001b[0m\u001b[0mscatter\u001b[0m\u001b[0;34m(\u001b[0m\u001b[0minputs\u001b[0m\u001b[0;34m)\u001b[0m\u001b[0;34m\u001b[0m\u001b[0m\n\u001b[0m",
      "\u001b[0;31mTypeError\u001b[0m: scatter() missing 1 required positional argument: 'y'"
     ]
    }
   ],
   "source": [
    "plt.scatter(inputs)"
   ]
  },
  {
   "cell_type": "code",
   "execution_count": 42,
   "metadata": {
    "collapsed": true
   },
   "outputs": [],
   "source": [
    "plt.close()"
   ]
  },
  {
   "cell_type": "code",
   "execution_count": 37,
   "metadata": {},
   "outputs": [
    {
     "data": {
      "text/plain": [
       "Variable containing:\n",
       "( 0 , 0 ,.,.) = \n",
       "   -0.0000   -0.0000    0.0000  ...    -0.0000   -0.0000   -0.0001\n",
       "   -0.0000   -0.0000    0.0000  ...    -0.0000   -0.0000   -0.0001\n",
       "   -0.0000   -0.0000    0.0000  ...    -0.0000   -0.0000   -0.0001\n",
       "              ...                ⋱                ...             \n",
       "    0.0000    0.0000    0.0000  ...    -0.0015   -0.0016   -0.0005\n",
       "    0.0000    0.0000    0.0000  ...    -0.0010   -0.0011   -0.0003\n",
       "    0.0000    0.0000    0.0000  ...    -0.0006   -0.0006   -0.0002\n",
       "\n",
       "( 0 , 1 ,.,.) = \n",
       "  -11.4968  -11.6935  -16.2736  ...   -12.3924  -11.3546   -9.2380\n",
       "  -10.9247  -11.8120  -16.0689  ...   -12.3173  -11.2108   -9.3384\n",
       "  -13.8128  -14.8385  -19.5957  ...   -11.9522  -11.1532   -9.1427\n",
       "              ...                ⋱                ...             \n",
       " -190.6380 -156.6431 -146.9271  ...    -6.5011   -6.4165   -7.6353\n",
       " -194.1123 -161.5599 -150.3468  ...    -6.8927   -6.8494   -7.9792\n",
       " -186.8277 -154.5044 -142.3669  ...    -7.3864   -7.3529   -8.5361\n",
       "[torch.cuda.FloatTensor of size 1x2x512x512 (GPU 0)]"
      ]
     },
     "execution_count": 37,
     "metadata": {},
     "output_type": "execute_result"
    }
   ],
   "source": [
    "outputs"
   ]
  },
  {
   "cell_type": "code",
   "execution_count": 43,
   "metadata": {},
   "outputs": [
    {
     "data": {
      "text/plain": [
       "<matplotlib.figure.Figure at 0x7f92d4dad978>"
      ]
     },
     "execution_count": 43,
     "metadata": {},
     "output_type": "execute_result"
    }
   ],
   "source": [
    "plt.figure(1)"
   ]
  },
  {
   "cell_type": "code",
   "execution_count": 44,
   "metadata": {},
   "outputs": [
    {
     "data": {
      "text/plain": [
       "<matplotlib.axes._subplots.AxesSubplot at 0x7f92d4df9748>"
      ]
     },
     "execution_count": 44,
     "metadata": {},
     "output_type": "execute_result"
    }
   ],
   "source": [
    "plt.subplot(111)"
   ]
  },
  {
   "cell_type": "code",
   "execution_count": 45,
   "metadata": {
    "collapsed": true
   },
   "outputs": [],
   "source": [
    "plt.close()"
   ]
  },
  {
   "cell_type": "code",
   "execution_count": 46,
   "metadata": {},
   "outputs": [
    {
     "data": {
      "text/plain": [
       "<matplotlib.figure.Figure at 0x7f92d4ddb710>"
      ]
     },
     "execution_count": 46,
     "metadata": {},
     "output_type": "execute_result"
    }
   ],
   "source": [
    "plt.figure()"
   ]
  },
  {
   "cell_type": "code",
   "execution_count": 47,
   "metadata": {
    "collapsed": true
   },
   "outputs": [],
   "source": [
    "avg = plt.subplot(111)"
   ]
  },
  {
   "cell_type": "code",
   "execution_count": 59,
   "metadata": {
    "collapsed": true
   },
   "outputs": [],
   "source": [
    "plt.close()"
   ]
  },
  {
   "cell_type": "code",
   "execution_count": 114,
   "metadata": {},
   "outputs": [
    {
     "data": {
      "image/png": "[encoded data removed]",
      "text/plain": [
       "<matplotlib.figure.Figure at 0x7f92d42e0860>"
      ]
     },
     "metadata": {},
     "output_type": "display_data"
    },
    {
     "data": {
      "image/png": "[encoded data removed]",
      "text/plain": [
       "<matplotlib.figure.Figure at 0x7f92d4127550>"
      ]
     },
     "metadata": {},
     "output_type": "display_data"
    }
   ],
   "source": [
    "plt.figure()\n",
    "\n",
    "plt.subplots(figsize=(12,12))\n",
    "\n",
    "avg = plt.subplot(221)\n",
    "corr = plt.subplot(222)\n",
    "tgt = plt.subplot(223)\n",
    "out = plt.subplot(224)\n",
    "\n",
    "\n",
    "avg.title.set_text(\"Average Image\")\n",
    "corr.title.set_text(\"Correlation Image\")\n",
    "tgt.title.set_text(\"Target Image\")\n",
    "out.title.set_text(\"Output Image\")\n",
    "\n",
    "avg.imshow(in_data_avg)\n",
    "corr.imshow(in_data_corr)\n",
    "tgt.imshow(tgt_data)\n",
    "out.imshow(pos.squeeze())\n",
    "\n",
    "\n",
    "\n",
    "plt.tight_layout()\n",
    "\n",
    "plt.savefig('result.png')"
   ]
  },
  {
   "cell_type": "code",
   "execution_count": 63,
   "metadata": {},
   "outputs": [
    {
     "data": {
      "text/plain": [
       "array([[ 0.16316062,  0.16635096,  0.17639376, ...,  0.15360597,\n",
       "         0.14382622,  0.14283477],\n",
       "       [ 0.15378946,  0.16316502,  0.17489046, ...,  0.14080514,\n",
       "         0.14458518,  0.13715032],\n",
       "       [ 0.15859944,  0.16304576,  0.16409355, ...,  0.16956688,\n",
       "         0.15097506,  0.15197003],\n",
       "       ..., \n",
       "       [ 0.16679515,  0.17097092,  0.17198054, ...,  0.15644141,\n",
       "         0.1589486 ,  0.15108033],\n",
       "       [ 0.16733174,  0.16876887,  0.18233101, ...,  0.15569478,\n",
       "         0.15361907,  0.15164891],\n",
       "       [ 0.16717061,  0.17001158,  0.17098331, ...,  0.1542408 ,\n",
       "         0.15545598,  0.15299416]], dtype=float32)"
      ]
     },
     "execution_count": 63,
     "metadata": {},
     "output_type": "execute_result"
    }
   ],
   "source": [
    "in_data_avg"
   ]
  },
  {
   "cell_type": "code",
   "execution_count": 64,
   "metadata": {},
   "outputs": [
    {
     "data": {
      "text/plain": [
       "array([[[ 0.16316062,  0.16635096,  0.17639376, ...,  0.15360597,\n",
       "          0.14382622,  0.14283477],\n",
       "        [ 0.15378946,  0.16316502,  0.17489046, ...,  0.14080514,\n",
       "          0.14458518,  0.13715032],\n",
       "        [ 0.15859944,  0.16304576,  0.16409355, ...,  0.16956688,\n",
       "          0.15097506,  0.15197003],\n",
       "        ..., \n",
       "        [ 0.16679515,  0.17097092,  0.17198054, ...,  0.15644141,\n",
       "          0.1589486 ,  0.15108033],\n",
       "        [ 0.16733174,  0.16876887,  0.18233101, ...,  0.15569478,\n",
       "          0.15361907,  0.15164891],\n",
       "        [ 0.16717061,  0.17001158,  0.17098331, ...,  0.1542408 ,\n",
       "          0.15545598,  0.15299416]],\n",
       "\n",
       "       [[ 0.47826493,  0.42326367,  0.450001  , ...,  0.45447284,\n",
       "          0.42492807,  0.44899014],\n",
       "        [ 0.46386907,  0.34324229,  0.30350161, ...,  0.34880888,\n",
       "          0.31208694,  0.37008175],\n",
       "        [ 0.56308478,  0.41729066,  0.43107864, ...,  0.33095342,\n",
       "          0.32663727,  0.45566463],\n",
       "        ..., \n",
       "        [ 0.47259474,  0.21403037,  0.14805916, ...,  0.17454506,\n",
       "          0.18640901,  0.37621588],\n",
       "        [ 0.49490204,  0.34776437,  0.2687442 , ...,  0.33502641,\n",
       "          0.3698715 ,  0.44495702],\n",
       "        [ 0.55422443,  0.48249346,  0.46206778, ...,  0.53268647,\n",
       "          0.54525238,  0.56019479]]], dtype=float32)"
      ]
     },
     "execution_count": 64,
     "metadata": {},
     "output_type": "execute_result"
    }
   ],
   "source": [
    "in_data"
   ]
  },
  {
   "cell_type": "code",
   "execution_count": 65,
   "metadata": {},
   "outputs": [
    {
     "data": {
      "text/plain": [
       "array([[ 0.47826493,  0.42326367,  0.450001  , ...,  0.45447284,\n",
       "         0.42492807,  0.44899014],\n",
       "       [ 0.46386907,  0.34324229,  0.30350161, ...,  0.34880888,\n",
       "         0.31208694,  0.37008175],\n",
       "       [ 0.56308478,  0.41729066,  0.43107864, ...,  0.33095342,\n",
       "         0.32663727,  0.45566463],\n",
       "       ..., \n",
       "       [ 0.47259474,  0.21403037,  0.14805916, ...,  0.17454506,\n",
       "         0.18640901,  0.37621588],\n",
       "       [ 0.49490204,  0.34776437,  0.2687442 , ...,  0.33502641,\n",
       "         0.3698715 ,  0.44495702],\n",
       "       [ 0.55422443,  0.48249346,  0.46206778, ...,  0.53268647,\n",
       "         0.54525238,  0.56019479]], dtype=float32)"
      ]
     },
     "execution_count": 65,
     "metadata": {},
     "output_type": "execute_result"
    }
   ],
   "source": [
    "in_data_corr"
   ]
  },
  {
   "cell_type": "code",
   "execution_count": 66,
   "metadata": {},
   "outputs": [
    {
     "data": {
      "text/plain": [
       "<matplotlib.image.AxesImage at 0x7f92cad06240>"
      ]
     },
     "execution_count": 66,
     "metadata": {},
     "output_type": "execute_result"
    }
   ],
   "source": [
    "plt.imshow(in_data_corr)"
   ]
  },
  {
   "cell_type": "code",
   "execution_count": 67,
   "metadata": {},
   "outputs": [
    {
     "data": {
      "image/png": "[encoded data removed]",
      "text/plain": [
       "<matplotlib.figure.Figure at 0x7f92d41718d0>"
      ]
     },
     "metadata": {},
     "output_type": "display_data"
    }
   ],
   "source": [
    "plt.show()"
   ]
  },
  {
   "cell_type": "code",
   "execution_count": 68,
   "metadata": {},
   "outputs": [
    {
     "data": {
      "text/plain": [
       "Variable containing:\n",
       "( 0 ,.,.) = \n",
       "   0   0   0  ...    0   0   0\n",
       "   0   0   0  ...    0   0   0\n",
       "   0   0   0  ...    0   0   0\n",
       "     ...       ⋱       ...    \n",
       "   0   0   0  ...    0   0   0\n",
       "   0   0   0  ...    0   0   0\n",
       "   0   0   0  ...    0   0   0\n",
       "[torch.cuda.LongTensor of size 1x512x512 (GPU 0)]"
      ]
     },
     "execution_count": 68,
     "metadata": {},
     "output_type": "execute_result"
    }
   ],
   "source": [
    "targets"
   ]
  },
  {
   "cell_type": "code",
   "execution_count": 71,
   "metadata": {},
   "outputs": [
    {
     "data": {
      "text/plain": [
       "(1, 512, 512)"
      ]
     },
     "execution_count": 71,
     "metadata": {},
     "output_type": "execute_result"
    }
   ],
   "source": [
    "targets.data.cpu().numpy().shape"
   ]
  },
  {
   "cell_type": "code",
   "execution_count": 76,
   "metadata": {
    "collapsed": true
   },
   "outputs": [],
   "source": [
    "tgt_data = targets.data.cpu().numpy()"
   ]
  },
  {
   "cell_type": "code",
   "execution_count": 77,
   "metadata": {},
   "outputs": [
    {
     "data": {
      "text/plain": [
       "array([[[0, 0, 0, ..., 0, 0, 0],\n",
       "        [0, 0, 0, ..., 0, 0, 0],\n",
       "        [0, 0, 0, ..., 0, 0, 0],\n",
       "        ..., \n",
       "        [0, 0, 0, ..., 0, 0, 0],\n",
       "        [0, 0, 0, ..., 0, 0, 0],\n",
       "        [0, 0, 0, ..., 0, 0, 0]]])"
      ]
     },
     "execution_count": 77,
     "metadata": {},
     "output_type": "execute_result"
    }
   ],
   "source": [
    "tgt_data"
   ]
  },
  {
   "cell_type": "code",
   "execution_count": 80,
   "metadata": {},
   "outputs": [
    {
     "data": {
      "text/plain": [
       "(512, 512)"
      ]
     },
     "execution_count": 80,
     "metadata": {},
     "output_type": "execute_result"
    }
   ],
   "source": [
    "tgt_data[0].shape"
   ]
  },
  {
   "cell_type": "code",
   "execution_count": 81,
   "metadata": {
    "collapsed": true
   },
   "outputs": [],
   "source": [
    "tgt_data = tgt_data[0]"
   ]
  },
  {
   "cell_type": "code",
   "execution_count": 82,
   "metadata": {},
   "outputs": [
    {
     "data": {
      "image/png": "[encoded data removed]",
      "text/plain": [
       "<matplotlib.figure.Figure at 0x7f92cafa27b8>"
      ]
     },
     "metadata": {},
     "output_type": "display_data"
    }
   ],
   "source": [
    "plt.imshow(tgt_data)\n",
    "plt.show()"
   ]
  },
  {
   "cell_type": "code",
   "execution_count": 83,
   "metadata": {},
   "outputs": [
    {
     "ename": "NameError",
     "evalue": "name 'output' is not defined",
     "output_type": "error",
     "traceback": [
      "\u001b[0;31m---------------------------------------------------------------------------\u001b[0m",
      "\u001b[0;31mNameError\u001b[0m                                 Traceback (most recent call last)",
      "\u001b[0;32m<ipython-input-83-838337db0b65>\u001b[0m in \u001b[0;36m<module>\u001b[0;34m()\u001b[0m\n\u001b[0;32m----> 1\u001b[0;31m \u001b[0moutput\u001b[0m\u001b[0;34m\u001b[0m\u001b[0m\n\u001b[0m",
      "\u001b[0;31mNameError\u001b[0m: name 'output' is not defined"
     ]
    }
   ],
   "source": [
    "output"
   ]
  },
  {
   "cell_type": "code",
   "execution_count": 84,
   "metadata": {},
   "outputs": [
    {
     "data": {
      "text/plain": [
       "Variable containing:\n",
       "( 0 , 0 ,.,.) = \n",
       "   -0.0000   -0.0000    0.0000  ...    -0.0000   -0.0000   -0.0001\n",
       "   -0.0000   -0.0000    0.0000  ...    -0.0000   -0.0000   -0.0001\n",
       "   -0.0000   -0.0000    0.0000  ...    -0.0000   -0.0000   -0.0001\n",
       "              ...                ⋱                ...             \n",
       "    0.0000    0.0000    0.0000  ...    -0.0015   -0.0016   -0.0005\n",
       "    0.0000    0.0000    0.0000  ...    -0.0010   -0.0011   -0.0003\n",
       "    0.0000    0.0000    0.0000  ...    -0.0006   -0.0006   -0.0002\n",
       "\n",
       "( 0 , 1 ,.,.) = \n",
       "  -11.4968  -11.6935  -16.2736  ...   -12.3924  -11.3546   -9.2380\n",
       "  -10.9247  -11.8120  -16.0689  ...   -12.3173  -11.2108   -9.3384\n",
       "  -13.8128  -14.8385  -19.5957  ...   -11.9522  -11.1532   -9.1427\n",
       "              ...                ⋱                ...             \n",
       " -190.6380 -156.6431 -146.9271  ...    -6.5011   -6.4165   -7.6353\n",
       " -194.1123 -161.5599 -150.3468  ...    -6.8927   -6.8494   -7.9792\n",
       " -186.8277 -154.5044 -142.3669  ...    -7.3864   -7.3529   -8.5361\n",
       "[torch.cuda.FloatTensor of size 1x2x512x512 (GPU 0)]"
      ]
     },
     "execution_count": 84,
     "metadata": {},
     "output_type": "execute_result"
    }
   ],
   "source": [
    "outputs"
   ]
  },
  {
   "cell_type": "code",
   "execution_count": 85,
   "metadata": {
    "collapsed": true
   },
   "outputs": [],
   "source": [
    "out_data = outputs.data.cpu().numpy()"
   ]
  },
  {
   "cell_type": "code",
   "execution_count": 86,
   "metadata": {},
   "outputs": [
    {
     "data": {
      "text/plain": [
       "array([[[[ -1.00135803e-05,  -8.10623169e-06,   0.00000000e+00, ...,\n",
       "           -4.29153442e-06,  -1.14440918e-05,  -9.72747803e-05],\n",
       "         [ -1.81198120e-05,  -7.15255737e-06,   0.00000000e+00, ...,\n",
       "           -4.29153442e-06,  -1.33514404e-05,  -8.77380371e-05],\n",
       "         [ -9.53674316e-07,  -4.76837158e-07,   0.00000000e+00, ...,\n",
       "           -6.19888306e-06,  -1.43051147e-05,  -1.06811523e-04],\n",
       "         ..., \n",
       "         [  0.00000000e+00,   0.00000000e+00,   0.00000000e+00, ...,\n",
       "           -1.50299072e-03,  -1.63555145e-03,  -4.83274460e-04],\n",
       "         [  0.00000000e+00,   0.00000000e+00,   0.00000000e+00, ...,\n",
       "           -1.01566315e-03,  -1.06072426e-03,  -3.42607498e-04],\n",
       "         [  0.00000000e+00,   0.00000000e+00,   0.00000000e+00, ...,\n",
       "           -6.19888306e-04,  -6.40869141e-04,  -1.96218491e-04]],\n",
       "\n",
       "        [[ -1.14968433e+01,  -1.16934996e+01,  -1.62736301e+01, ...,\n",
       "           -1.23923702e+01,  -1.13546486e+01,  -9.23801231e+00],\n",
       "         [ -1.09247103e+01,  -1.18120394e+01,  -1.60688515e+01, ...,\n",
       "           -1.23173370e+01,  -1.12108479e+01,  -9.33839130e+00],\n",
       "         [ -1.38127518e+01,  -1.48384857e+01,  -1.95957165e+01, ...,\n",
       "           -1.19521675e+01,  -1.11532078e+01,  -9.14266968e+00],\n",
       "         ..., \n",
       "         [ -1.90637955e+02,  -1.56643051e+02,  -1.46927124e+02, ...,\n",
       "           -6.50112152e+00,  -6.41654015e+00,  -7.63525772e+00],\n",
       "         [ -1.94112320e+02,  -1.61559906e+02,  -1.50346817e+02, ...,\n",
       "           -6.89267349e+00,  -6.84936190e+00,  -7.97922421e+00],\n",
       "         [ -1.86827667e+02,  -1.54504379e+02,  -1.42366882e+02, ...,\n",
       "           -7.38643980e+00,  -7.35290527e+00,  -8.53611374e+00]]]], dtype=float32)"
      ]
     },
     "execution_count": 86,
     "metadata": {},
     "output_type": "execute_result"
    }
   ],
   "source": [
    "out_data"
   ]
  },
  {
   "cell_type": "code",
   "execution_count": 87,
   "metadata": {},
   "outputs": [
    {
     "data": {
      "text/plain": [
       "(1, 2, 512, 512)"
      ]
     },
     "execution_count": 87,
     "metadata": {},
     "output_type": "execute_result"
    }
   ],
   "source": [
    "out_data.shape"
   ]
  },
  {
   "cell_type": "code",
   "execution_count": 91,
   "metadata": {},
   "outputs": [],
   "source": [
    "indicator  =  np.arange(out_data.shape[1]).reshape([1, -1, 1, 1])"
   ]
  },
  {
   "cell_type": "code",
   "execution_count": 93,
   "metadata": {},
   "outputs": [
    {
     "data": {
      "text/plain": [
       "array([[[ -11.49684334,  -11.69349957,  -16.27363014, ...,  -12.39237022,\n",
       "          -11.35464859,   -9.23801231],\n",
       "        [ -10.92471027,  -11.81203938,  -16.06885147, ...,  -12.31733704,\n",
       "          -11.21084785,   -9.3383913 ],\n",
       "        [ -13.81275177,  -14.83848572,  -19.59571648, ...,  -11.95216751,\n",
       "          -11.15320778,   -9.14266968],\n",
       "        ..., \n",
       "        [-190.63795471, -156.64305115, -146.92712402, ...,   -6.50112152,\n",
       "           -6.41654015,   -7.63525772],\n",
       "        [-194.11231995, -161.55990601, -150.34681702, ...,   -6.89267349,\n",
       "           -6.8493619 ,   -7.97922421],\n",
       "        [-186.82766724, -154.50437927, -142.36688232, ...,   -7.3864398 ,\n",
       "           -7.35290527,   -8.53611374]]])"
      ]
     },
     "execution_count": 93,
     "metadata": {},
     "output_type": "execute_result"
    }
   ],
   "source": [
    "np.sum(out_data * indicator, axis=1)"
   ]
  },
  {
   "cell_type": "code",
   "execution_count": 94,
   "metadata": {},
   "outputs": [
    {
     "data": {
      "text/plain": [
       "array([[[[ -1.00135803e-05,  -8.10623169e-06,   0.00000000e+00, ...,\n",
       "           -4.29153442e-06,  -1.14440918e-05,  -9.72747803e-05],\n",
       "         [ -1.81198120e-05,  -7.15255737e-06,   0.00000000e+00, ...,\n",
       "           -4.29153442e-06,  -1.33514404e-05,  -8.77380371e-05],\n",
       "         [ -9.53674316e-07,  -4.76837158e-07,   0.00000000e+00, ...,\n",
       "           -6.19888306e-06,  -1.43051147e-05,  -1.06811523e-04],\n",
       "         ..., \n",
       "         [  0.00000000e+00,   0.00000000e+00,   0.00000000e+00, ...,\n",
       "           -1.50299072e-03,  -1.63555145e-03,  -4.83274460e-04],\n",
       "         [  0.00000000e+00,   0.00000000e+00,   0.00000000e+00, ...,\n",
       "           -1.01566315e-03,  -1.06072426e-03,  -3.42607498e-04],\n",
       "         [  0.00000000e+00,   0.00000000e+00,   0.00000000e+00, ...,\n",
       "           -6.19888306e-04,  -6.40869141e-04,  -1.96218491e-04]],\n",
       "\n",
       "        [[ -1.14968433e+01,  -1.16934996e+01,  -1.62736301e+01, ...,\n",
       "           -1.23923702e+01,  -1.13546486e+01,  -9.23801231e+00],\n",
       "         [ -1.09247103e+01,  -1.18120394e+01,  -1.60688515e+01, ...,\n",
       "           -1.23173370e+01,  -1.12108479e+01,  -9.33839130e+00],\n",
       "         [ -1.38127518e+01,  -1.48384857e+01,  -1.95957165e+01, ...,\n",
       "           -1.19521675e+01,  -1.11532078e+01,  -9.14266968e+00],\n",
       "         ..., \n",
       "         [ -1.90637955e+02,  -1.56643051e+02,  -1.46927124e+02, ...,\n",
       "           -6.50112152e+00,  -6.41654015e+00,  -7.63525772e+00],\n",
       "         [ -1.94112320e+02,  -1.61559906e+02,  -1.50346817e+02, ...,\n",
       "           -6.89267349e+00,  -6.84936190e+00,  -7.97922421e+00],\n",
       "         [ -1.86827667e+02,  -1.54504379e+02,  -1.42366882e+02, ...,\n",
       "           -7.38643980e+00,  -7.35290527e+00,  -8.53611374e+00]]]], dtype=float32)"
      ]
     },
     "execution_count": 94,
     "metadata": {},
     "output_type": "execute_result"
    }
   ],
   "source": [
    "out_data"
   ]
  },
  {
   "cell_type": "code",
   "execution_count": 95,
   "metadata": {
    "collapsed": true
   },
   "outputs": [],
   "source": [
    "x = np.exp(out_data)\n",
    "res = x / x.sum(1)"
   ]
  },
  {
   "cell_type": "code",
   "execution_count": 96,
   "metadata": {},
   "outputs": [
    {
     "data": {
      "text/plain": [
       "array([[[[  9.99989867e-01,   9.99991655e-01,   9.99999881e-01, ...,\n",
       "            9.99995828e-01,   9.99988317e-01,   9.99902725e-01],\n",
       "         [  9.99981999e-01,   9.99992609e-01,   9.99999881e-01, ...,\n",
       "            9.99995470e-01,   9.99986529e-01,   9.99912024e-01],\n",
       "         [  9.99999046e-01,   9.99999642e-01,   1.00000000e+00, ...,\n",
       "            9.99993563e-01,   9.99985695e-01,   9.99892950e-01],\n",
       "         ..., \n",
       "         [  1.00000000e+00,   1.00000000e+00,   1.00000000e+00, ...,\n",
       "            9.98498261e-01,   9.98365641e-01,   9.99516904e-01],\n",
       "         [  1.00000000e+00,   1.00000000e+00,   1.00000000e+00, ...,\n",
       "            9.98984754e-01,   9.98939872e-01,   9.99657512e-01],\n",
       "         [  1.00000000e+00,   1.00000000e+00,   1.00000000e+00, ...,\n",
       "            9.99380410e-01,   9.99359310e-01,   9.99803782e-01]],\n",
       "\n",
       "        [[  1.01621208e-05,   8.34790626e-06,   8.55957509e-08, ...,\n",
       "            4.15013346e-06,   1.17149020e-05,   9.72707421e-05],\n",
       "         [  1.80077168e-05,   7.41474742e-06,   1.05047668e-07, ...,\n",
       "            4.47350976e-06,   1.35266600e-05,   8.79808358e-05],\n",
       "         [  1.00276259e-06,   3.59523767e-07,   3.08807935e-09, ...,\n",
       "            6.44524607e-06,   1.43292482e-05,   1.07001259e-04],\n",
       "         ..., \n",
       "         [  0.00000000e+00,   0.00000000e+00,   0.00000000e+00, ...,\n",
       "            1.50175428e-03,   1.63430069e-03,   4.83114127e-04],\n",
       "         [  0.00000000e+00,   0.00000000e+00,   0.00000000e+00, ...,\n",
       "            1.01519597e-03,   1.06013205e-03,   3.42505053e-04],\n",
       "         [  0.00000000e+00,   0.00000000e+00,   0.00000000e+00, ...,\n",
       "            6.19597966e-04,   6.40728162e-04,   1.96251465e-04]]]], dtype=float32)"
      ]
     },
     "execution_count": 96,
     "metadata": {},
     "output_type": "execute_result"
    }
   ],
   "source": [
    "res"
   ]
  },
  {
   "cell_type": "code",
   "execution_count": 103,
   "metadata": {},
   "outputs": [],
   "source": [
    "pos = np.argmax(res, axis=1)"
   ]
  },
  {
   "cell_type": "code",
   "execution_count": 109,
   "metadata": {
    "collapsed": true
   },
   "outputs": [],
   "source": [
    "%matplotlib inline"
   ]
  },
  {
   "cell_type": "code",
   "execution_count": 110,
   "metadata": {},
   "outputs": [
    {
     "data": {
      "text/plain": [
       "<matplotlib.image.AxesImage at 0x7f92d4527da0>"
      ]
     },
     "execution_count": 110,
     "metadata": {},
     "output_type": "execute_result"
    },
    {
     "data": {
      "image/png": "[encoded data removed]",
      "text/plain": [
       "<matplotlib.figure.Figure at 0x7f92cafb4f60>"
      ]
     },
     "metadata": {},
     "output_type": "display_data"
    }
   ],
   "source": [
    "plt.imshow(pos.squeeze())"
   ]
  },
  {
   "cell_type": "code",
   "execution_count": null,
   "metadata": {
    "collapsed": true
   },
   "outputs": [],
   "source": []
  }
 ],
 "metadata": {
  "kernelspec": {
   "display_name": "Python 3",
   "language": "python",
   "name": "python3"
  },
  "language_info": {
   "codemirror_mode": {
    "name": "ipython",
    "version": 3
   },
   "file_extension": ".py",
   "mimetype": "text/x-python",
   "name": "python",
   "nbconvert_exporter": "python",
   "pygments_lexer": "ipython3",
   "version": "3.6.1"
  }
 },
 "nbformat": 4,
 "nbformat_minor": 2
}
