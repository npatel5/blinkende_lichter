{
 "cells": [
  {
   "cell_type": "markdown",
   "metadata": {},
   "source": [
    "## Import them all"
   ]
  },
  {
   "cell_type": "code",
   "execution_count": 1,
   "metadata": {
    "collapsed": true
   },
   "outputs": [],
   "source": [
    "import numpy as np\n",
    "import torch\n",
    "\n",
    "from PIL import Image\n",
    "from argparse import ArgumentParser\n",
    "\n",
    "from torch.optim import SGD, Adam\n",
    "from torch.autograd import Variable\n",
    "from torch.utils.data import DataLoader, TensorDataset\n",
    "from torchvision.transforms import Compose, CenterCrop, Normalize\n",
    "from torchvision.transforms import ToTensor, ToPILImage\n",
    "\n",
    "\n",
    "from piwise.network import UNet\n",
    "from piwise.criterion import CrossEntropyLoss2d\n",
    "from piwise.transform import Relabel, ToLabel, Colorize"
   ]
  },
  {
   "cell_type": "markdown",
   "metadata": {},
   "source": [
    "## Setup the model"
   ]
  },
  {
   "cell_type": "code",
   "execution_count": 2,
   "metadata": {
    "collapsed": true
   },
   "outputs": [],
   "source": [
    "NUM_CHANNELS = 2\n",
    "NUM_CLASSES = 2\n",
    "\n",
    "Net = UNet\n",
    "model = Net(NUM_CLASSES)\n",
    "model = model.cuda()\n",
    "\n",
    "\n"
   ]
  },
  {
   "cell_type": "markdown",
   "metadata": {},
   "source": [
    "# Load the Data"
   ]
  },
  {
   "cell_type": "code",
   "execution_count": 3,
   "metadata": {
    "collapsed": true
   },
   "outputs": [],
   "source": [
    "in_vals = torch.from_numpy(np.load('data/inputs.npy'))\n",
    "out_vals = torch.from_numpy(np.load('data/outputs.npy')).long()\n",
    "out_vals[out_vals==2]=0\n",
    "loader = DataLoader(TensorDataset(in_vals,out_vals), shuffle=True)"
   ]
  },
  {
   "cell_type": "code",
   "execution_count": 7,
   "metadata": {
    "collapsed": true
   },
   "outputs": [],
   "source": [
    "images, labels = next(iter(loader))"
   ]
  },
  {
   "cell_type": "code",
   "execution_count": 9,
   "metadata": {},
   "outputs": [
    {
     "data": {
      "text/plain": [
       "torch.Size([1, 2, 512, 512])"
      ]
     },
     "execution_count": 9,
     "metadata": {},
     "output_type": "execute_result"
    }
   ],
   "source": [
    "images.size()"
   ]
  },
  {
   "cell_type": "code",
   "execution_count": 10,
   "metadata": {},
   "outputs": [
    {
     "data": {
      "text/plain": [
       "torch.Size([1, 512, 512])"
      ]
     },
     "execution_count": 10,
     "metadata": {},
     "output_type": "execute_result"
    }
   ],
   "source": [
    "labels.size()"
   ]
  },
  {
   "cell_type": "code",
   "execution_count": 15,
   "metadata": {},
   "outputs": [
    {
     "data": {
      "text/plain": [
       "0"
      ]
     },
     "execution_count": 15,
     "metadata": {},
     "output_type": "execute_result"
    }
   ],
   "source": [
    "labels.min()"
   ]
  },
  {
   "cell_type": "code",
   "execution_count": 11,
   "metadata": {},
   "outputs": [
    {
     "data": {
      "text/plain": [
       "\n",
       "( 0 ,.,.) = \n",
       "   0   0   0  ...    0   0   0\n",
       "   0   0   0  ...    0   0   0\n",
       "   0   0   0  ...    0   0   0\n",
       "     ...       ⋱       ...    \n",
       "   0   0   0  ...    0   0   0\n",
       "   0   0   0  ...    0   0   0\n",
       "   0   0   0  ...    0   0   0\n",
       "[torch.LongTensor of size 1x512x512]"
      ]
     },
     "execution_count": 11,
     "metadata": {},
     "output_type": "execute_result"
    }
   ],
   "source": []
  },
  {
   "cell_type": "markdown",
   "metadata": {},
   "source": [
    "## Train the model"
   ]
  },
  {
   "cell_type": "code",
   "execution_count": 4,
   "metadata": {},
   "outputs": [
    {
     "name": "stderr",
     "output_type": "stream",
     "text": [
      "/opt/conda/envs/pytorch-py36/lib/python3.6/site-packages/torch/nn/functional.py:807: UserWarning: nn.functional.upsample_bilinear is deprecated. Use nn.functional.upsample instead.\n",
      "  warnings.warn(\"nn.functional.upsample_bilinear is deprecated. Use nn.functional.upsample instead.\")\n"
     ]
    },
    {
     "name": "stdout",
     "output_type": "stream",
     "text": [
      "Training complete.\n"
     ]
    }
   ],
   "source": [
    "model.train()\n",
    "weight = torch.ones(NUM_CLASSES)\n",
    "weight[0] = 0      \n",
    "criterion = CrossEntropyLoss2d()\n",
    "optimizer = Adam(model.parameters())\n",
    "epoch_loss = []\n",
    "for epoch in range(1, 201):\n",
    "    \n",
    "\n",
    "    for step, (images, labels) in enumerate(loader):\n",
    "        images = images.cuda()\n",
    "        labels = labels.cuda()\n",
    "\n",
    "        inputs = Variable(images)\n",
    "        targets = Variable(labels)\n",
    "        optimizer.zero_grad()\n",
    "        outputs = model(inputs)\n",
    "\n",
    "        loss = criterion(outputs, targets)\n",
    "\n",
    "        loss.backward()\n",
    "        optimizer.step()\n",
    "        \n",
    "        epoch_loss.append((loss.data[0]))\n",
    "print(\"Training complete.\")"
   ]
  },
  {
   "cell_type": "code",
   "execution_count": 85,
   "metadata": {
    "collapsed": true
   },
   "outputs": [],
   "source": [
    "import matplotlib.pyplot as plt"
   ]
  },
  {
   "cell_type": "code",
   "execution_count": 101,
   "metadata": {},
   "outputs": [
    {
     "data": {
      "text/plain": [
       "[<matplotlib.lines.Line2D at 0x7f81798812e8>]"
      ]
     },
     "execution_count": 101,
     "metadata": {},
     "output_type": "execute_result"
    }
   ],
   "source": [
    "plt.plot(epoch_loss)"
   ]
  },
  {
   "cell_type": "code",
   "execution_count": 102,
   "metadata": {},
   "outputs": [
    {
     "data": {
      "image/png": "[encoded data removed]",
      "text/plain": [
       "<matplotlib.figure.Figure at 0x7f8179b09fd0>"
      ]
     },
     "metadata": {},
     "output_type": "display_data"
    }
   ],
   "source": [
    "plt.show()"
   ]
  },
  {
   "cell_type": "code",
   "execution_count": 88,
   "metadata": {
    "collapsed": true
   },
   "outputs": [],
   "source": [
    "plt.close()"
   ]
  },
  {
   "cell_type": "code",
   "execution_count": 89,
   "metadata": {},
   "outputs": [
    {
     "data": {
      "text/plain": [
       "<module 'matplotlib.pyplot' from '/opt/conda/envs/pytorch-py36/lib/python3.6/site-packages/matplotlib/pyplot.py'>"
      ]
     },
     "execution_count": 89,
     "metadata": {},
     "output_type": "execute_result"
    }
   ],
   "source": [
    "plt"
   ]
  },
  {
   "cell_type": "code",
   "execution_count": 90,
   "metadata": {
    "collapsed": true
   },
   "outputs": [],
   "source": [
    "plt.show()"
   ]
  },
  {
   "cell_type": "code",
   "execution_count": 93,
   "metadata": {},
   "outputs": [
    {
     "data": {
      "text/plain": [
       "[0.3048296570777893,\n",
       " 0.26992830634117126,\n",
       " 0.21971377730369568,\n",
       " 0.3078896999359131,\n",
       " 0.25278031826019287,\n",
       " 0.315354585647583,\n",
       " 0.32046425342559814,\n",
       " 0.2827519178390503,\n",
       " 0.2295074164867401,\n",
       " 0.24371883273124695,\n",
       " 0.24803948402404785,\n",
       " 0.3288705050945282]"
      ]
     },
     "execution_count": 93,
     "metadata": {},
     "output_type": "execute_result"
    }
   ],
   "source": [
    "total_loss[0]"
   ]
  },
  {
   "cell_type": "code",
   "execution_count": 95,
   "metadata": {
    "collapsed": true
   },
   "outputs": [],
   "source": [
    "for data in total_loss:\n",
    "    total_loss[total_loss.index(data)]=(sum(data)/len(data))"
   ]
  },
  {
   "cell_type": "code",
   "execution_count": 96,
   "metadata": {},
   "outputs": [
    {
     "data": {
      "text/plain": [
       "[0.27698739618062973,\n",
       " 0.27698739618062973,\n",
       " 0.27698739618062973,\n",
       " 0.27698739618062973,\n",
       " 0.27698739618062973,\n",
       " 0.27698739618062973,\n",
       " 0.27698739618062973,\n",
       " 0.27698739618062973,\n",
       " 0.27698739618062973,\n",
       " 0.27698739618062973,\n",
       " 0.27698739618062973,\n",
       " 0.27698739618062973,\n",
       " 0.278233269850413,\n",
       " 0.278233269850413,\n",
       " 0.278233269850413,\n",
       " 0.278233269850413,\n",
       " 0.278233269850413,\n",
       " 0.278233269850413,\n",
       " 0.278233269850413,\n",
       " 0.278233269850413,\n",
       " 0.278233269850413,\n",
       " 0.278233269850413,\n",
       " 0.278233269850413,\n",
       " 0.278233269850413,\n",
       " 0.2756763584911823,\n",
       " 0.2756763584911823,\n",
       " 0.2756763584911823,\n",
       " 0.2756763584911823,\n",
       " 0.2756763584911823,\n",
       " 0.2756763584911823,\n",
       " 0.2756763584911823,\n",
       " 0.2756763584911823,\n",
       " 0.2756763584911823,\n",
       " 0.2756763584911823,\n",
       " 0.2756763584911823,\n",
       " 0.2756763584911823,\n",
       " 0.2734686682621638,\n",
       " 0.2734686682621638,\n",
       " 0.2734686682621638,\n",
       " 0.2734686682621638,\n",
       " 0.2734686682621638,\n",
       " 0.2734686682621638,\n",
       " 0.2734686682621638,\n",
       " 0.2734686682621638,\n",
       " 0.2734686682621638,\n",
       " 0.2734686682621638,\n",
       " 0.2734686682621638,\n",
       " 0.2734686682621638,\n",
       " 0.27060598880052567,\n",
       " 0.27060598880052567,\n",
       " 0.27060598880052567,\n",
       " 0.27060598880052567,\n",
       " 0.27060598880052567,\n",
       " 0.27060598880052567,\n",
       " 0.27060598880052567,\n",
       " 0.27060598880052567,\n",
       " 0.27060598880052567,\n",
       " 0.27060598880052567,\n",
       " 0.27060598880052567,\n",
       " 0.27060598880052567,\n",
       " 0.26610640560587245,\n",
       " 0.26610640560587245,\n",
       " 0.26610640560587245,\n",
       " 0.26610640560587245,\n",
       " 0.26610640560587245,\n",
       " 0.26610640560587245,\n",
       " 0.26610640560587245,\n",
       " 0.26610640560587245,\n",
       " 0.26610640560587245,\n",
       " 0.26610640560587245,\n",
       " 0.26610640560587245,\n",
       " 0.26610640560587245,\n",
       " 0.26305073872208595,\n",
       " 0.26305073872208595,\n",
       " 0.26305073872208595,\n",
       " 0.26305073872208595,\n",
       " 0.26305073872208595,\n",
       " 0.26305073872208595,\n",
       " 0.26305073872208595,\n",
       " 0.26305073872208595,\n",
       " 0.26305073872208595,\n",
       " 0.26305073872208595,\n",
       " 0.26305073872208595,\n",
       " 0.26305073872208595,\n",
       " 0.2598077915608883,\n",
       " 0.2598077915608883,\n",
       " 0.2598077915608883,\n",
       " 0.2598077915608883,\n",
       " 0.2598077915608883,\n",
       " 0.2598077915608883,\n",
       " 0.2598077915608883,\n",
       " 0.2598077915608883,\n",
       " 0.2598077915608883,\n",
       " 0.2598077915608883,\n",
       " 0.2598077915608883,\n",
       " 0.2598077915608883,\n",
       " 0.2615939478079478,\n",
       " 0.2615939478079478,\n",
       " 0.2615939478079478,\n",
       " 0.2615939478079478,\n",
       " 0.2615939478079478,\n",
       " 0.2615939478079478,\n",
       " 0.2615939478079478,\n",
       " 0.2615939478079478,\n",
       " 0.2615939478079478,\n",
       " 0.2615939478079478,\n",
       " 0.2615939478079478,\n",
       " 0.2615939478079478,\n",
       " 0.25822287797927856,\n",
       " 0.25822287797927856,\n",
       " 0.25822287797927856,\n",
       " 0.25822287797927856,\n",
       " 0.25822287797927856,\n",
       " 0.25822287797927856,\n",
       " 0.25822287797927856,\n",
       " 0.25822287797927856,\n",
       " 0.25822287797927856,\n",
       " 0.25822287797927856,\n",
       " 0.25822287797927856,\n",
       " 0.25822287797927856,\n",
       " 0.2608414441347122,\n",
       " 0.2608414441347122,\n",
       " 0.2608414441347122,\n",
       " 0.2608414441347122,\n",
       " 0.2608414441347122,\n",
       " 0.2608414441347122,\n",
       " 0.2608414441347122,\n",
       " 0.2608414441347122,\n",
       " 0.2608414441347122,\n",
       " 0.2608414441347122,\n",
       " 0.2608414441347122,\n",
       " 0.2608414441347122,\n",
       " 0.26043666402498883,\n",
       " 0.26043666402498883,\n",
       " 0.26043666402498883,\n",
       " 0.26043666402498883,\n",
       " 0.26043666402498883,\n",
       " 0.26043666402498883,\n",
       " 0.26043666402498883,\n",
       " 0.26043666402498883,\n",
       " 0.26043666402498883,\n",
       " 0.26043666402498883,\n",
       " 0.26043666402498883,\n",
       " 0.26043666402498883,\n",
       " 0.26501258462667465,\n",
       " 0.26501258462667465,\n",
       " 0.26501258462667465,\n",
       " 0.26501258462667465,\n",
       " 0.26501258462667465,\n",
       " 0.26501258462667465,\n",
       " 0.26501258462667465,\n",
       " 0.26501258462667465,\n",
       " 0.26501258462667465,\n",
       " 0.26501258462667465,\n",
       " 0.26501258462667465,\n",
       " 0.26501258462667465,\n",
       " 0.26835499455531436,\n",
       " 0.26835499455531436,\n",
       " 0.26835499455531436,\n",
       " 0.26835499455531436,\n",
       " 0.26835499455531436,\n",
       " 0.26835499455531436,\n",
       " 0.26835499455531436,\n",
       " 0.26835499455531436,\n",
       " 0.26835499455531436,\n",
       " 0.26835499455531436,\n",
       " 0.26835499455531436,\n",
       " 0.26835499455531436,\n",
       " 0.2664024531841278,\n",
       " 0.2664024531841278,\n",
       " 0.2664024531841278,\n",
       " 0.2664024531841278,\n",
       " 0.2664024531841278,\n",
       " 0.2664024531841278,\n",
       " 0.2664024531841278,\n",
       " 0.2664024531841278,\n",
       " 0.2664024531841278,\n",
       " 0.2664024531841278,\n",
       " 0.2664024531841278,\n",
       " 0.2664024531841278,\n",
       " 0.27464418237408,\n",
       " 0.27464418237408,\n",
       " 0.27464418237408,\n",
       " 0.27464418237408,\n",
       " 0.27464418237408,\n",
       " 0.27464418237408,\n",
       " 0.27464418237408,\n",
       " 0.27464418237408,\n",
       " 0.27464418237408,\n",
       " 0.27464418237408,\n",
       " 0.27464418237408,\n",
       " 0.27464418237408,\n",
       " 0.265799834082524,\n",
       " 0.265799834082524,\n",
       " 0.265799834082524,\n",
       " 0.265799834082524,\n",
       " 0.265799834082524,\n",
       " 0.265799834082524,\n",
       " 0.265799834082524,\n",
       " 0.265799834082524,\n",
       " 0.265799834082524,\n",
       " 0.265799834082524,\n",
       " 0.265799834082524,\n",
       " 0.265799834082524,\n",
       " 0.25886478647589684,\n",
       " 0.25886478647589684,\n",
       " 0.25886478647589684,\n",
       " 0.25886478647589684,\n",
       " 0.25886478647589684,\n",
       " 0.25886478647589684,\n",
       " 0.25886478647589684,\n",
       " 0.25886478647589684,\n",
       " 0.25886478647589684,\n",
       " 0.25886478647589684,\n",
       " 0.25886478647589684,\n",
       " 0.25886478647589684,\n",
       " 0.25496280814210576,\n",
       " 0.25496280814210576,\n",
       " 0.25496280814210576,\n",
       " 0.25496280814210576,\n",
       " 0.25496280814210576,\n",
       " 0.25496280814210576,\n",
       " 0.25496280814210576,\n",
       " 0.25496280814210576,\n",
       " 0.25496280814210576,\n",
       " 0.25496280814210576,\n",
       " 0.25496280814210576,\n",
       " 0.25496280814210576,\n",
       " 0.25365552057822544,\n",
       " 0.25365552057822544,\n",
       " 0.25365552057822544,\n",
       " 0.25365552057822544,\n",
       " 0.25365552057822544,\n",
       " 0.25365552057822544,\n",
       " 0.25365552057822544,\n",
       " 0.25365552057822544,\n",
       " 0.25365552057822544,\n",
       " 0.25365552057822544,\n",
       " 0.25365552057822544,\n",
       " 0.25365552057822544]"
      ]
     },
     "execution_count": 96,
     "metadata": {},
     "output_type": "execute_result"
    }
   ],
   "source": [
    "total_loss"
   ]
  },
  {
   "cell_type": "code",
   "execution_count": 97,
   "metadata": {},
   "outputs": [
    {
     "data": {
      "text/plain": [
       "240"
      ]
     },
     "execution_count": 97,
     "metadata": {},
     "output_type": "execute_result"
    }
   ],
   "source": [
    "len(total_loss)"
   ]
  },
  {
   "cell_type": "code",
   "execution_count": 100,
   "metadata": {},
   "outputs": [
    {
     "data": {
      "text/plain": [
       "2400"
      ]
     },
     "execution_count": 100,
     "metadata": {},
     "output_type": "execute_result"
    }
   ],
   "source": [
    "len(epoch_loss)"
   ]
  },
  {
   "cell_type": "code",
   "execution_count": 103,
   "metadata": {
    "collapsed": true
   },
   "outputs": [],
   "source": [
    "plt.close()"
   ]
  },
  {
   "cell_type": "code",
   "execution_count": 1,
   "metadata": {},
   "outputs": [
    {
     "name": "stdout",
     "output_type": "stream",
     "text": [
      "\n"
     ]
    }
   ],
   "source": [
    "print(\"\")"
   ]
  },
  {
   "cell_type": "code",
   "execution_count": 2,
   "metadata": {},
   "outputs": [
    {
     "ename": "NameError",
     "evalue": "name 'outputs' is not defined",
     "output_type": "error",
     "traceback": [
      "\u001b[0;31m---------------------------------------------------------------------------\u001b[0m",
      "\u001b[0;31mNameError\u001b[0m                                 Traceback (most recent call last)",
      "\u001b[0;32m<ipython-input-2-5673ceae2bf6>\u001b[0m in \u001b[0;36m<module>\u001b[0;34m()\u001b[0m\n\u001b[0;32m----> 1\u001b[0;31m \u001b[0moutputs\u001b[0m\u001b[0;34m\u001b[0m\u001b[0m\n\u001b[0m",
      "\u001b[0;31mNameError\u001b[0m: name 'outputs' is not defined"
     ]
    }
   ],
   "source": [
    "outputs"
   ]
  },
  {
   "cell_type": "code",
   "execution_count": 8,
   "metadata": {},
   "outputs": [
    {
     "data": {
      "text/plain": [
       "Variable containing:\n",
       " 0.2872\n",
       "[torch.cuda.FloatTensor of size 1 (GPU 0)]"
      ]
     },
     "execution_count": 8,
     "metadata": {},
     "output_type": "execute_result"
    }
   ],
   "source": [
    "loss"
   ]
  },
  {
   "cell_type": "code",
   "execution_count": 9,
   "metadata": {},
   "outputs": [
    {
     "data": {
      "text/plain": [
       "1"
      ]
     },
     "execution_count": 9,
     "metadata": {},
     "output_type": "execute_result"
    }
   ],
   "source": [
    "len(outputs)"
   ]
  },
  {
   "cell_type": "code",
   "execution_count": 10,
   "metadata": {},
   "outputs": [
    {
     "data": {
      "text/plain": [
       "Variable containing:\n",
       "( 0 , 0 ,.,.) = \n",
       "    0.0000    0.0000    0.0000  ...    -0.0001   -0.0003   -0.0002\n",
       "    0.0000    0.0000    0.0000  ...    -0.0001   -0.0003   -0.0002\n",
       "    0.0000    0.0000    0.0000  ...    -0.0002   -0.0004   -0.0002\n",
       "              ...                ⋱                ...             \n",
       "    0.0000    0.0000   -0.0099  ...    -0.0006   -0.0001   -0.0000\n",
       "    0.0000    0.0000   -0.0058  ...    -0.0005   -0.0001   -0.0000\n",
       "    0.0000    0.0000   -0.0027  ...    -0.0006   -0.0001   -0.0000\n",
       "\n",
       "( 0 , 1 ,.,.) = \n",
       " -130.6586 -141.0657 -134.0111  ...    -9.1870   -8.1220   -8.5708\n",
       " -137.8547 -152.5382 -145.0304  ...    -9.2002   -8.0936   -8.4820\n",
       " -135.6483 -151.1954 -140.7107  ...    -8.6472   -7.8555   -8.6487\n",
       "              ...                ⋱                ...             \n",
       "  -19.7559  -15.4810   -4.6197  ...    -7.5016   -9.6865  -11.3605\n",
       "  -19.7216  -15.4697   -5.1476  ...    -7.6631   -9.7064  -11.1755\n",
       "  -21.6215  -16.5262   -5.9275  ...    -7.4841   -9.7662  -11.1235\n",
       "[torch.cuda.FloatTensor of size 1x2x512x512 (GPU 0)]"
      ]
     },
     "execution_count": 10,
     "metadata": {},
     "output_type": "execute_result"
    }
   ],
   "source": [
    "outputs"
   ]
  },
  {
   "cell_type": "code",
   "execution_count": 11,
   "metadata": {},
   "outputs": [
    {
     "data": {
      "text/plain": [
       "1"
      ]
     },
     "execution_count": 11,
     "metadata": {},
     "output_type": "execute_result"
    }
   ],
   "source": [
    "len(inputs)"
   ]
  },
  {
   "cell_type": "code",
   "execution_count": 12,
   "metadata": {},
   "outputs": [
    {
     "data": {
      "text/plain": [
       "Variable containing:\n",
       "( 0 , 0 ,.,.) = \n",
       "  0.1632  0.1664  0.1764  ...   0.1536  0.1438  0.1428\n",
       "  0.1538  0.1632  0.1749  ...   0.1408  0.1446  0.1372\n",
       "  0.1586  0.1630  0.1641  ...   0.1696  0.1510  0.1520\n",
       "           ...             ⋱             ...          \n",
       "  0.1668  0.1710  0.1720  ...   0.1564  0.1589  0.1511\n",
       "  0.1673  0.1688  0.1823  ...   0.1557  0.1536  0.1516\n",
       "  0.1672  0.1700  0.1710  ...   0.1542  0.1555  0.1530\n",
       "\n",
       "( 0 , 1 ,.,.) = \n",
       "  0.4783  0.4233  0.4500  ...   0.4545  0.4249  0.4490\n",
       "  0.4639  0.3432  0.3035  ...   0.3488  0.3121  0.3701\n",
       "  0.5631  0.4173  0.4311  ...   0.3310  0.3266  0.4557\n",
       "           ...             ⋱             ...          \n",
       "  0.4726  0.2140  0.1481  ...   0.1745  0.1864  0.3762\n",
       "  0.4949  0.3478  0.2687  ...   0.3350  0.3699  0.4450\n",
       "  0.5542  0.4825  0.4621  ...   0.5327  0.5453  0.5602\n",
       "[torch.cuda.FloatTensor of size 1x2x512x512 (GPU 0)]"
      ]
     },
     "execution_count": 12,
     "metadata": {},
     "output_type": "execute_result"
    }
   ],
   "source": [
    "inputs"
   ]
  },
  {
   "cell_type": "code",
   "execution_count": 13,
   "metadata": {},
   "outputs": [
    {
     "data": {
      "text/plain": [
       "Variable containing:\n",
       "( 0 ,.,.) = \n",
       "   0   0   0  ...    0   0   0\n",
       "   0   0   0  ...    0   0   0\n",
       "   0   0   0  ...    0   0   0\n",
       "     ...       ⋱       ...    \n",
       "   0   0   0  ...    0   0   0\n",
       "   0   0   0  ...    0   0   0\n",
       "   0   0   0  ...    0   0   0\n",
       "[torch.cuda.LongTensor of size 1x512x512 (GPU 0)]"
      ]
     },
     "execution_count": 13,
     "metadata": {},
     "output_type": "execute_result"
    }
   ],
   "source": [
    "targets"
   ]
  },
  {
   "cell_type": "code",
   "execution_count": 14,
   "metadata": {
    "collapsed": true
   },
   "outputs": [],
   "source": [
    "import matplotlib.pyplot as plt"
   ]
  },
  {
   "cell_type": "code",
   "execution_count": 5,
   "metadata": {},
   "outputs": [
    {
     "data": {
      "text/plain": [
       "Variable containing:\n",
       "( 0 , 0 ,.,.) = \n",
       "  0.1632  0.1664  0.1764  ...   0.1536  0.1438  0.1428\n",
       "  0.1538  0.1632  0.1749  ...   0.1408  0.1446  0.1372\n",
       "  0.1586  0.1630  0.1641  ...   0.1696  0.1510  0.1520\n",
       "           ...             ⋱             ...          \n",
       "  0.1668  0.1710  0.1720  ...   0.1564  0.1589  0.1511\n",
       "  0.1673  0.1688  0.1823  ...   0.1557  0.1536  0.1516\n",
       "  0.1672  0.1700  0.1710  ...   0.1542  0.1555  0.1530\n",
       "\n",
       "( 0 , 1 ,.,.) = \n",
       "  0.4783  0.4233  0.4500  ...   0.4545  0.4249  0.4490\n",
       "  0.4639  0.3432  0.3035  ...   0.3488  0.3121  0.3701\n",
       "  0.5631  0.4173  0.4311  ...   0.3310  0.3266  0.4557\n",
       "           ...             ⋱             ...          \n",
       "  0.4726  0.2140  0.1481  ...   0.1745  0.1864  0.3762\n",
       "  0.4949  0.3478  0.2687  ...   0.3350  0.3699  0.4450\n",
       "  0.5542  0.4825  0.4621  ...   0.5327  0.5453  0.5602\n",
       "[torch.cuda.FloatTensor of size 1x2x512x512 (GPU 0)]"
      ]
     },
     "execution_count": 5,
     "metadata": {},
     "output_type": "execute_result"
    }
   ],
   "source": [
    "inputs"
   ]
  },
  {
   "cell_type": "code",
   "execution_count": 6,
   "metadata": {},
   "outputs": [
    {
     "data": {
      "text/plain": [
       "Variable containing:\n",
       "( 0 ,.,.) = \n",
       "  0.1632  0.1664  0.1764  ...   0.1536  0.1438  0.1428\n",
       "  0.1538  0.1632  0.1749  ...   0.1408  0.1446  0.1372\n",
       "  0.1586  0.1630  0.1641  ...   0.1696  0.1510  0.1520\n",
       "           ...             ⋱             ...          \n",
       "  0.1668  0.1710  0.1720  ...   0.1564  0.1589  0.1511\n",
       "  0.1673  0.1688  0.1823  ...   0.1557  0.1536  0.1516\n",
       "  0.1672  0.1700  0.1710  ...   0.1542  0.1555  0.1530\n",
       "\n",
       "( 1 ,.,.) = \n",
       "  0.4783  0.4233  0.4500  ...   0.4545  0.4249  0.4490\n",
       "  0.4639  0.3432  0.3035  ...   0.3488  0.3121  0.3701\n",
       "  0.5631  0.4173  0.4311  ...   0.3310  0.3266  0.4557\n",
       "           ...             ⋱             ...          \n",
       "  0.4726  0.2140  0.1481  ...   0.1745  0.1864  0.3762\n",
       "  0.4949  0.3478  0.2687  ...   0.3350  0.3699  0.4450\n",
       "  0.5542  0.4825  0.4621  ...   0.5327  0.5453  0.5602\n",
       "[torch.cuda.FloatTensor of size 2x512x512 (GPU 0)]"
      ]
     },
     "execution_count": 6,
     "metadata": {},
     "output_type": "execute_result"
    }
   ],
   "source": [
    "inputs[0]"
   ]
  },
  {
   "cell_type": "code",
   "execution_count": 7,
   "metadata": {},
   "outputs": [
    {
     "data": {
      "text/plain": [
       "Variable containing:\n",
       " 0.1632  0.1664  0.1764  ...   0.1536  0.1438  0.1428\n",
       " 0.1538  0.1632  0.1749  ...   0.1408  0.1446  0.1372\n",
       " 0.1586  0.1630  0.1641  ...   0.1696  0.1510  0.1520\n",
       "          ...             ⋱             ...          \n",
       " 0.1668  0.1710  0.1720  ...   0.1564  0.1589  0.1511\n",
       " 0.1673  0.1688  0.1823  ...   0.1557  0.1536  0.1516\n",
       " 0.1672  0.1700  0.1710  ...   0.1542  0.1555  0.1530\n",
       "[torch.cuda.FloatTensor of size 512x512 (GPU 0)]"
      ]
     },
     "execution_count": 7,
     "metadata": {},
     "output_type": "execute_result"
    }
   ],
   "source": [
    "inputs[0][0]"
   ]
  },
  {
   "cell_type": "code",
   "execution_count": 11,
   "metadata": {},
   "outputs": [
    {
     "ename": "AttributeError",
     "evalue": "numpy",
     "output_type": "error",
     "traceback": [
      "\u001b[0;31m---------------------------------------------------------------------------\u001b[0m",
      "\u001b[0;31mAttributeError\u001b[0m                            Traceback (most recent call last)",
      "\u001b[0;32m<ipython-input-11-98d55659274b>\u001b[0m in \u001b[0;36m<module>\u001b[0;34m()\u001b[0m\n\u001b[0;32m----> 1\u001b[0;31m \u001b[0minputs\u001b[0m\u001b[0;34m.\u001b[0m\u001b[0mnumpy\u001b[0m\u001b[0;34m(\u001b[0m\u001b[0;34m)\u001b[0m\u001b[0;34m\u001b[0m\u001b[0m\n\u001b[0m",
      "\u001b[0;32m/opt/conda/envs/pytorch-py36/lib/python3.6/site-packages/torch/autograd/variable.py\u001b[0m in \u001b[0;36m__getattr__\u001b[0;34m(self, name)\u001b[0m\n\u001b[1;32m     62\u001b[0m         \u001b[0;32mif\u001b[0m \u001b[0mname\u001b[0m \u001b[0;32min\u001b[0m \u001b[0mself\u001b[0m\u001b[0;34m.\u001b[0m\u001b[0m_fallthrough_methods\u001b[0m\u001b[0;34m:\u001b[0m\u001b[0;34m\u001b[0m\u001b[0m\n\u001b[1;32m     63\u001b[0m             \u001b[0;32mreturn\u001b[0m \u001b[0mgetattr\u001b[0m\u001b[0;34m(\u001b[0m\u001b[0mself\u001b[0m\u001b[0;34m.\u001b[0m\u001b[0mdata\u001b[0m\u001b[0;34m,\u001b[0m \u001b[0mname\u001b[0m\u001b[0;34m)\u001b[0m\u001b[0;34m\u001b[0m\u001b[0m\n\u001b[0;32m---> 64\u001b[0;31m         \u001b[0;32mraise\u001b[0m \u001b[0mAttributeError\u001b[0m\u001b[0;34m(\u001b[0m\u001b[0mname\u001b[0m\u001b[0;34m)\u001b[0m\u001b[0;34m\u001b[0m\u001b[0m\n\u001b[0m\u001b[1;32m     65\u001b[0m \u001b[0;34m\u001b[0m\u001b[0m\n\u001b[1;32m     66\u001b[0m     \u001b[0;32mdef\u001b[0m \u001b[0m__getitem__\u001b[0m\u001b[0;34m(\u001b[0m\u001b[0mself\u001b[0m\u001b[0;34m,\u001b[0m \u001b[0mkey\u001b[0m\u001b[0;34m)\u001b[0m\u001b[0;34m:\u001b[0m\u001b[0;34m\u001b[0m\u001b[0m\n",
      "\u001b[0;31mAttributeError\u001b[0m: numpy"
     ]
    }
   ],
   "source": [
    "inputs.numpy()"
   ]
  },
  {
   "cell_type": "code",
   "execution_count": 12,
   "metadata": {},
   "outputs": [
    {
     "data": {
      "text/plain": [
       "list"
      ]
     },
     "execution_count": 12,
     "metadata": {},
     "output_type": "execute_result"
    }
   ],
   "source": [
    "type(epoch_loss)"
   ]
  },
  {
   "cell_type": "code",
   "execution_count": 14,
   "metadata": {},
   "outputs": [],
   "source": [
    "import torchvision.transforms as transforms"
   ]
  },
  {
   "cell_type": "code",
   "execution_count": null,
   "metadata": {
    "collapsed": true
   },
   "outputs": [],
   "source": []
  }
 ],
 "metadata": {
  "kernelspec": {
   "display_name": "Python 3",
   "language": "python",
   "name": "python3"
  },
  "language_info": {
   "codemirror_mode": {
    "name": "ipython",
    "version": 3
   },
   "file_extension": ".py",
   "mimetype": "text/x-python",
   "name": "python",
   "nbconvert_exporter": "python",
   "pygments_lexer": "ipython3",
   "version": "3.6.1"
  }
 },
 "nbformat": 4,
 "nbformat_minor": 2
}
