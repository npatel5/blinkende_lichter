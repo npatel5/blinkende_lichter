{
 "cells": [
  {
   "cell_type": "code",
   "execution_count": 1,
   "metadata": {
    "collapsed": false,
    "deletable": true,
    "editable": true
   },
   "outputs": [],
   "source": [
    "\n",
    "from attorch.dataset import ListDataset\n",
    "from blinkende_lichter.datatools import RandomFlip, TypeConversion \n",
    "from torchvision import transforms \n",
    "from torch.utils.data import DataLoader \n",
    "import numpy as np \n",
    "import torch\n",
    "\n",
    "from PIL import Image\n",
    "from argparse import ArgumentParser\n",
    "\n",
    "from torch.optim import Adam\n",
    "from torch.autograd import Variable\n",
    "\n",
    "from blinkende_lichter.unet.network import UNet\n",
    "from blinkende_lichter.unet.criterion import CrossEntropyLoss2d\n",
    "\n",
    "from random import randint\n",
    "import matplotlib.pyplot as plt\n",
    "import random"
   ]
  },
  {
   "cell_type": "code",
   "execution_count": 2,
   "metadata": {
    "collapsed": false,
    "deletable": true,
    "editable": true
   },
   "outputs": [
    {
     "name": "stdout",
     "output_type": "stream",
     "text": [
      "torch.Size([1, 2, 512, 512]) torch.Size([1, 512, 512])\n",
      "torch.Size([1, 2, 512, 512]) torch.Size([1, 512, 512])\n"
     ]
    }
   ],
   "source": [
    "transform = transforms.Compose([    \n",
    "    RandomFlip(),    \n",
    "    TypeConversion(np.float32, np.long) ]) \n",
    "dat = np.load('../datasets/data_interpolated.npz')\n",
    "\n",
    "tr = dat['train']\n",
    "vd = dat['validation']\n",
    "for image in tr[1]:\n",
    "    for h in range(len(image)):\n",
    "        for w in range(len(image[0])):\n",
    "            if(image[h][w]==0):\n",
    "                image[h][w]=0\n",
    "            else:\n",
    "                image[h][w] = 1\n",
    "    \n",
    "\n",
    "for image in vd[1]:\n",
    "    for h in range(len(image)):\n",
    "        for w in range(len(image[0])):\n",
    "            if(image[h][w]==0):\n",
    "                image[h][w]=0\n",
    "            else:\n",
    "                image[h][w] = 1\n",
    "               \n",
    "\n",
    "\n",
    "            \n",
    "            \n",
    "train = ListDataset(*tr, transform=transform)\n",
    "\n",
    "val = ListDataset(*vd) \n",
    "trainloader = DataLoader( train, shuffle=True, batch_size=1) \n",
    "for x, y in trainloader:\n",
    "    print(x.size(), y.size())\n",
    "images, labels = next(iter(trainloader))\n"
   ]
  },
  {
   "cell_type": "code",
   "execution_count": 6,
   "metadata": {
    "collapsed": false,
    "deletable": true,
    "editable": true
   },
   "outputs": [],
   "source": [
    "#MAX_CHECKS = 10\n",
    "#best_score = 1000\n",
    "#checks = 0\n",
    "NUM_CHANNELS = 2\n",
    "NUM_CLASSES = 2\n",
    "\n",
    "\n",
    "Net = UNet\n",
    "model = Net(NUM_CLASSES)\n",
    "model = model.cuda()\n",
    "#model.load_state_dict(torch.load(\"model_data\"))\n",
    "\n",
    "\n",
    "\n",
    "        \n",
    "    \n",
    "        \n"
   ]
  },
  {
   "cell_type": "code",
   "execution_count": 5,
   "metadata": {
    "collapsed": true
   },
   "outputs": [],
   "source": [
    "def IOU(output, target):\n",
    "    x = np.logical_or(output==1, target==1)\n",
    "    return np.sum(target * output)/sum(x[x])"
   ]
  },
  {
   "cell_type": "code",
   "execution_count": null,
   "metadata": {
    "collapsed": false,
    "deletable": true,
    "editable": true
   },
   "outputs": [],
   "source": [
    "\n",
    "def evaluate(Net, test_values, loss_graph):\n",
    "    Net.eval()\n",
    "    global best_score, checks, MAX_CHECKS\n",
    "    for i in range(len(test_values.data[0])):\n",
    "        input = torch.FloatTensor(test_values.data[0][i]).cuda()\n",
    "        target = Variable(torch.from_numpy(test_values.data[1][i])).cuda()\n",
    "        output = Net(Variable(input).unsqueeze(0))\n",
    "        val_loss = criterion(output, target.unsqueeze(0))\n",
    "        \n",
    "        score = val_loss.data[0]\n",
    "        \n",
    "        if score <= best_score:\n",
    "            best_score = score\n",
    "            checks = 0\n",
    "        else:\n",
    "            checks+=1\n",
    "        loss_graph.append((score))\n",
    "        if (checks>=MAX_CHECKS):\n",
    "            print(\"Breaking\")\n",
    "            break\n",
    "\n",
    "        \n"
   ]
  },
  {
   "cell_type": "code",
   "execution_count": 8,
   "metadata": {
    "collapsed": false,
    "deletable": true,
    "editable": true
   },
   "outputs": [
    {
     "name": "stdout",
     "output_type": "stream",
     "text": [
      "Training and validation complete.\n"
     ]
    }
   ],
   "source": [
    "model.train()\n",
    "weight = torch.ones(NUM_CLASSES)\n",
    "weight[0] = 0\n",
    "patience = 0\n",
    "criterion = CrossEntropyLoss2d()\n",
    "optimizer = Adam(model.parameters())\n",
    "epoch_loss = []\n",
    "val_epoch_loss = []\n",
    "#train_inputs = []\n",
    "train_targets = []\n",
    "train_outputs = []\n",
    "#val_inputs = []\n",
    "val_targets = []\n",
    "val_outputs = []\n",
    "for epoch in range(1, 1001):\n",
    "    for step, (images, labels) in enumerate(trainloader):\n",
    "        images = images.cuda()\n",
    "        labels = labels.cuda()\n",
    "        inputs = Variable(images)\n",
    "        targets = Variable(labels)\n",
    "        optimizer.zero_grad()\n",
    "        outputs = model(inputs)\n",
    "\n",
    "        loss = criterion(outputs, targets)\n",
    "        loss.backward()\n",
    "        optimizer.step()\n",
    "        #train_inputs.append(inputs.data.cpu().numpy())\n",
    "        #train_targets.append(targets.data.cpu().numpy())\n",
    "        if(epoch % 100 == 0):\n",
    "            train_targets.append(targets.data.cpu().numpy())\n",
    "            train_outputs.append(outputs.data.cpu().numpy())\n",
    "            epoch_loss.append((loss.data[0]))\n",
    "        \n",
    "        \n",
    "\n",
    "    model.eval()\n",
    "\n",
    "    for i in range(len(val.data[0])):\n",
    "        input = torch.FloatTensor(val.data[0][i]).cuda()\n",
    "        target = Variable(torch.from_numpy(val.data[1][i])).cuda()\n",
    "        output = model(Variable(input).unsqueeze(0))\n",
    "        #val_inputs.append(input.cpu().numpy())\n",
    "        x = np.exp(output.data.cpu().numpy())\n",
    "        res = x/x.sum(1)\n",
    "        pos = np.argmax(res, axis=1).squeeze()\n",
    "        val_loss = IOU(pos, target.data.cpu().numpy())\n",
    "        if(epoch % 100==0):\n",
    "            val_outputs.append(output.data.cpu().numpy())\n",
    "            val_targets.append(target.data.cpu().numpy())\n",
    "            val_epoch_loss.append(val_loss)\n",
    "        \n",
    "    '''\n",
    "        if(epoch>=patience):\n",
    "            if(len(val_epoch_loss) % 4 == 0):\n",
    "                score = sum(val_epoch_loss[-4:])/len(val_epoch_loss[-4:])\n",
    "                if score <= best_score:\n",
    "                    best_score = score\n",
    "                    checks = 0\n",
    "                else:\n",
    "                    checks+=1\n",
    "\n",
    "                if (checks>=MAX_CHECKS):\n",
    "                    break\n",
    "                else:\n",
    "                    continue                \n",
    "                break\n",
    "            else:\n",
    "                continue\n",
    "            break\n",
    "        else:\n",
    "            continue\n",
    "        break\n",
    "    else:\n",
    "        continue\n",
    "    break\n",
    "'''\n",
    "torch.save(model.state_dict(), \"model_data\")\n",
    "torch.save(epoch_loss, \"loss\")\n",
    "print(\"Training and validation complete.\")"
   ]
  },
  {
   "cell_type": "code",
   "execution_count": null,
   "metadata": {
    "collapsed": true,
    "deletable": true,
    "editable": true
   },
   "outputs": [],
   "source": [
    "%matplotlib inline\n"
   ]
  },
  {
   "cell_type": "code",
   "execution_count": 9,
   "metadata": {
    "collapsed": false
   },
   "outputs": [
    {
     "data": {
      "text/plain": [
       "[0.0,\n",
       " 0.0,\n",
       " 0.0,\n",
       " 0.0,\n",
       " 0.0061143900471317568,\n",
       " 0.0051656850069434464,\n",
       " 0.046408474015226749,\n",
       " 0.014644748781362764,\n",
       " 0.013125788809423644,\n",
       " 0.035737619234287206,\n",
       " 0.083894554550702327,\n",
       " 0.048743288134884981,\n",
       " 0.020470871569156668,\n",
       " 0.043552479276035026,\n",
       " 0.064470828545895573,\n",
       " 0.049657182740074725,\n",
       " 0.012103746397694525,\n",
       " 0.056956776412320435,\n",
       " 0.062847749114820439,\n",
       " 0.049967579834657154,\n",
       " 0.032187186801326033,\n",
       " 0.097843661366098497,\n",
       " 0.11288464702978443,\n",
       " 0.095559238726638851,\n",
       " 0.044560758240203703,\n",
       " 0.079095273728309018,\n",
       " 0.11548500506045917,\n",
       " 0.091436510767728726,\n",
       " 0.042156756951188805,\n",
       " 0.058890889171497623,\n",
       " 0.094028021948750734,\n",
       " 0.083048123286376105,\n",
       " 0.072071520421284674,\n",
       " 0.086455645035913062,\n",
       " 0.11071507150715071,\n",
       " 0.11939958664658283,\n",
       " 0.045394670179349478,\n",
       " 0.063168182761294267,\n",
       " 0.092417992535847579,\n",
       " 0.098279648609077605]"
      ]
     },
     "execution_count": 9,
     "metadata": {},
     "output_type": "execute_result"
    }
   ],
   "source": [
    "val_epoch_loss"
   ]
  },
  {
   "cell_type": "code",
   "execution_count": null,
   "metadata": {
    "collapsed": false,
    "deletable": true,
    "editable": true
   },
   "outputs": [],
   "source": [
    "tgt_img = val_targets[39]\n",
    "out_data = val_outputs[39]\n",
    "indicator  =  np.arange(out_data.shape[1]).reshape([1, -1, 1, 1])\n",
    "np.sum(out_data*indicator, axis=1)\n",
    "x = np.exp(out_data)\n",
    "res = x/x.sum(1)\n",
    "\n",
    "pos = np.argmax(res, axis=1).squeeze()\n"
   ]
  },
  {
   "cell_type": "code",
   "execution_count": null,
   "metadata": {
    "collapsed": false,
    "deletable": true,
    "editable": true
   },
   "outputs": [],
   "source": [
    "%matplotlib inline\n",
    "plt.figure()\n",
    "\n",
    "plt.subplots(figsize=(12,12))\n",
    "\n",
    "avg = plt.subplot(221)\n",
    "corr = plt.subplot(222)\n",
    "tgt = plt.subplot(223)\n",
    "out = plt.subplot(224)\n",
    "\n",
    "avg.title.set_text(\"Average Image\")\n",
    "corr.title.set_text(\"Correlation Image\")\n",
    "tgt.title.set_text(\"Target Image\")\n",
    "out.title.set_text(\"Output Image\")\n",
    "\n",
    "avg.imshow(in_img_avg)\n",
    "corr.imshow(in_img_corr)\n",
    "tgt.imshow(tgt_img)\n",
    "out.imshow(pos.squeeze())\n",
    "\n",
    "\n",
    "\n",
    "plt.tight_layout()"
   ]
  },
  {
   "cell_type": "code",
   "execution_count": 7,
   "metadata": {
    "collapsed": false,
    "deletable": true,
    "editable": true
   },
   "outputs": [],
   "source": [
    "del(x, res, pos)"
   ]
  },
  {
   "cell_type": "code",
   "execution_count": null,
   "metadata": {
    "collapsed": false,
    "deletable": true,
    "editable": true,
    "scrolled": true
   },
   "outputs": [],
   "source": [
    "\n",
    "fig = plt.figure(figsize=(12,12))\n",
    "plt.imshow(pos)\n"
   ]
  },
  {
   "cell_type": "code",
   "execution_count": null,
   "metadata": {
    "collapsed": false,
    "deletable": true,
    "editable": true
   },
   "outputs": [],
   "source": [
    "val_outputs[-1].shape"
   ]
  },
  {
   "cell_type": "code",
   "execution_count": null,
   "metadata": {
    "collapsed": false,
    "deletable": true,
    "editable": true
   },
   "outputs": [],
   "source": [
    "\n",
    "ol = np.zeros((len(pos),len(pos), 3))\n",
    "for h in range(len(pos)):\n",
    "    for w in range(len(pos)):\n",
    "        ol[w][h][0]=tgt_img[w][h]\n",
    "        ol[w][h][1]=pos[w][h]\n"
   ]
  },
  {
   "cell_type": "code",
   "execution_count": null,
   "metadata": {
    "collapsed": false,
    "deletable": true,
    "editable": true
   },
   "outputs": [],
   "source": [
    "ol[ol==1]"
   ]
  },
  {
   "cell_type": "code",
   "execution_count": null,
   "metadata": {
    "collapsed": false,
    "deletable": true,
    "editable": true
   },
   "outputs": [],
   "source": [
    "\n",
    "train_in = []\n",
    "train_tgt = []\n",
    "train_out = []\n",
    "for i in range(4):\n",
    "    r = randint(0,14)\n",
    "    train_in.append(torch.FloatTensor(tr[0][r].astype(float)).cuda())\n",
    "    train_tgt.append(torch.from_numpy(tr[1][r]).long())\n",
    "    "
   ]
  },
  {
   "cell_type": "code",
   "execution_count": null,
   "metadata": {
    "collapsed": false,
    "deletable": true,
    "editable": true
   },
   "outputs": [],
   "source": [
    "type(tr)"
   ]
  },
  {
   "cell_type": "code",
   "execution_count": null,
   "metadata": {
    "collapsed": false,
    "deletable": true,
    "editable": true
   },
   "outputs": [],
   "source": [
    "model.eval()\n",
    "for i in range(len(train_in)):\n",
    "    out = model(Variable(train_in[i]).unsqueeze(0))\n",
    "    train_out.append(out)"
   ]
  },
  {
   "cell_type": "code",
   "execution_count": null,
   "metadata": {
    "collapsed": false,
    "deletable": true,
    "editable": true
   },
   "outputs": [],
   "source": [
    "train_out[3]"
   ]
  },
  {
   "cell_type": "code",
   "execution_count": null,
   "metadata": {
    "collapsed": false,
    "deletable": true,
    "editable": true
   },
   "outputs": [],
   "source": [
    "train_out_mod = []\n",
    "for n in range(len(train_out)):\n",
    "    out_data = train_out[n].data.cpu().numpy()\n",
    "    indicator  =  np.arange(out_data.shape[1]).reshape([1, -1, 1, 1])\n",
    "    np.sum(out_data*indicator, axis=1)\n",
    "    x = np.exp(out_data)\n",
    "    res = x/x.sum(1)\n",
    "    pos = np.argmax(res, axis=1)\n",
    "    train_out_mod.append(pos.squeeze())"
   ]
  },
  {
   "cell_type": "code",
   "execution_count": null,
   "metadata": {
    "collapsed": false,
    "deletable": true,
    "editable": true
   },
   "outputs": [],
   "source": [
    "targets.max()"
   ]
  },
  {
   "cell_type": "code",
   "execution_count": null,
   "metadata": {
    "collapsed": false,
    "deletable": true,
    "editable": true
   },
   "outputs": [],
   "source": [
    "train_tgt"
   ]
  },
  {
   "cell_type": "code",
   "execution_count": null,
   "metadata": {
    "collapsed": false,
    "deletable": true,
    "editable": true
   },
   "outputs": [],
   "source": [
    "model"
   ]
  },
  {
   "cell_type": "code",
   "execution_count": null,
   "metadata": {
    "collapsed": false,
    "deletable": true,
    "editable": true
   },
   "outputs": [],
   "source": [
    "train_out_mod[1]"
   ]
  },
  {
   "cell_type": "code",
   "execution_count": null,
   "metadata": {
    "collapsed": false,
    "deletable": true,
    "editable": true
   },
   "outputs": [],
   "source": [
    "range(5)"
   ]
  },
  {
   "cell_type": "code",
   "execution_count": null,
   "metadata": {
    "collapsed": false,
    "deletable": true,
    "editable": true
   },
   "outputs": [],
   "source": [
    "plt.imshow(ol)"
   ]
  },
  {
   "cell_type": "code",
   "execution_count": null,
   "metadata": {
    "collapsed": false,
    "deletable": true,
    "editable": true
   },
   "outputs": [],
   "source": [
    "fig = plt.figure(figsize=(12,12))\n",
    "tgt = plt.subplot(221)\n",
    "op = plt.subplot(222)\n",
    "tgt.title.set_text(\"Target Image\")\n",
    "op.title.set_text(\"Output Image\")\n",
    "tgt.imshow(train_tgt[0].numpy())\n",
    "op.imshow(train_out_mod[0])\n"
   ]
  },
  {
   "cell_type": "code",
   "execution_count": null,
   "metadata": {
    "collapsed": false,
    "deletable": true,
    "editable": true
   },
   "outputs": [],
   "source": [
    "train_outputs[-1]"
   ]
  },
  {
   "cell_type": "code",
   "execution_count": null,
   "metadata": {
    "collapsed": false,
    "deletable": true,
    "editable": true
   },
   "outputs": [],
   "source": [
    "val_outputs"
   ]
  },
  {
   "cell_type": "code",
   "execution_count": null,
   "metadata": {
    "collapsed": false,
    "deletable": true,
    "editable": true
   },
   "outputs": [],
   "source": [
    "np.sum(tgt_img * pos)/((np.sum(tgt_img)+np.sum(pos))/2)"
   ]
  },
  {
   "cell_type": "code",
   "execution_count": null,
   "metadata": {
    "collapsed": false,
    "deletable": true,
    "editable": true,
    "scrolled": true
   },
   "outputs": [],
   "source": [
    "fig = plt.figure(figsize=(20,20))\n",
    "plt.plot(val_epoch_loss)\n",
    "plt.plot(epoch_loss)\n",
    "\n",
    "plt.show()"
   ]
  },
  {
   "cell_type": "code",
   "execution_count": null,
   "metadata": {
    "collapsed": false,
    "deletable": true,
    "editable": true
   },
   "outputs": [],
   "source": [
    "len(latest_loss)"
   ]
  },
  {
   "cell_type": "code",
   "execution_count": null,
   "metadata": {
    "collapsed": false,
    "deletable": true,
    "editable": true
   },
   "outputs": [],
   "source": [
    "checks"
   ]
  },
  {
   "cell_type": "code",
   "execution_count": null,
   "metadata": {
    "collapsed": false,
    "deletable": true,
    "editable": true
   },
   "outputs": [],
   "source": [
    "latest_val_loss"
   ]
  },
  {
   "cell_type": "code",
   "execution_count": null,
   "metadata": {
    "collapsed": false,
    "deletable": true,
    "editable": true
   },
   "outputs": [],
   "source": [
    "enumerate(val_epoch_loss)"
   ]
  },
  {
   "cell_type": "code",
   "execution_count": null,
   "metadata": {
    "collapsed": true,
    "deletable": true,
    "editable": true
   },
   "outputs": [],
   "source": [
    "avg_ep = [epoch_loss[x:x+2] for x in range(0, len(epoch_loss), 2)]\n",
    "avg_val_ep = [val_epoch_loss[x:x+4] for x in range(0, len(val_epoch_loss), 4)]\n",
    "\n",
    "\n",
    "for i in range(len(avg_ep)):\n",
    "    avg_ep[i]=sum(avg_ep[i])/len(avg_ep[i])\n",
    "\n",
    "for i in range(len(avg_val_ep)):\n",
    "    avg_val_ep[i]=sum(avg_val_ep[i])/len(avg_val_ep[i])"
   ]
  },
  {
   "cell_type": "code",
   "execution_count": null,
   "metadata": {
    "collapsed": false,
    "deletable": true,
    "editable": true
   },
   "outputs": [],
   "source": [
    "fig = plt.figure(figsize=(12, 12))\n",
    "plt.plot(avg_val_ep)\n",
    "plt.plot(avg_ep)\n"
   ]
  },
  {
   "cell_type": "code",
   "execution_count": null,
   "metadata": {
    "collapsed": false,
    "deletable": true,
    "editable": true
   },
   "outputs": [],
   "source": [
    "del(target, output)"
   ]
  },
  {
   "cell_type": "code",
   "execution_count": null,
   "metadata": {
    "collapsed": false,
    "deletable": true,
    "editable": true
   },
   "outputs": [],
   "source": [
    "for param in model.parameters():\n",
    "    print(param.data, param.size())"
   ]
  },
  {
   "cell_type": "code",
   "execution_count": null,
   "metadata": {
    "collapsed": false,
    "deletable": true,
    "editable": true
   },
   "outputs": [],
   "source": [
    "plt.show()"
   ]
  },
  {
   "cell_type": "code",
   "execution_count": null,
   "metadata": {
    "collapsed": false,
    "deletable": true,
    "editable": true
   },
   "outputs": [],
   "source": [
    "avg_val_ep.index(best_score)"
   ]
  },
  {
   "cell_type": "code",
   "execution_count": null,
   "metadata": {
    "collapsed": false,
    "deletable": true,
    "editable": true
   },
   "outputs": [],
   "source": [
    "sum(val_epoch_loss[72:76])/4"
   ]
  },
  {
   "cell_type": "code",
   "execution_count": null,
   "metadata": {
    "collapsed": false,
    "deletable": true,
    "editable": true
   },
   "outputs": [],
   "source": [
    "val_epoch_loss[75]"
   ]
  },
  {
   "cell_type": "code",
   "execution_count": null,
   "metadata": {
    "collapsed": false,
    "deletable": true,
    "editable": true
   },
   "outputs": [],
   "source": [
    "out_mod"
   ]
  },
  {
   "cell_type": "code",
   "execution_count": null,
   "metadata": {
    "collapsed": false,
    "deletable": true,
    "editable": true
   },
   "outputs": [],
   "source": [
    "out_mod[36:]"
   ]
  },
  {
   "cell_type": "code",
   "execution_count": null,
   "metadata": {
    "collapsed": false,
    "deletable": true,
    "editable": true
   },
   "outputs": [],
   "source": [
    "to_mod[0].max()"
   ]
  },
  {
   "cell_type": "code",
   "execution_count": null,
   "metadata": {
    "collapsed": false,
    "deletable": true,
    "editable": true
   },
   "outputs": [],
   "source": [
    "plt.imshow(pos.squeeze())"
   ]
  },
  {
   "cell_type": "code",
   "execution_count": null,
   "metadata": {
    "collapsed": true,
    "deletable": true,
    "editable": true
   },
   "outputs": [],
   "source": [
    "pos.squeeze()"
   ]
  },
  {
   "cell_type": "code",
   "execution_count": null,
   "metadata": {
    "collapsed": false,
    "deletable": true,
    "editable": true
   },
   "outputs": [],
   "source": [
    "range(0, len(val_epoch_loss),4)"
   ]
  },
  {
   "cell_type": "code",
   "execution_count": null,
   "metadata": {
    "collapsed": false,
    "deletable": true,
    "editable": true
   },
   "outputs": [],
   "source": [
    "val_epoch_loss[0:4]"
   ]
  },
  {
   "cell_type": "code",
   "execution_count": null,
   "metadata": {
    "collapsed": true,
    "deletable": true,
    "editable": true
   },
   "outputs": [],
   "source": [
    "f =[1,2,3,4]"
   ]
  },
  {
   "cell_type": "code",
   "execution_count": null,
   "metadata": {
    "collapsed": false,
    "deletable": true,
    "editable": true
   },
   "outputs": [],
   "source": [
    "len(f)%4"
   ]
  },
  {
   "cell_type": "code",
   "execution_count": 10,
   "metadata": {
    "collapsed": false,
    "deletable": true,
    "editable": true
   },
   "outputs": [
    {
     "data": {
      "text/plain": [
       "40"
      ]
     },
     "execution_count": 10,
     "metadata": {},
     "output_type": "execute_result"
    }
   ],
   "source": [
    "len(val_epoch_loss)"
   ]
  },
  {
   "cell_type": "code",
   "execution_count": null,
   "metadata": {
    "collapsed": false,
    "deletable": true,
    "editable": true
   },
   "outputs": [],
   "source": [
    "epoch"
   ]
  },
  {
   "cell_type": "code",
   "execution_count": null,
   "metadata": {
    "collapsed": false,
    "deletable": true,
    "editable": true
   },
   "outputs": [],
   "source": [
    "score"
   ]
  },
  {
   "cell_type": "code",
   "execution_count": null,
   "metadata": {
    "collapsed": true,
    "deletable": true,
    "editable": true
   },
   "outputs": [],
   "source": [
    "if (len(f) % 4 == 0):\n",
    "    temp = f[-4:]"
   ]
  },
  {
   "cell_type": "code",
   "execution_count": null,
   "metadata": {
    "collapsed": false,
    "deletable": true,
    "editable": true
   },
   "outputs": [],
   "source": [
    "temp"
   ]
  },
  {
   "cell_type": "code",
   "execution_count": null,
   "metadata": {
    "collapsed": false,
    "deletable": true,
    "editable": true
   },
   "outputs": [],
   "source": [
    "sum(temp)/len(temp)"
   ]
  },
  {
   "cell_type": "code",
   "execution_count": null,
   "metadata": {
    "collapsed": false,
    "deletable": true,
    "editable": true
   },
   "outputs": [],
   "source": [
    "sum(val_epoch_loss[-4:])/4"
   ]
  },
  {
   "cell_type": "code",
   "execution_count": null,
   "metadata": {
    "collapsed": false,
    "deletable": true,
    "editable": true
   },
   "outputs": [],
   "source": [
    "epoch"
   ]
  },
  {
   "cell_type": "code",
   "execution_count": null,
   "metadata": {
    "collapsed": false,
    "deletable": true,
    "editable": true
   },
   "outputs": [],
   "source": [
    "len(val_outputs)"
   ]
  },
  {
   "cell_type": "code",
   "execution_count": null,
   "metadata": {
    "collapsed": false,
    "deletable": true,
    "editable": true
   },
   "outputs": [],
   "source": [
    "552/4"
   ]
  },
  {
   "cell_type": "code",
   "execution_count": null,
   "metadata": {
    "collapsed": false,
    "deletable": true,
    "editable": true
   },
   "outputs": [],
   "source": [
    "epoch"
   ]
  },
  {
   "cell_type": "code",
   "execution_count": null,
   "metadata": {
    "collapsed": false,
    "deletable": true,
    "editable": true
   },
   "outputs": [],
   "source": [
    "best_score"
   ]
  },
  {
   "cell_type": "code",
   "execution_count": null,
   "metadata": {
    "collapsed": false,
    "deletable": true,
    "editable": true
   },
   "outputs": [],
   "source": [
    "min(avg_val_ep)"
   ]
  },
  {
   "cell_type": "code",
   "execution_count": null,
   "metadata": {
    "collapsed": false,
    "deletable": true,
    "editable": true
   },
   "outputs": [],
   "source": [
    "val_outputs[38]"
   ]
  },
  {
   "cell_type": "code",
   "execution_count": null,
   "metadata": {
    "collapsed": false,
    "deletable": true,
    "editable": true
   },
   "outputs": [],
   "source": [
    "fig = plt.figure(figsize=(12,12))\n",
    "%matplotlib inline\n",
    "plt.imshow(pos.squeeze())"
   ]
  },
  {
   "cell_type": "code",
   "execution_count": null,
   "metadata": {
    "collapsed": false,
    "deletable": true,
    "editable": true
   },
   "outputs": [],
   "source": [
    "len(val_epoch_loss)"
   ]
  },
  {
   "cell_type": "code",
   "execution_count": null,
   "metadata": {
    "collapsed": false,
    "deletable": true,
    "editable": true
   },
   "outputs": [],
   "source": [
    "len(val_outputs)"
   ]
  },
  {
   "cell_type": "code",
   "execution_count": null,
   "metadata": {
    "collapsed": false,
    "deletable": true,
    "editable": true
   },
   "outputs": [],
   "source": [
    "sum(val_epoch_loss[508:512])/4"
   ]
  },
  {
   "cell_type": "code",
   "execution_count": null,
   "metadata": {
    "collapsed": false,
    "deletable": true,
    "editable": true
   },
   "outputs": [],
   "source": [
    "checks"
   ]
  },
  {
   "cell_type": "code",
   "execution_count": null,
   "metadata": {
    "collapsed": false,
    "deletable": true,
    "editable": true
   },
   "outputs": [],
   "source": [
    "len(input)"
   ]
  },
  {
   "cell_type": "code",
   "execution_count": null,
   "metadata": {
    "collapsed": false,
    "deletable": true,
    "editable": true
   },
   "outputs": [],
   "source": [
    "train_outputs[-1].max()"
   ]
  },
  {
   "cell_type": "code",
   "execution_count": null,
   "metadata": {
    "collapsed": false,
    "deletable": true,
    "editable": true,
    "scrolled": false
   },
   "outputs": [],
   "source": [
    "v_out = train_out_part[64][0]\n",
    "\n",
    "indicator  =  np.arange(v_out.shape[1]).reshape([1, -1, 1, 1])\n",
    "np.sum(v_out*indicator, axis=1)\n",
    "x = np.exp(v_out)\n",
    "res = x/x.sum(1)\n",
    "out_mod = res.squeeze()\n",
    "\n",
    "true_out = np.zeros((len(out_mod[0]),len(out_mod[0]),3))\n",
    "\n",
    "for h in range(0, len(out_mod[0])):\n",
    "    for w in range(0, len(out_mod[0])):\n",
    "        true_out[w][h][0]=out_mod[0][w][h]\n",
    "        true_out[w][h][1]=out_mod[1][w][h]\n",
    "\n",
    "fig = plt.figure(figsize=(12, 12))\n",
    "plt.imshow(true_out)"
   ]
  },
  {
   "cell_type": "code",
   "execution_count": null,
   "metadata": {
    "collapsed": false,
    "deletable": true,
    "editable": true
   },
   "outputs": [],
   "source": [
    "train_outputs[16].shape"
   ]
  },
  {
   "cell_type": "code",
   "execution_count": null,
   "metadata": {
    "collapsed": false,
    "deletable": true,
    "editable": true
   },
   "outputs": [],
   "source": [
    "len(out_mod[0])"
   ]
  },
  {
   "cell_type": "code",
   "execution_count": null,
   "metadata": {
    "collapsed": false,
    "deletable": true,
    "editable": true
   },
   "outputs": [],
   "source": [
    "plt.imshow(val_targets[74])"
   ]
  },
  {
   "cell_type": "code",
   "execution_count": null,
   "metadata": {
    "collapsed": false,
    "deletable": true,
    "editable": true
   },
   "outputs": [],
   "source": [
    "in_img = val_inputs[74]\n",
    "in_img_avg = in_img[0]\n",
    "in_img_corr = in_img[1]\n",
    "tgt_img = val_targets[74]\n",
    "\n",
    "plt.figure()\n",
    "\n",
    "plt.subplots(figsize=(12,12))\n",
    "\n",
    "avg = plt.subplot(221)\n",
    "corr = plt.subplot(222)\n",
    "tgt = plt.subplot(223)\n",
    "out = plt.subplot(224)\n",
    "\n",
    "avg.title.set_text(\"Average Image\")\n",
    "corr.title.set_text(\"Correlation Image\")\n",
    "tgt.title.set_text(\"Target Image\")\n",
    "out.title.set_text(\"Output Image\")\n",
    "\n",
    "avg.imshow(in_img_avg)\n",
    "corr.imshow(in_img_corr)\n",
    "tgt.imshow(tgt_img)\n",
    "out.imshow(true_out)\n"
   ]
  },
  {
   "cell_type": "code",
   "execution_count": null,
   "metadata": {
    "collapsed": false,
    "deletable": true,
    "editable": true
   },
   "outputs": [],
   "source": [
    "len(epoch_loss)"
   ]
  },
  {
   "cell_type": "code",
   "execution_count": 11,
   "metadata": {
    "collapsed": false,
    "deletable": true,
    "editable": true
   },
   "outputs": [],
   "source": [
    "val_out_part = [val_outputs[x:x+4] for x in range(0, len(val_outputs), 4)]"
   ]
  },
  {
   "cell_type": "code",
   "execution_count": 13,
   "metadata": {
    "collapsed": true
   },
   "outputs": [],
   "source": [
    "val_target_part = [val_targets[x:x+4] for x in range(0, len(val_targets), 4)]"
   ]
  },
  {
   "cell_type": "code",
   "execution_count": null,
   "metadata": {
    "collapsed": false,
    "deletable": true,
    "editable": true
   },
   "outputs": [],
   "source": [
    "len(train_outputs)"
   ]
  },
  {
   "cell_type": "code",
   "execution_count": 21,
   "metadata": {
    "collapsed": false,
    "deletable": true,
    "editable": true
   },
   "outputs": [],
   "source": [
    "train_out_part = [train_outputs[x:x+2] for x in range(0, len(train_outputs), 2)]"
   ]
  },
  {
   "cell_type": "code",
   "execution_count": 15,
   "metadata": {
    "collapsed": true
   },
   "outputs": [],
   "source": [
    "train_target_part = [train_targets[x:x+2] for x in range(0, len(train_targets), 2)]"
   ]
  },
  {
   "cell_type": "code",
   "execution_count": 16,
   "metadata": {
    "collapsed": false,
    "deletable": true,
    "editable": true
   },
   "outputs": [
    {
     "data": {
      "text/plain": [
       "10"
      ]
     },
     "execution_count": 16,
     "metadata": {},
     "output_type": "execute_result"
    }
   ],
   "source": [
    "len(train_target_part)"
   ]
  },
  {
   "cell_type": "code",
   "execution_count": 17,
   "metadata": {
    "collapsed": false,
    "deletable": true,
    "editable": true
   },
   "outputs": [],
   "source": [
    "\n",
    "show_train_1 = []\n",
    "show_train_2 = []\n",
    "show_train_3 = []\n",
    "show_val_1 = []\n",
    "show_val_2 = []\n",
    "show_val_3 = []"
   ]
  },
  {
   "cell_type": "code",
   "execution_count": null,
   "metadata": {
    "collapsed": false,
    "deletable": true,
    "editable": true
   },
   "outputs": [],
   "source": [
    "ax[0][0].imshow(true_out)\n"
   ]
  },
  {
   "cell_type": "code",
   "execution_count": 18,
   "metadata": {
    "collapsed": true,
    "deletable": true,
    "editable": true
   },
   "outputs": [],
   "source": [
    "%matplotlib inline"
   ]
  },
  {
   "cell_type": "code",
   "execution_count": 19,
   "metadata": {
    "collapsed": true,
    "deletable": true,
    "editable": true
   },
   "outputs": [],
   "source": [
    "for i in range(0, len(val_out_part)):\n",
    "    v_out = val_out_part[i][0]\n",
    "\n",
    "    indicator  =  np.arange(v_out.shape[1]).reshape([1, -1, 1, 1])\n",
    "    np.sum(v_out*indicator, axis=1)\n",
    "    x = np.exp(v_out)\n",
    "    res = x/x.sum(1)\n",
    "    out_mod = res.squeeze()\n",
    "\n",
    "    true_out = np.zeros((len(out_mod[0]),len(out_mod[0]),3))\n",
    "\n",
    "    for h in range(0, len(out_mod[0])):\n",
    "        for w in range(0, len(out_mod[0])):\n",
    "            true_out[w][h][0]=out_mod[0][w][h]\n",
    "            true_out[w][h][1]=out_mod[1][w][h]\n",
    "\n",
    "    show_val_1.append(true_out)\n",
    "    show_val_2.append(np.argmax(res, axis=1).squeeze())"
   ]
  },
  {
   "cell_type": "code",
   "execution_count": null,
   "metadata": {
    "collapsed": false,
    "deletable": true,
    "editable": true
   },
   "outputs": [],
   "source": [
    "len(show_val_1)"
   ]
  },
  {
   "cell_type": "code",
   "execution_count": null,
   "metadata": {
    "collapsed": false,
    "deletable": true,
    "editable": true
   },
   "outputs": [],
   "source": [
    "train_inputs[16].shape"
   ]
  },
  {
   "cell_type": "code",
   "execution_count": null,
   "metadata": {
    "collapsed": false,
    "deletable": true,
    "editable": true
   },
   "outputs": [],
   "source": [
    "len(train_outputs)"
   ]
  },
  {
   "cell_type": "code",
   "execution_count": null,
   "metadata": {
    "collapsed": false,
    "deletable": true,
    "editable": true
   },
   "outputs": [],
   "source": []
  },
  {
   "cell_type": "code",
   "execution_count": null,
   "metadata": {
    "collapsed": false,
    "deletable": true,
    "editable": true
   },
   "outputs": [],
   "source": []
  },
  {
   "cell_type": "code",
   "execution_count": null,
   "metadata": {
    "collapsed": true,
    "deletable": true,
    "editable": true
   },
   "outputs": [],
   "source": [
    "test = [train_outputs[x:x+30] for x in range(0, len(train_outputs), 30)]"
   ]
  },
  {
   "cell_type": "code",
   "execution_count": null,
   "metadata": {
    "collapsed": false,
    "deletable": true,
    "editable": true
   },
   "outputs": [],
   "source": [
    "del(test)"
   ]
  },
  {
   "cell_type": "code",
   "execution_count": 22,
   "metadata": {
    "collapsed": false,
    "deletable": true,
    "editable": true
   },
   "outputs": [],
   "source": [
    "for i in range(0, len(train_out_part)):\n",
    "    v_out = train_out_part[i][0]\n",
    "\n",
    "    indicator  =  np.arange(v_out.shape[1]).reshape([1, -1, 1, 1])\n",
    "    np.sum(v_out*indicator, axis=1)\n",
    "    x = np.exp(v_out)\n",
    "    res = x/x.sum(1)\n",
    "    out_mod = res.squeeze()\n",
    "\n",
    "    true_out = np.zeros((len(out_mod[0]),len(out_mod[0]),3))\n",
    "\n",
    "    for h in range(0, len(out_mod[0])):\n",
    "        for w in range(0, len(out_mod[0])):\n",
    "            true_out[w][h][0]=out_mod[0][w][h]\n",
    "            true_out[w][h][1]=out_mod[1][w][h]\n",
    "\n",
    "    show_train_1.append(true_out)\n",
    "    show_train_2.append(np.argmax(res, axis=1).squeeze())"
   ]
  },
  {
   "cell_type": "code",
   "execution_count": 27,
   "metadata": {
    "collapsed": false,
    "deletable": true,
    "editable": true
   },
   "outputs": [],
   "source": [
    "for i in range(0, len(val_target_part)):\n",
    "    show_val_3.append(val_target_part[i][0])"
   ]
  },
  {
   "cell_type": "code",
   "execution_count": 31,
   "metadata": {
    "collapsed": false,
    "deletable": true,
    "editable": true
   },
   "outputs": [],
   "source": [
    "for i in range(0, len(train_target_part)):\n",
    "    show_train_3.append(train_target_part[i][0])"
   ]
  },
  {
   "cell_type": "code",
   "execution_count": 33,
   "metadata": {
    "collapsed": false,
    "deletable": true,
    "editable": true
   },
   "outputs": [
    {
     "data": {
      "text/plain": [
       "<matplotlib.figure.Figure at 0x7f889b42d2e8>"
      ]
     },
     "metadata": {},
     "output_type": "display_data"
    },
    {
     "data": {
      "image/png": "[encoded data removed]",
      "text/plain": [
       "<matplotlib.figure.Figure at 0x7f889b42dc18>"
      ]
     },
     "metadata": {},
     "output_type": "display_data"
    }
   ],
   "source": [
    "plt.figure()\n",
    "fig, ax = plt.subplots(nrows=6, ncols=10, figsize=(20,20))\n"
   ]
  },
  {
   "cell_type": "code",
   "execution_count": 35,
   "metadata": {
    "collapsed": false,
    "deletable": true,
    "editable": true
   },
   "outputs": [
    {
     "data": {
      "text/plain": [
       "<function matplotlib.pyplot.tight_layout>"
      ]
     },
     "execution_count": 35,
     "metadata": {},
     "output_type": "execute_result"
    }
   ],
   "source": [
    "for i in range(0, len(show_val_1)):\n",
    "    ax[0][i].imshow(show_train_1[i])\n",
    "    ax[1][i].imshow(show_train_2[i])\n",
    "    ax[2][i].imshow(show_train_3[i].squeeze())\n",
    "    ax[3][i].imshow(show_val_1[i])\n",
    "    ax[4][i].imshow(show_val_2[i])\n",
    "    ax[5][i].imshow(show_val_3[i])\n",
    "plt.tight_layout"
   ]
  },
  {
   "cell_type": "code",
   "execution_count": null,
   "metadata": {
    "collapsed": false,
    "deletable": true,
    "editable": true
   },
   "outputs": [],
   "source": [
    "len(show_train_1)"
   ]
  },
  {
   "cell_type": "code",
   "execution_count": null,
   "metadata": {
    "collapsed": true,
    "deletable": true,
    "editable": true
   },
   "outputs": [],
   "source": [
    "%matplotlib inline"
   ]
  },
  {
   "cell_type": "code",
   "execution_count": 49,
   "metadata": {
    "collapsed": false,
    "deletable": true,
    "editable": true
   },
   "outputs": [
    {
     "data": {
      "image/png": "[encoded data removed]",
      "text/plain": [
       "<matplotlib.figure.Figure at 0x7f889b42dc18>"
      ]
     },
     "execution_count": 49,
     "metadata": {},
     "output_type": "execute_result"
    }
   ],
   "source": [
    "fig"
   ]
  },
  {
   "cell_type": "code",
   "execution_count": null,
   "metadata": {
    "collapsed": false,
    "deletable": true,
    "editable": true
   },
   "outputs": [],
   "source": [
    "for i in range(2):\n",
    "    print(i)"
   ]
  },
  {
   "cell_type": "code",
   "execution_count": 37,
   "metadata": {
    "collapsed": false,
    "deletable": true,
    "editable": true
   },
   "outputs": [],
   "source": [
    "for j in range(10):\n",
    "    for i in range(6):\n",
    "        ax[i][j].title.set_text(100*j)"
   ]
  },
  {
   "cell_type": "code",
   "execution_count": 48,
   "metadata": {
    "collapsed": false,
    "deletable": true,
    "editable": true
   },
   "outputs": [],
   "source": [
    "fig.subplots_adjust(wspace=1.5)"
   ]
  },
  {
   "cell_type": "code",
   "execution_count": 39,
   "metadata": {
    "collapsed": false,
    "deletable": true,
    "editable": true
   },
   "outputs": [],
   "source": [
    "ep_part = [epoch_loss[x:x+2] for x in range(0, len(epoch_loss), 2)]\n",
    "val_ep_part = [val_epoch_loss[x:x+4] for x in range(0, len(val_epoch_loss), 4)]"
   ]
  },
  {
   "cell_type": "code",
   "execution_count": 43,
   "metadata": {
    "collapsed": false,
    "deletable": true,
    "editable": true
   },
   "outputs": [
    {
     "data": {
      "text/plain": [
       "0.25212517380714417"
      ]
     },
     "execution_count": 43,
     "metadata": {},
     "output_type": "execute_result"
    }
   ],
   "source": [
    "ep_part[0][0]"
   ]
  },
  {
   "cell_type": "code",
   "execution_count": 44,
   "metadata": {
    "collapsed": false,
    "deletable": true,
    "editable": true
   },
   "outputs": [],
   "source": [
    "for j in range(10):\n",
    "    for i in range(3):\n",
    "        ax[i][j].set_xlabel(ep_part[j][0])\n"
   ]
  },
  {
   "cell_type": "code",
   "execution_count": null,
   "metadata": {
    "collapsed": false,
    "deletable": true,
    "editable": true
   },
   "outputs": [],
   "source": []
  },
  {
   "cell_type": "code",
   "execution_count": null,
   "metadata": {
    "collapsed": true,
    "deletable": true,
    "editable": true
   },
   "outputs": [],
   "source": [
    "fig.subplots_adjust(wspace=1.5)"
   ]
  },
  {
   "cell_type": "code",
   "execution_count": 46,
   "metadata": {
    "collapsed": false,
    "deletable": true,
    "editable": true
   },
   "outputs": [
    {
     "name": "stdout",
     "output_type": "stream",
     "text": [
      "3\n",
      "4\n",
      "5\n"
     ]
    }
   ],
   "source": [
    "for i in range(3,6):\n",
    "    print(i)"
   ]
  },
  {
   "cell_type": "code",
   "execution_count": 47,
   "metadata": {
    "collapsed": false,
    "deletable": true,
    "editable": true
   },
   "outputs": [],
   "source": [
    "for j in range(10):\n",
    "    for i in range(3,6):\n",
    "        ax[i][j].set_xlabel(val_ep_part[j][0])"
   ]
  },
  {
   "cell_type": "code",
   "execution_count": null,
   "metadata": {
    "collapsed": false,
    "deletable": true,
    "editable": true
   },
   "outputs": [],
   "source": []
  },
  {
   "cell_type": "code",
   "execution_count": null,
   "metadata": {
    "collapsed": false,
    "deletable": true,
    "editable": true
   },
   "outputs": [],
   "source": [
    "len(train_outputs)"
   ]
  },
  {
   "cell_type": "code",
   "execution_count": null,
   "metadata": {
    "collapsed": true
   },
   "outputs": [],
   "source": [
    "tgt_train_img = train_targets[19]\n",
    "out_train_data = train_outputs[19]\n",
    "indicator  =  np.arange(out_train_data.shape[1]).reshape([1, -1, 1, 1])\n",
    "np.sum(out_train_data*indicator, axis=1)\n",
    "x_train = np.exp(out_train_data)\n",
    "res_train = x/x.sum(1)\n",
    "\n",
    "pos_train = np.argmax(res, axis=1).squeeze()\n"
   ]
  },
  {
   "cell_type": "code",
   "execution_count": null,
   "metadata": {
    "collapsed": false
   },
   "outputs": [],
   "source": [
    "ol_train = np.zeros((len(pos_train),len(pos_train), 3))\n",
    "for h in range(len(pos_train)):\n",
    "    for w in range(len(pos_train)):\n",
    "        ol_train[w][h][0]=tgt_train_img.squeeze()[w][h]\n",
    "        ol_train[w][h][1]=pos_train[w][h]"
   ]
  },
  {
   "cell_type": "code",
   "execution_count": null,
   "metadata": {
    "collapsed": false
   },
   "outputs": [],
   "source": [
    "[tgt_img==1]"
   ]
  },
  {
   "cell_type": "code",
   "execution_count": null,
   "metadata": {
    "collapsed": false
   },
   "outputs": [],
   "source": [
    "x = np.logical_or(tgt_img==1, pos==1)"
   ]
  },
  {
   "cell_type": "code",
   "execution_count": null,
   "metadata": {
    "collapsed": false
   },
   "outputs": [],
   "source": [
    "np.sum(tgt_img * pos)/(len(x[x==True]))"
   ]
  },
  {
   "cell_type": "code",
   "execution_count": null,
   "metadata": {
    "collapsed": false
   },
   "outputs": [],
   "source": [
    "IOU(pos, tgt_img)"
   ]
  },
  {
   "cell_type": "code",
   "execution_count": null,
   "metadata": {
    "collapsed": true
   },
   "outputs": [],
   "source": [
    "test = train_outputs[0]"
   ]
  },
  {
   "cell_type": "code",
   "execution_count": null,
   "metadata": {
    "collapsed": false
   },
   "outputs": [],
   "source": [
    "y = np.ones((200,200))"
   ]
  },
  {
   "cell_type": "code",
   "execution_count": null,
   "metadata": {
    "collapsed": false
   },
   "outputs": [],
   "source": [
    "np.logical_or(x==1, y==1)"
   ]
  },
  {
   "cell_type": "code",
   "execution_count": null,
   "metadata": {
    "collapsed": true
   },
   "outputs": [],
   "source": [
    "y[0][0]=0"
   ]
  },
  {
   "cell_type": "code",
   "execution_count": null,
   "metadata": {
    "collapsed": true
   },
   "outputs": [],
   "source": [
    "y[0][1]=0\n",
    "x[0][1]=0"
   ]
  },
  {
   "cell_type": "code",
   "execution_count": null,
   "metadata": {
    "collapsed": false
   },
   "outputs": [],
   "source": [
    "np.sum(x[x])"
   ]
  },
  {
   "cell_type": "code",
   "execution_count": null,
   "metadata": {
    "collapsed": false
   },
   "outputs": [],
   "source": [
    "IOU(pos, tgt_img)"
   ]
  },
  {
   "cell_type": "code",
   "execution_count": null,
   "metadata": {
    "collapsed": true
   },
   "outputs": [],
   "source": []
  }
 ],
 "metadata": {
  "kernelspec": {
   "display_name": "Python 3",
   "language": "python",
   "name": "python3"
  },
  "language_info": {
   "codemirror_mode": {
    "name": "ipython",
    "version": 3
   },
   "file_extension": ".py",
   "mimetype": "text/x-python",
   "name": "python",
   "nbconvert_exporter": "python",
   "pygments_lexer": "ipython3",
   "version": "3.5.2"
  }
 },
 "nbformat": 4,
 "nbformat_minor": 0
}
