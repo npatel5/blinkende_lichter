{
 "cells": [
  {
   "cell_type": "code",
   "execution_count": 1,
   "metadata": {
    "collapsed": false,
    "deletable": true,
    "editable": true
   },
   "outputs": [],
   "source": [
    "\n",
    "from attorch.dataset import ListDataset\n",
    "from blinkende_lichter.datatools import RandomFlip, TypeConversion \n",
    "from torchvision import transforms \n",
    "from torch.utils.data import DataLoader \n",
    "import numpy as np \n",
    "import torch\n",
    "\n",
    "from PIL import Image\n",
    "from argparse import ArgumentParser\n",
    "\n",
    "from torch.optim import Adam\n",
    "from torch.autograd import Variable\n",
    "\n",
    "from blinkende_lichter.unet.network import UNet\n",
    "from blinkende_lichter.unet.criterion import CrossEntropyLoss2d\n",
    "\n",
    "from random import randint\n",
    "import matplotlib.pyplot as plt\n",
    "import random"
   ]
  },
  {
   "cell_type": "code",
   "execution_count": 2,
   "metadata": {
    "collapsed": false,
    "deletable": true,
    "editable": true
   },
   "outputs": [
    {
     "name": "stdout",
     "output_type": "stream",
     "text": [
      "torch.Size([1, 2, 512, 512]) torch.Size([1, 512, 512])\n",
      "torch.Size([1, 2, 512, 512]) torch.Size([1, 512, 512])\n"
     ]
    }
   ],
   "source": [
    "transform = transforms.Compose([    \n",
    "    RandomFlip(),    \n",
    "    TypeConversion(np.float32, np.long) ]) \n",
    "dat = np.load('../datasets/data_interpolated.npz')\n",
    "\n",
    "tr = dat['train']\n",
    "vd = dat['validation']\n",
    "for image in tr[1]:\n",
    "    for h in range(len(image)):\n",
    "        for w in range(len(image[0])):\n",
    "            if(image[h][w]==0):\n",
    "                image[h][w]=0\n",
    "            else:\n",
    "                image[h][w] = 1\n",
    "    \n",
    "\n",
    "for image in vd[1]:\n",
    "    for h in range(len(image)):\n",
    "        for w in range(len(image[0])):\n",
    "            if(image[h][w]==0):\n",
    "                image[h][w]=0\n",
    "            else:\n",
    "                image[h][w] = 1\n",
    "               \n",
    "\n",
    "\n",
    "            \n",
    "            \n",
    "train = ListDataset(*tr, transform=transform)\n",
    "\n",
    "val = ListDataset(*vd) \n",
    "trainloader = DataLoader( train, shuffle=True, batch_size=1) \n",
    "for x, y in trainloader:\n",
    "    print(x.size(), y.size())\n",
    "images, labels = next(iter(trainloader))\n"
   ]
  },
  {
   "cell_type": "code",
   "execution_count": 3,
   "metadata": {
    "collapsed": false,
    "deletable": true,
    "editable": true
   },
   "outputs": [],
   "source": [
    "#MAX_CHECKS = 10\n",
    "#best_score = 1000\n",
    "#checks = 0\n",
    "NUM_CHANNELS = 2\n",
    "NUM_CLASSES = 2\n",
    "\n",
    "\n",
    "Net = UNet\n",
    "model = Net(NUM_CLASSES)\n",
    "model = model.cuda()\n",
    "#model.load_state_dict(torch.load(\"model_data\"))\n",
    "\n",
    "\n",
    "\n",
    "        \n",
    "    \n",
    "        \n"
   ]
  },
  {
   "cell_type": "code",
   "execution_count": null,
   "metadata": {
    "collapsed": false,
    "deletable": true,
    "editable": true
   },
   "outputs": [],
   "source": [
    "\n",
    "def evaluate(Net, test_values, loss_graph):\n",
    "    Net.eval()\n",
    "    global best_score, checks, MAX_CHECKS\n",
    "    for i in range(len(test_values.data[0])):\n",
    "        input = torch.FloatTensor(test_values.data[0][i]).cuda()\n",
    "        target = Variable(torch.from_numpy(test_values.data[1][i])).cuda()\n",
    "        output = Net(Variable(input).unsqueeze(0))\n",
    "        val_loss = criterion(output, target.unsqueeze(0))\n",
    "        \n",
    "        score = val_loss.data[0]\n",
    "        \n",
    "        if score <= best_score:\n",
    "            best_score = score\n",
    "            checks = 0\n",
    "        else:\n",
    "            checks+=1\n",
    "        loss_graph.append((score))\n",
    "        if (checks>=MAX_CHECKS):\n",
    "            print(\"Breaking\")\n",
    "            break\n",
    "\n",
    "        \n"
   ]
  },
  {
   "cell_type": "code",
   "execution_count": 4,
   "metadata": {
    "collapsed": false,
    "deletable": true,
    "editable": true
   },
   "outputs": [
    {
     "name": "stdout",
     "output_type": "stream",
     "text": [
      "Training and validation complete.\n"
     ]
    }
   ],
   "source": [
    "model.train()\n",
    "weight = torch.ones(NUM_CLASSES)\n",
    "weight[0] = 0\n",
    "patience = 0\n",
    "criterion = CrossEntropyLoss2d()\n",
    "optimizer = Adam(model.parameters())\n",
    "epoch_loss = []\n",
    "val_epoch_loss = []\n",
    "#train_inputs = []\n",
    "#train_targets = []\n",
    "train_outputs = []\n",
    "#val_inputs = []\n",
    "#val_targets = []\n",
    "val_outputs = []\n",
    "for epoch in range(1, 2001):\n",
    "    for step, (images, labels) in enumerate(trainloader):\n",
    "        images = images.cuda()\n",
    "        labels = labels.cuda()\n",
    "        inputs = Variable(images)\n",
    "        targets = Variable(labels)\n",
    "        optimizer.zero_grad()\n",
    "        outputs = model(inputs)\n",
    "\n",
    "        loss = criterion(outputs, targets)\n",
    "        loss.backward()\n",
    "        optimizer.step()\n",
    "        #train_inputs.append(inputs.data.cpu().numpy())\n",
    "        #train_targets.append(targets.data.cpu().numpy())\n",
    "        train_outputs.append(outputs.data.cpu().numpy())\n",
    "        epoch_loss.append((loss.data[0]))\n",
    "        \n",
    "\n",
    "    model.eval()\n",
    "\n",
    "    for i in range(len(val.data[0])):\n",
    "        input = torch.FloatTensor(val.data[0][i]).cuda()\n",
    "        target = Variable(torch.from_numpy(val.data[1][i])).cuda()\n",
    "        output = model(Variable(input).unsqueeze(0))\n",
    "        #val_inputs.append(input.cpu().numpy())\n",
    "        #val_targets.append(target.data.cpu().numpy())\n",
    "        val_outputs.append(output.data.cpu().numpy())\n",
    "        val_loss = criterion(output, target.unsqueeze(0))\n",
    "        val_epoch_loss.append(val_loss.data[0])\n",
    "    '''\n",
    "        if(epoch>=patience):\n",
    "            if(len(val_epoch_loss) % 4 == 0):\n",
    "                score = sum(val_epoch_loss[-4:])/len(val_epoch_loss[-4:])\n",
    "                if score <= best_score:\n",
    "                    best_score = score\n",
    "                    checks = 0\n",
    "                else:\n",
    "                    checks+=1\n",
    "\n",
    "                if (checks>=MAX_CHECKS):\n",
    "                    break\n",
    "                else:\n",
    "                    continue                \n",
    "                break\n",
    "            else:\n",
    "                continue\n",
    "            break\n",
    "        else:\n",
    "            continue\n",
    "        break\n",
    "    else:\n",
    "        continue\n",
    "    break\n",
    "'''\n",
    "torch.save(model.state_dict(), \"model_data\")\n",
    "torch.save(epoch_loss, \"loss\")\n",
    "torch.save(val_epoch_loss, \"validation loss\")\n",
    "\n",
    "print(\"Training and validation complete.\")"
   ]
  },
  {
   "cell_type": "code",
   "execution_count": null,
   "metadata": {
    "collapsed": true,
    "deletable": true,
    "editable": true
   },
   "outputs": [],
   "source": [
    "%matplotlib inline\n"
   ]
  },
  {
   "cell_type": "code",
   "execution_count": null,
   "metadata": {
    "collapsed": false,
    "deletable": true,
    "editable": true
   },
   "outputs": [],
   "source": [
    "in_img = val_inputs[650]\n",
    "in_img_avg = in_img[0]\n",
    "in_img_corr = in_img[1]\n",
    "tgt_img = val_targets[650]\n",
    "out_data = val_outputs[650]\n",
    "indicator  =  np.arange(out_data.shape[1]).reshape([1, -1, 1, 1])\n",
    "np.sum(out_data*indicator, axis=1)\n",
    "x = np.exp(out_data)\n",
    "res = x/x.sum(1)\n",
    "\n",
    "pos = np.argmax(res, axis=1)\n"
   ]
  },
  {
   "cell_type": "code",
   "execution_count": null,
   "metadata": {
    "collapsed": false,
    "deletable": true,
    "editable": true
   },
   "outputs": [],
   "source": [
    "%matplotlib inline\n",
    "plt.figure()\n",
    "\n",
    "plt.subplots(figsize=(12,12))\n",
    "\n",
    "avg = plt.subplot(221)\n",
    "corr = plt.subplot(222)\n",
    "tgt = plt.subplot(223)\n",
    "out = plt.subplot(224)\n",
    "\n",
    "avg.title.set_text(\"Average Image\")\n",
    "corr.title.set_text(\"Correlation Image\")\n",
    "tgt.title.set_text(\"Target Image\")\n",
    "out.title.set_text(\"Output Image\")\n",
    "\n",
    "avg.imshow(in_img_avg)\n",
    "corr.imshow(in_img_corr)\n",
    "tgt.imshow(tgt_img)\n",
    "out.imshow(pos.squeeze())\n",
    "\n",
    "\n",
    "\n",
    "plt.tight_layout()"
   ]
  },
  {
   "cell_type": "code",
   "execution_count": null,
   "metadata": {
    "collapsed": false,
    "deletable": true,
    "editable": true
   },
   "outputs": [],
   "source": [
    "np.unique(target.cpu().numpy())"
   ]
  },
  {
   "cell_type": "code",
   "execution_count": null,
   "metadata": {
    "collapsed": false,
    "deletable": true,
    "editable": true,
    "scrolled": true
   },
   "outputs": [],
   "source": [
    "label = vd\n",
    "fig = plt.figure(figsize=(12,12))\n",
    "plt.imshow(label)\n",
    "plt.colorbar()"
   ]
  },
  {
   "cell_type": "code",
   "execution_count": null,
   "metadata": {
    "collapsed": false,
    "deletable": true,
    "editable": true
   },
   "outputs": [],
   "source": [
    "val_outputs[-1].shape"
   ]
  },
  {
   "cell_type": "code",
   "execution_count": null,
   "metadata": {
    "collapsed": false,
    "deletable": true,
    "editable": true
   },
   "outputs": [],
   "source": [
    "plt.figure()\n",
    "fig, ax = plt.subplots(nrows=4,ncols=3, figsize=(12,12))\n",
    "ax[0][0].title.set_text(\"Target\")\n",
    "ax[0][1].title.set_text(\"Output\")\n",
    "ax[0][2].title.set_text(\"Overlap\")\n",
    "overlaps = []\n",
    "for i in range(len(tt_mod)):\n",
    "    ax[i][0].imshow(tt_mod[i])\n",
    "    \n",
    "for j in range(len(to_mod)):\n",
    "    ax[j][1].imshow(to_mod[j])\n",
    "    \n",
    "for k in range(len(to_mod)):\n",
    "    image = to_mod[k]\n",
    "    ol = np.zeros((len(image),len(image), 3))\n",
    "    for h in range(len(image)):\n",
    "        for w in range(len(image)):\n",
    "            ol[w][h][0]=val_targets[k][w][h]\n",
    "            ol[w][h][1]=image[w][h]\n",
    "    overlaps.append(ol)\n",
    "\n",
    "for o in range(len(overlaps)):\n",
    "    ax[o][2].imshow(overlaps[o])\n",
    "    \n",
    "\n",
    "plt.tight_layout\n"
   ]
  },
  {
   "cell_type": "code",
   "execution_count": null,
   "metadata": {
    "collapsed": false,
    "deletable": true,
    "editable": true
   },
   "outputs": [],
   "source": [
    "\n",
    "train_in = []\n",
    "train_tgt = []\n",
    "train_out = []\n",
    "for i in range(4):\n",
    "    r = randint(0,14)\n",
    "    train_in.append(torch.FloatTensor(tr[0][r].astype(float)).cuda())\n",
    "    train_tgt.append(torch.from_numpy(tr[1][r]).long())\n",
    "    "
   ]
  },
  {
   "cell_type": "code",
   "execution_count": null,
   "metadata": {
    "collapsed": false,
    "deletable": true,
    "editable": true
   },
   "outputs": [],
   "source": [
    "type(tr)"
   ]
  },
  {
   "cell_type": "code",
   "execution_count": null,
   "metadata": {
    "collapsed": false,
    "deletable": true,
    "editable": true
   },
   "outputs": [],
   "source": [
    "model.eval()\n",
    "for i in range(len(train_in)):\n",
    "    out = model(Variable(train_in[i]).unsqueeze(0))\n",
    "    train_out.append(out)"
   ]
  },
  {
   "cell_type": "code",
   "execution_count": null,
   "metadata": {
    "collapsed": false,
    "deletable": true,
    "editable": true
   },
   "outputs": [],
   "source": [
    "train_out[3]"
   ]
  },
  {
   "cell_type": "code",
   "execution_count": null,
   "metadata": {
    "collapsed": false,
    "deletable": true,
    "editable": true
   },
   "outputs": [],
   "source": [
    "train_out_mod = []\n",
    "for n in range(len(train_out)):\n",
    "    out_data = train_out[n].data.cpu().numpy()\n",
    "    indicator  =  np.arange(out_data.shape[1]).reshape([1, -1, 1, 1])\n",
    "    np.sum(out_data*indicator, axis=1)\n",
    "    x = np.exp(out_data)\n",
    "    res = x/x.sum(1)\n",
    "    pos = np.argmax(res, axis=1)\n",
    "    train_out_mod.append(pos.squeeze())"
   ]
  },
  {
   "cell_type": "code",
   "execution_count": null,
   "metadata": {
    "collapsed": false,
    "deletable": true,
    "editable": true
   },
   "outputs": [],
   "source": [
    "targets.max()"
   ]
  },
  {
   "cell_type": "code",
   "execution_count": null,
   "metadata": {
    "collapsed": false,
    "deletable": true,
    "editable": true
   },
   "outputs": [],
   "source": [
    "train_tgt"
   ]
  },
  {
   "cell_type": "code",
   "execution_count": null,
   "metadata": {
    "collapsed": false,
    "deletable": true,
    "editable": true
   },
   "outputs": [],
   "source": [
    "model"
   ]
  },
  {
   "cell_type": "code",
   "execution_count": null,
   "metadata": {
    "collapsed": false,
    "deletable": true,
    "editable": true
   },
   "outputs": [],
   "source": [
    "train_out_mod[1]"
   ]
  },
  {
   "cell_type": "code",
   "execution_count": null,
   "metadata": {
    "collapsed": false,
    "deletable": true,
    "editable": true
   },
   "outputs": [],
   "source": [
    "range(5)"
   ]
  },
  {
   "cell_type": "code",
   "execution_count": null,
   "metadata": {
    "collapsed": false,
    "deletable": true,
    "editable": true
   },
   "outputs": [],
   "source": [
    "plt.imshow(train_out_mod[0])"
   ]
  },
  {
   "cell_type": "code",
   "execution_count": null,
   "metadata": {
    "collapsed": false,
    "deletable": true,
    "editable": true
   },
   "outputs": [],
   "source": [
    "fig = plt.figure(figsize=(12,12))\n",
    "tgt = plt.subplot(221)\n",
    "op = plt.subplot(222)\n",
    "tgt.title.set_text(\"Target Image\")\n",
    "op.title.set_text(\"Output Image\")\n",
    "tgt.imshow(train_tgt[0].numpy())\n",
    "op.imshow(train_out_mod[0])\n"
   ]
  },
  {
   "cell_type": "code",
   "execution_count": null,
   "metadata": {
    "collapsed": false,
    "deletable": true,
    "editable": true
   },
   "outputs": [],
   "source": [
    "train_outputs[-1]"
   ]
  },
  {
   "cell_type": "code",
   "execution_count": null,
   "metadata": {
    "collapsed": false,
    "deletable": true,
    "editable": true
   },
   "outputs": [],
   "source": [
    "val_outputs"
   ]
  },
  {
   "cell_type": "code",
   "execution_count": null,
   "metadata": {
    "collapsed": false,
    "deletable": true,
    "editable": true
   },
   "outputs": [],
   "source": [
    "type(val)"
   ]
  },
  {
   "cell_type": "code",
   "execution_count": null,
   "metadata": {
    "collapsed": false,
    "deletable": true,
    "editable": true,
    "scrolled": true
   },
   "outputs": [],
   "source": [
    "fig = plt.figure(figsize=(20,20))\n",
    "plt.plot(val_epoch_loss)\n",
    "plt.plot(epoch_loss)\n",
    "\n",
    "plt.show()"
   ]
  },
  {
   "cell_type": "code",
   "execution_count": null,
   "metadata": {
    "collapsed": false,
    "deletable": true,
    "editable": true
   },
   "outputs": [],
   "source": [
    "len(latest_loss)"
   ]
  },
  {
   "cell_type": "code",
   "execution_count": null,
   "metadata": {
    "collapsed": false,
    "deletable": true,
    "editable": true
   },
   "outputs": [],
   "source": [
    "checks"
   ]
  },
  {
   "cell_type": "code",
   "execution_count": null,
   "metadata": {
    "collapsed": false,
    "deletable": true,
    "editable": true
   },
   "outputs": [],
   "source": [
    "latest_val_loss"
   ]
  },
  {
   "cell_type": "code",
   "execution_count": null,
   "metadata": {
    "collapsed": false,
    "deletable": true,
    "editable": true
   },
   "outputs": [],
   "source": [
    "enumerate(val_epoch_loss)"
   ]
  },
  {
   "cell_type": "code",
   "execution_count": null,
   "metadata": {
    "collapsed": true,
    "deletable": true,
    "editable": true
   },
   "outputs": [],
   "source": [
    "avg_ep = [epoch_loss[x:x+2] for x in range(0, len(epoch_loss), 2)]\n",
    "avg_val_ep = [val_epoch_loss[x:x+4] for x in range(0, len(val_epoch_loss), 4)]\n",
    "\n",
    "\n",
    "for i in range(len(avg_ep)):\n",
    "    avg_ep[i]=sum(avg_ep[i])/len(avg_ep[i])\n",
    "\n",
    "for i in range(len(avg_val_ep)):\n",
    "    avg_val_ep[i]=sum(avg_val_ep[i])/len(avg_val_ep[i])"
   ]
  },
  {
   "cell_type": "code",
   "execution_count": null,
   "metadata": {
    "collapsed": false,
    "deletable": true,
    "editable": true
   },
   "outputs": [],
   "source": [
    "fig = plt.figure(figsize=(12, 12))\n",
    "plt.plot(avg_val_ep)\n",
    "plt.plot(avg_ep)\n"
   ]
  },
  {
   "cell_type": "code",
   "execution_count": null,
   "metadata": {
    "collapsed": false,
    "deletable": true,
    "editable": true
   },
   "outputs": [],
   "source": [
    "best_score"
   ]
  },
  {
   "cell_type": "code",
   "execution_count": null,
   "metadata": {
    "collapsed": false,
    "deletable": true,
    "editable": true
   },
   "outputs": [],
   "source": [
    "for param in model.parameters():\n",
    "    print(param.data, param.size())"
   ]
  },
  {
   "cell_type": "code",
   "execution_count": null,
   "metadata": {
    "collapsed": false,
    "deletable": true,
    "editable": true
   },
   "outputs": [],
   "source": [
    "plt.show()"
   ]
  },
  {
   "cell_type": "code",
   "execution_count": null,
   "metadata": {
    "collapsed": false,
    "deletable": true,
    "editable": true
   },
   "outputs": [],
   "source": [
    "avg_val_ep.index(best_score)"
   ]
  },
  {
   "cell_type": "code",
   "execution_count": null,
   "metadata": {
    "collapsed": false,
    "deletable": true,
    "editable": true
   },
   "outputs": [],
   "source": [
    "sum(val_epoch_loss[72:76])/4"
   ]
  },
  {
   "cell_type": "code",
   "execution_count": null,
   "metadata": {
    "collapsed": false,
    "deletable": true,
    "editable": true
   },
   "outputs": [],
   "source": [
    "val_epoch_loss[75]"
   ]
  },
  {
   "cell_type": "code",
   "execution_count": null,
   "metadata": {
    "collapsed": false,
    "deletable": true,
    "editable": true
   },
   "outputs": [],
   "source": [
    "out_mod"
   ]
  },
  {
   "cell_type": "code",
   "execution_count": null,
   "metadata": {
    "collapsed": false,
    "deletable": true,
    "editable": true
   },
   "outputs": [],
   "source": [
    "out_mod[36:]"
   ]
  },
  {
   "cell_type": "code",
   "execution_count": null,
   "metadata": {
    "collapsed": false,
    "deletable": true,
    "editable": true
   },
   "outputs": [],
   "source": [
    "to_mod[0].max()"
   ]
  },
  {
   "cell_type": "code",
   "execution_count": null,
   "metadata": {
    "collapsed": false,
    "deletable": true,
    "editable": true
   },
   "outputs": [],
   "source": [
    "plt.imshow(pos.squeeze())"
   ]
  },
  {
   "cell_type": "code",
   "execution_count": null,
   "metadata": {
    "collapsed": true,
    "deletable": true,
    "editable": true
   },
   "outputs": [],
   "source": [
    "pos.squeeze()"
   ]
  },
  {
   "cell_type": "code",
   "execution_count": null,
   "metadata": {
    "collapsed": false,
    "deletable": true,
    "editable": true
   },
   "outputs": [],
   "source": [
    "range(0, len(val_epoch_loss),4)"
   ]
  },
  {
   "cell_type": "code",
   "execution_count": null,
   "metadata": {
    "collapsed": false,
    "deletable": true,
    "editable": true
   },
   "outputs": [],
   "source": [
    "val_epoch_loss[0:4]"
   ]
  },
  {
   "cell_type": "code",
   "execution_count": null,
   "metadata": {
    "collapsed": true,
    "deletable": true,
    "editable": true
   },
   "outputs": [],
   "source": [
    "f =[1,2,3,4]"
   ]
  },
  {
   "cell_type": "code",
   "execution_count": null,
   "metadata": {
    "collapsed": false,
    "deletable": true,
    "editable": true
   },
   "outputs": [],
   "source": [
    "len(f)%4"
   ]
  },
  {
   "cell_type": "code",
   "execution_count": null,
   "metadata": {
    "collapsed": false,
    "deletable": true,
    "editable": true
   },
   "outputs": [],
   "source": [
    "len(val_epoch_loss)"
   ]
  },
  {
   "cell_type": "code",
   "execution_count": null,
   "metadata": {
    "collapsed": false,
    "deletable": true,
    "editable": true
   },
   "outputs": [],
   "source": [
    "epoch"
   ]
  },
  {
   "cell_type": "code",
   "execution_count": null,
   "metadata": {
    "collapsed": false,
    "deletable": true,
    "editable": true
   },
   "outputs": [],
   "source": [
    "score"
   ]
  },
  {
   "cell_type": "code",
   "execution_count": null,
   "metadata": {
    "collapsed": true,
    "deletable": true,
    "editable": true
   },
   "outputs": [],
   "source": [
    "if (len(f) % 4 == 0):\n",
    "    temp = f[-4:]"
   ]
  },
  {
   "cell_type": "code",
   "execution_count": null,
   "metadata": {
    "collapsed": false,
    "deletable": true,
    "editable": true
   },
   "outputs": [],
   "source": [
    "temp"
   ]
  },
  {
   "cell_type": "code",
   "execution_count": null,
   "metadata": {
    "collapsed": false,
    "deletable": true,
    "editable": true
   },
   "outputs": [],
   "source": [
    "sum(temp)/len(temp)"
   ]
  },
  {
   "cell_type": "code",
   "execution_count": null,
   "metadata": {
    "collapsed": false,
    "deletable": true,
    "editable": true
   },
   "outputs": [],
   "source": [
    "sum(val_epoch_loss[-4:])/4"
   ]
  },
  {
   "cell_type": "code",
   "execution_count": null,
   "metadata": {
    "collapsed": false,
    "deletable": true,
    "editable": true
   },
   "outputs": [],
   "source": [
    "epoch"
   ]
  },
  {
   "cell_type": "code",
   "execution_count": null,
   "metadata": {
    "collapsed": false,
    "deletable": true,
    "editable": true
   },
   "outputs": [],
   "source": [
    "len(val_outputs)"
   ]
  },
  {
   "cell_type": "code",
   "execution_count": null,
   "metadata": {
    "collapsed": false,
    "deletable": true,
    "editable": true
   },
   "outputs": [],
   "source": [
    "552/4"
   ]
  },
  {
   "cell_type": "code",
   "execution_count": null,
   "metadata": {
    "collapsed": false,
    "deletable": true,
    "editable": true
   },
   "outputs": [],
   "source": [
    "epoch"
   ]
  },
  {
   "cell_type": "code",
   "execution_count": null,
   "metadata": {
    "collapsed": false,
    "deletable": true,
    "editable": true
   },
   "outputs": [],
   "source": [
    "best_score"
   ]
  },
  {
   "cell_type": "code",
   "execution_count": null,
   "metadata": {
    "collapsed": false,
    "deletable": true,
    "editable": true
   },
   "outputs": [],
   "source": [
    "min(avg_val_ep)"
   ]
  },
  {
   "cell_type": "code",
   "execution_count": null,
   "metadata": {
    "collapsed": false,
    "deletable": true,
    "editable": true
   },
   "outputs": [],
   "source": [
    "val_outputs[38]"
   ]
  },
  {
   "cell_type": "code",
   "execution_count": null,
   "metadata": {
    "collapsed": false,
    "deletable": true,
    "editable": true
   },
   "outputs": [],
   "source": [
    "fig = plt.figure(figsize=(12,12))\n",
    "%matplotlib inline\n",
    "plt.imshow(pos.squeeze())"
   ]
  },
  {
   "cell_type": "code",
   "execution_count": null,
   "metadata": {
    "collapsed": false,
    "deletable": true,
    "editable": true
   },
   "outputs": [],
   "source": [
    "len(val_epoch_loss)"
   ]
  },
  {
   "cell_type": "code",
   "execution_count": null,
   "metadata": {
    "collapsed": false,
    "deletable": true,
    "editable": true
   },
   "outputs": [],
   "source": [
    "len(val_outputs)"
   ]
  },
  {
   "cell_type": "code",
   "execution_count": null,
   "metadata": {
    "collapsed": false,
    "deletable": true,
    "editable": true
   },
   "outputs": [],
   "source": [
    "sum(val_epoch_loss[508:512])/4"
   ]
  },
  {
   "cell_type": "code",
   "execution_count": null,
   "metadata": {
    "collapsed": false,
    "deletable": true,
    "editable": true
   },
   "outputs": [],
   "source": [
    "checks"
   ]
  },
  {
   "cell_type": "code",
   "execution_count": null,
   "metadata": {
    "collapsed": false,
    "deletable": true,
    "editable": true
   },
   "outputs": [],
   "source": [
    "len(input)"
   ]
  },
  {
   "cell_type": "code",
   "execution_count": null,
   "metadata": {
    "collapsed": false,
    "deletable": true,
    "editable": true
   },
   "outputs": [],
   "source": [
    "train_outputs[-1].max()"
   ]
  },
  {
   "cell_type": "code",
   "execution_count": null,
   "metadata": {
    "collapsed": false,
    "deletable": true,
    "editable": true,
    "scrolled": false
   },
   "outputs": [],
   "source": [
    "v_out = train_out_part[64][0]\n",
    "\n",
    "indicator  =  np.arange(v_out.shape[1]).reshape([1, -1, 1, 1])\n",
    "np.sum(v_out*indicator, axis=1)\n",
    "x = np.exp(v_out)\n",
    "res = x/x.sum(1)\n",
    "out_mod = res.squeeze()\n",
    "\n",
    "true_out = np.zeros((len(out_mod[0]),len(out_mod[0]),3))\n",
    "\n",
    "for h in range(0, len(out_mod[0])):\n",
    "    for w in range(0, len(out_mod[0])):\n",
    "        true_out[w][h][0]=out_mod[0][w][h]\n",
    "        true_out[w][h][1]=out_mod[1][w][h]\n",
    "\n",
    "fig = plt.figure(figsize=(12, 12))\n",
    "plt.imshow(true_out)"
   ]
  },
  {
   "cell_type": "code",
   "execution_count": null,
   "metadata": {
    "collapsed": false,
    "deletable": true,
    "editable": true
   },
   "outputs": [],
   "source": [
    "train_outputs[16].shape"
   ]
  },
  {
   "cell_type": "code",
   "execution_count": null,
   "metadata": {
    "collapsed": false,
    "deletable": true,
    "editable": true
   },
   "outputs": [],
   "source": [
    "len(out_mod[0])"
   ]
  },
  {
   "cell_type": "code",
   "execution_count": null,
   "metadata": {
    "collapsed": false,
    "deletable": true,
    "editable": true
   },
   "outputs": [],
   "source": [
    "plt.imshow(val_targets[74])"
   ]
  },
  {
   "cell_type": "code",
   "execution_count": null,
   "metadata": {
    "collapsed": false,
    "deletable": true,
    "editable": true
   },
   "outputs": [],
   "source": [
    "in_img = val_inputs[74]\n",
    "in_img_avg = in_img[0]\n",
    "in_img_corr = in_img[1]\n",
    "tgt_img = val_targets[74]\n",
    "\n",
    "plt.figure()\n",
    "\n",
    "plt.subplots(figsize=(12,12))\n",
    "\n",
    "avg = plt.subplot(221)\n",
    "corr = plt.subplot(222)\n",
    "tgt = plt.subplot(223)\n",
    "out = plt.subplot(224)\n",
    "\n",
    "avg.title.set_text(\"Average Image\")\n",
    "corr.title.set_text(\"Correlation Image\")\n",
    "tgt.title.set_text(\"Target Image\")\n",
    "out.title.set_text(\"Output Image\")\n",
    "\n",
    "avg.imshow(in_img_avg)\n",
    "corr.imshow(in_img_corr)\n",
    "tgt.imshow(tgt_img)\n",
    "out.imshow(true_out)\n"
   ]
  },
  {
   "cell_type": "code",
   "execution_count": 5,
   "metadata": {
    "collapsed": false,
    "deletable": true,
    "editable": true
   },
   "outputs": [
    {
     "data": {
      "text/plain": [
       "4000"
      ]
     },
     "execution_count": 5,
     "metadata": {},
     "output_type": "execute_result"
    }
   ],
   "source": [
    "len(epoch_loss)"
   ]
  },
  {
   "cell_type": "code",
   "execution_count": null,
   "metadata": {
    "collapsed": false,
    "deletable": true,
    "editable": true
   },
   "outputs": [],
   "source": [
    "val_out_part = [val_outputs[x:x+4] for x in range(0, len(val_outputs), 4)]"
   ]
  },
  {
   "cell_type": "code",
   "execution_count": null,
   "metadata": {
    "collapsed": false,
    "deletable": true,
    "editable": true
   },
   "outputs": [],
   "source": [
    "len(train_outputs)"
   ]
  },
  {
   "cell_type": "code",
   "execution_count": null,
   "metadata": {
    "collapsed": false,
    "deletable": true,
    "editable": true
   },
   "outputs": [],
   "source": [
    "train_out_part = [train_outputs[x:x+2] for x in range(0, len(train_outputs), 2)]"
   ]
  },
  {
   "cell_type": "code",
   "execution_count": 6,
   "metadata": {
    "collapsed": false,
    "deletable": true,
    "editable": true
   },
   "outputs": [
    {
     "ename": "MemoryError",
     "evalue": "",
     "output_type": "error",
     "traceback": [
      "\u001b[0;31m---------------------------------------------------------------------------\u001b[0m",
      "\u001b[0;31mMemoryError\u001b[0m                               Traceback (most recent call last)",
      "\u001b[0;32m<ipython-input-6-218ce6800103>\u001b[0m in \u001b[0;36m<module>\u001b[0;34m()\u001b[0m\n\u001b[0;32m----> 1\u001b[0;31m \u001b[0mtorch\u001b[0m\u001b[0;34m.\u001b[0m\u001b[0msave\u001b[0m\u001b[0;34m(\u001b[0m\u001b[0mval_outputs\u001b[0m\u001b[0;34m,\u001b[0m \u001b[0;34m\"val_outputs\"\u001b[0m\u001b[0;34m)\u001b[0m\u001b[0;34m\u001b[0m\u001b[0m\n\u001b[0m\u001b[1;32m      2\u001b[0m \u001b[0mtorch\u001b[0m\u001b[0;34m.\u001b[0m\u001b[0msave\u001b[0m\u001b[0;34m(\u001b[0m\u001b[0mtrain_outputs\u001b[0m\u001b[0;34m,\u001b[0m \u001b[0;34m\"train_outputs\"\u001b[0m\u001b[0;34m)\u001b[0m\u001b[0;34m\u001b[0m\u001b[0m\n",
      "\u001b[0;32m/usr/local/lib/python3.5/dist-packages/torch/serialization.py\u001b[0m in \u001b[0;36msave\u001b[0;34m(obj, f, pickle_module, pickle_protocol)\u001b[0m\n\u001b[1;32m    118\u001b[0m         \u001b[0mf\u001b[0m \u001b[0;34m=\u001b[0m \u001b[0mopen\u001b[0m\u001b[0;34m(\u001b[0m\u001b[0mf\u001b[0m\u001b[0;34m,\u001b[0m \u001b[0;34m\"wb\"\u001b[0m\u001b[0;34m)\u001b[0m\u001b[0;34m\u001b[0m\u001b[0m\n\u001b[1;32m    119\u001b[0m     \u001b[0;32mtry\u001b[0m\u001b[0;34m:\u001b[0m\u001b[0;34m\u001b[0m\u001b[0m\n\u001b[0;32m--> 120\u001b[0;31m         \u001b[0;32mreturn\u001b[0m \u001b[0m_save\u001b[0m\u001b[0;34m(\u001b[0m\u001b[0mobj\u001b[0m\u001b[0;34m,\u001b[0m \u001b[0mf\u001b[0m\u001b[0;34m,\u001b[0m \u001b[0mpickle_module\u001b[0m\u001b[0;34m,\u001b[0m \u001b[0mpickle_protocol\u001b[0m\u001b[0;34m)\u001b[0m\u001b[0;34m\u001b[0m\u001b[0m\n\u001b[0m\u001b[1;32m    121\u001b[0m     \u001b[0;32mfinally\u001b[0m\u001b[0;34m:\u001b[0m\u001b[0;34m\u001b[0m\u001b[0m\n\u001b[1;32m    122\u001b[0m         \u001b[0;32mif\u001b[0m \u001b[0mnew_fd\u001b[0m\u001b[0;34m:\u001b[0m\u001b[0;34m\u001b[0m\u001b[0m\n",
      "\u001b[0;32m/usr/local/lib/python3.5/dist-packages/torch/serialization.py\u001b[0m in \u001b[0;36m_save\u001b[0;34m(obj, f, pickle_module, pickle_protocol)\u001b[0m\n\u001b[1;32m    184\u001b[0m     \u001b[0mpickler\u001b[0m \u001b[0;34m=\u001b[0m \u001b[0mpickle_module\u001b[0m\u001b[0;34m.\u001b[0m\u001b[0mPickler\u001b[0m\u001b[0;34m(\u001b[0m\u001b[0mf\u001b[0m\u001b[0;34m,\u001b[0m \u001b[0mprotocol\u001b[0m\u001b[0;34m=\u001b[0m\u001b[0mpickle_protocol\u001b[0m\u001b[0;34m)\u001b[0m\u001b[0;34m\u001b[0m\u001b[0m\n\u001b[1;32m    185\u001b[0m     \u001b[0mpickler\u001b[0m\u001b[0;34m.\u001b[0m\u001b[0mpersistent_id\u001b[0m \u001b[0;34m=\u001b[0m \u001b[0mpersistent_id\u001b[0m\u001b[0;34m\u001b[0m\u001b[0m\n\u001b[0;32m--> 186\u001b[0;31m     \u001b[0mpickler\u001b[0m\u001b[0;34m.\u001b[0m\u001b[0mdump\u001b[0m\u001b[0;34m(\u001b[0m\u001b[0mobj\u001b[0m\u001b[0;34m)\u001b[0m\u001b[0;34m\u001b[0m\u001b[0m\n\u001b[0m\u001b[1;32m    187\u001b[0m \u001b[0;34m\u001b[0m\u001b[0m\n\u001b[1;32m    188\u001b[0m     \u001b[0mserialized_storage_keys\u001b[0m \u001b[0;34m=\u001b[0m \u001b[0msorted\u001b[0m\u001b[0;34m(\u001b[0m\u001b[0mserialized_storages\u001b[0m\u001b[0;34m.\u001b[0m\u001b[0mkeys\u001b[0m\u001b[0;34m(\u001b[0m\u001b[0;34m)\u001b[0m\u001b[0;34m)\u001b[0m\u001b[0;34m\u001b[0m\u001b[0m\n",
      "\u001b[0;31mMemoryError\u001b[0m: "
     ]
    }
   ],
   "source": [
    "torch.save(val_outputs, \"val_outputs\")\n",
    "torch.save(train_outputs, \"train_outputs\")"
   ]
  },
  {
   "cell_type": "code",
   "execution_count": null,
   "metadata": {
    "collapsed": false,
    "deletable": true,
    "editable": true
   },
   "outputs": [],
   "source": [
    "len(train_in_part[25])"
   ]
  },
  {
   "cell_type": "code",
   "execution_count": null,
   "metadata": {
    "collapsed": false,
    "deletable": true,
    "editable": true
   },
   "outputs": [],
   "source": [
    "show_val_1 = []\n",
    "show_val_2 = []\n",
    "show_train_1 = []\n",
    "show_train_2 = []"
   ]
  },
  {
   "cell_type": "code",
   "execution_count": null,
   "metadata": {
    "collapsed": false,
    "deletable": true,
    "editable": true
   },
   "outputs": [],
   "source": [
    "ax[0][0].imshow(true_out)\n"
   ]
  },
  {
   "cell_type": "code",
   "execution_count": null,
   "metadata": {
    "collapsed": true,
    "deletable": true,
    "editable": true
   },
   "outputs": [],
   "source": [
    "%matplotlib inline"
   ]
  },
  {
   "cell_type": "code",
   "execution_count": null,
   "metadata": {
    "collapsed": true,
    "deletable": true,
    "editable": true
   },
   "outputs": [],
   "source": [
    "for i in range(0, 1000, 100):\n",
    "    v_out = val_out_part[i][0]\n",
    "\n",
    "    indicator  =  np.arange(v_out.shape[1]).reshape([1, -1, 1, 1])\n",
    "    np.sum(v_out*indicator, axis=1)\n",
    "    x = np.exp(v_out)\n",
    "    res = x/x.sum(1)\n",
    "    out_mod = res.squeeze()\n",
    "\n",
    "    true_out = np.zeros((len(out_mod[0]),len(out_mod[0]),3))\n",
    "\n",
    "    for h in range(0, len(out_mod[0])):\n",
    "        for w in range(0, len(out_mod[0])):\n",
    "            true_out[w][h][0]=out_mod[0][w][h]\n",
    "            true_out[w][h][1]=out_mod[1][w][h]\n",
    "\n",
    "    show_val_1.append(true_out)\n",
    "    show_val_2.append(np.argmax(res, axis=1).squeeze())"
   ]
  },
  {
   "cell_type": "code",
   "execution_count": null,
   "metadata": {
    "collapsed": false,
    "deletable": true,
    "editable": true
   },
   "outputs": [],
   "source": [
    "len(show_val_1)"
   ]
  },
  {
   "cell_type": "code",
   "execution_count": null,
   "metadata": {
    "collapsed": true,
    "deletable": true,
    "editable": true
   },
   "outputs": [],
   "source": [
    "del(show_outputs_1, show_outputs_2)"
   ]
  },
  {
   "cell_type": "code",
   "execution_count": null,
   "metadata": {
    "collapsed": false,
    "deletable": true,
    "editable": true
   },
   "outputs": [],
   "source": [
    "train_inputs[16].shape"
   ]
  },
  {
   "cell_type": "code",
   "execution_count": null,
   "metadata": {
    "collapsed": false,
    "deletable": true,
    "editable": true
   },
   "outputs": [],
   "source": [
    "len(train_outputs)"
   ]
  },
  {
   "cell_type": "code",
   "execution_count": null,
   "metadata": {
    "collapsed": false,
    "deletable": true,
    "editable": true
   },
   "outputs": [],
   "source": []
  },
  {
   "cell_type": "code",
   "execution_count": null,
   "metadata": {
    "collapsed": false,
    "deletable": true,
    "editable": true
   },
   "outputs": [],
   "source": []
  },
  {
   "cell_type": "code",
   "execution_count": null,
   "metadata": {
    "collapsed": true,
    "deletable": true,
    "editable": true
   },
   "outputs": [],
   "source": [
    "test = [train_outputs[x:x+30] for x in range(0, len(train_outputs), 30)]"
   ]
  },
  {
   "cell_type": "code",
   "execution_count": null,
   "metadata": {
    "collapsed": false,
    "deletable": true,
    "editable": true
   },
   "outputs": [],
   "source": [
    "del(test)"
   ]
  },
  {
   "cell_type": "code",
   "execution_count": null,
   "metadata": {
    "collapsed": true,
    "deletable": true,
    "editable": true
   },
   "outputs": [],
   "source": [
    "for i in range(0, 1000, 100):\n",
    "    v_out = train_out_part[i][0]\n",
    "\n",
    "    indicator  =  np.arange(v_out.shape[1]).reshape([1, -1, 1, 1])\n",
    "    np.sum(v_out*indicator, axis=1)\n",
    "    x = np.exp(v_out)\n",
    "    res = x/x.sum(1)\n",
    "    out_mod = res.squeeze()\n",
    "\n",
    "    true_out = np.zeros((len(out_mod[0]),len(out_mod[0]),3))\n",
    "\n",
    "    for h in range(0, len(out_mod[0])):\n",
    "        for w in range(0, len(out_mod[0])):\n",
    "            true_out[w][h][0]=out_mod[0][w][h]\n",
    "            true_out[w][h][1]=out_mod[1][w][h]\n",
    "\n",
    "    show_train_1.append(true_out)\n",
    "    show_train_2.append(np.argmax(res, axis=1).squeeze())"
   ]
  },
  {
   "cell_type": "code",
   "execution_count": null,
   "metadata": {
    "collapsed": false,
    "deletable": true,
    "editable": true
   },
   "outputs": [],
   "source": [
    "show_train_1"
   ]
  },
  {
   "cell_type": "code",
   "execution_count": null,
   "metadata": {
    "collapsed": false,
    "deletable": true,
    "editable": true
   },
   "outputs": [],
   "source": [
    "plt.imshow(show_train_2[1])"
   ]
  },
  {
   "cell_type": "code",
   "execution_count": null,
   "metadata": {
    "collapsed": false,
    "deletable": true,
    "editable": true
   },
   "outputs": [],
   "source": [
    "plt.figure()\n",
    "fig, ax = plt.subplots(nrows=4, ncols=10, figsize=(20,20))\n"
   ]
  },
  {
   "cell_type": "code",
   "execution_count": null,
   "metadata": {
    "collapsed": false,
    "deletable": true,
    "editable": true
   },
   "outputs": [],
   "source": [
    "for i in range(0, len(show_val_1)):\n",
    "    ax[0][i].imshow(show_val_1[i])\n",
    "    ax[1][i].imshow(show_val_2[i])\n",
    "    ax[2][i].imshow(show_train_1[i])\n",
    "    ax[3][i].imshow(show_train_2[i])\n",
    "plt.tight_layout"
   ]
  },
  {
   "cell_type": "code",
   "execution_count": null,
   "metadata": {
    "collapsed": false,
    "deletable": true,
    "editable": true
   },
   "outputs": [],
   "source": [
    "len(show_train_1)"
   ]
  },
  {
   "cell_type": "code",
   "execution_count": null,
   "metadata": {
    "collapsed": true,
    "deletable": true,
    "editable": true
   },
   "outputs": [],
   "source": [
    "%matplotlib inline"
   ]
  },
  {
   "cell_type": "code",
   "execution_count": null,
   "metadata": {
    "collapsed": false,
    "deletable": true,
    "editable": true
   },
   "outputs": [],
   "source": [
    "fig"
   ]
  },
  {
   "cell_type": "code",
   "execution_count": null,
   "metadata": {
    "collapsed": false,
    "deletable": true,
    "editable": true
   },
   "outputs": [],
   "source": []
  },
  {
   "cell_type": "code",
   "execution_count": null,
   "metadata": {
    "collapsed": false,
    "deletable": true,
    "editable": true
   },
   "outputs": [],
   "source": [
    "for j in range(10):\n",
    "    for i in range(4):\n",
    "        ax[i][j].title.set_text(100*j)"
   ]
  },
  {
   "cell_type": "code",
   "execution_count": null,
   "metadata": {
    "collapsed": false,
    "deletable": true,
    "editable": true
   },
   "outputs": [],
   "source": [
    "fig"
   ]
  },
  {
   "cell_type": "code",
   "execution_count": null,
   "metadata": {
    "collapsed": false,
    "deletable": true,
    "editable": true
   },
   "outputs": [],
   "source": [
    "torch"
   ]
  },
  {
   "cell_type": "code",
   "execution_count": null,
   "metadata": {
    "collapsed": true,
    "deletable": true,
    "editable": true
   },
   "outputs": [],
   "source": []
  }
 ],
 "metadata": {
  "kernelspec": {
   "display_name": "Python 3",
   "language": "python",
   "name": "python3"
  },
  "language_info": {
   "codemirror_mode": {
    "name": "ipython",
    "version": 3
   },
   "file_extension": ".py",
   "mimetype": "text/x-python",
   "name": "python",
   "nbconvert_exporter": "python",
   "pygments_lexer": "ipython3",
   "version": "3.5.2"
  }
 },
 "nbformat": 4,
 "nbformat_minor": 0
}
